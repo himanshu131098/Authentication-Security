{
  "nbformat": 4,
  "nbformat_minor": 0,
  "metadata": {
    "colab": {
      "provenance": [],
      "authorship_tag": "ABX9TyPUeXfgRxqKLnrQxaW1Xl2P",
      "include_colab_link": true
    },
    "kernelspec": {
      "name": "python3",
      "display_name": "Python 3"
    },
    "language_info": {
      "name": "python"
    }
  },
  "cells": [
    {
      "cell_type": "markdown",
      "metadata": {
        "id": "view-in-github",
        "colab_type": "text"
      },
      "source": [
        "<a href=\"https://colab.research.google.com/github/himanshu131098/Authentication-Security/blob/master/Project_ME8813_2.ipynb\" target=\"_parent\"><img src=\"https://colab.research.google.com/assets/colab-badge.svg\" alt=\"Open In Colab\"/></a>"
      ]
    },
    {
      "cell_type": "markdown",
      "source": [
        "# Anomaly Detection in the Power Transformers of Nuclear Power Plants using Multiclass classifier"
      ],
      "metadata": {
        "id": "9P5uJkiBaoys"
      }
    },
    {
      "cell_type": "markdown",
      "source": [
        "## Import Python Packages"
      ],
      "metadata": {
        "id": "J-Hsg92bapg3"
      }
    },
    {
      "cell_type": "code",
      "source": [
        "!pip install tsfresh"
      ],
      "metadata": {
        "colab": {
          "base_uri": "https://localhost:8080/"
        },
        "id": "SbAld7QBa85F",
        "outputId": "1b74834d-9194-4760-d851-f8a7ab328e3e"
      },
      "execution_count": 1,
      "outputs": [
        {
          "output_type": "stream",
          "name": "stdout",
          "text": [
            "Looking in indexes: https://pypi.org/simple, https://us-python.pkg.dev/colab-wheels/public/simple/\n",
            "Collecting tsfresh\n",
            "  Downloading tsfresh-0.20.0-py2.py3-none-any.whl (98 kB)\n",
            "\u001b[2K     \u001b[90m━━━━━━━━━━━━━━━━━━━━━━━━━━━━━━━━━━━━━━━━\u001b[0m \u001b[32m98.2/98.2 kB\u001b[0m \u001b[31m3.1 MB/s\u001b[0m eta \u001b[36m0:00:00\u001b[0m\n",
            "\u001b[?25hCollecting stumpy>=1.7.2\n",
            "  Downloading stumpy-1.11.1-py3-none-any.whl (136 kB)\n",
            "\u001b[2K     \u001b[90m━━━━━━━━━━━━━━━━━━━━━━━━━━━━━━━━━━━━━━━\u001b[0m \u001b[32m136.2/136.2 kB\u001b[0m \u001b[31m7.4 MB/s\u001b[0m eta \u001b[36m0:00:00\u001b[0m\n",
            "\u001b[?25hRequirement already satisfied: dask[dataframe]>=2.9.0 in /usr/local/lib/python3.9/dist-packages (from tsfresh) (2022.12.1)\n",
            "Requirement already satisfied: scipy>=1.2.0 in /usr/local/lib/python3.9/dist-packages (from tsfresh) (1.10.1)\n",
            "Requirement already satisfied: numpy>=1.15.1 in /usr/local/lib/python3.9/dist-packages (from tsfresh) (1.22.4)\n",
            "Requirement already satisfied: patsy>=0.4.1 in /usr/local/lib/python3.9/dist-packages (from tsfresh) (0.5.3)\n",
            "Requirement already satisfied: cloudpickle in /usr/local/lib/python3.9/dist-packages (from tsfresh) (2.2.1)\n",
            "Requirement already satisfied: requests>=2.9.1 in /usr/local/lib/python3.9/dist-packages (from tsfresh) (2.27.1)\n",
            "Requirement already satisfied: tqdm>=4.10.0 in /usr/local/lib/python3.9/dist-packages (from tsfresh) (4.65.0)\n",
            "Requirement already satisfied: distributed>=2.11.0 in /usr/local/lib/python3.9/dist-packages (from tsfresh) (2022.12.1)\n",
            "Requirement already satisfied: statsmodels>=0.13 in /usr/local/lib/python3.9/dist-packages (from tsfresh) (0.13.5)\n",
            "Requirement already satisfied: scikit-learn>=0.22.0 in /usr/local/lib/python3.9/dist-packages (from tsfresh) (1.2.2)\n",
            "Requirement already satisfied: pandas>=0.25.0 in /usr/local/lib/python3.9/dist-packages (from tsfresh) (1.5.3)\n",
            "Requirement already satisfied: partd>=0.3.10 in /usr/local/lib/python3.9/dist-packages (from dask[dataframe]>=2.9.0->tsfresh) (1.4.0)\n",
            "Requirement already satisfied: toolz>=0.8.2 in /usr/local/lib/python3.9/dist-packages (from dask[dataframe]>=2.9.0->tsfresh) (0.12.0)\n",
            "Requirement already satisfied: pyyaml>=5.3.1 in /usr/local/lib/python3.9/dist-packages (from dask[dataframe]>=2.9.0->tsfresh) (6.0)\n",
            "Requirement already satisfied: click>=7.0 in /usr/local/lib/python3.9/dist-packages (from dask[dataframe]>=2.9.0->tsfresh) (8.1.3)\n",
            "Requirement already satisfied: packaging>=20.0 in /usr/local/lib/python3.9/dist-packages (from dask[dataframe]>=2.9.0->tsfresh) (23.1)\n",
            "Requirement already satisfied: fsspec>=0.6.0 in /usr/local/lib/python3.9/dist-packages (from dask[dataframe]>=2.9.0->tsfresh) (2023.4.0)\n",
            "Requirement already satisfied: sortedcontainers!=2.0.0,!=2.0.1 in /usr/local/lib/python3.9/dist-packages (from distributed>=2.11.0->tsfresh) (2.4.0)\n",
            "Requirement already satisfied: tblib>=1.6.0 in /usr/local/lib/python3.9/dist-packages (from distributed>=2.11.0->tsfresh) (1.7.0)\n",
            "Requirement already satisfied: jinja2 in /usr/local/lib/python3.9/dist-packages (from distributed>=2.11.0->tsfresh) (3.1.2)\n",
            "Requirement already satisfied: urllib3 in /usr/local/lib/python3.9/dist-packages (from distributed>=2.11.0->tsfresh) (1.26.15)\n",
            "Requirement already satisfied: zict>=0.1.3 in /usr/local/lib/python3.9/dist-packages (from distributed>=2.11.0->tsfresh) (2.2.0)\n",
            "Requirement already satisfied: tornado>=6.0.3 in /usr/local/lib/python3.9/dist-packages (from distributed>=2.11.0->tsfresh) (6.2)\n",
            "Requirement already satisfied: psutil>=5.0 in /usr/local/lib/python3.9/dist-packages (from distributed>=2.11.0->tsfresh) (5.9.5)\n",
            "Requirement already satisfied: msgpack>=0.6.0 in /usr/local/lib/python3.9/dist-packages (from distributed>=2.11.0->tsfresh) (1.0.5)\n",
            "Requirement already satisfied: locket>=1.0.0 in /usr/local/lib/python3.9/dist-packages (from distributed>=2.11.0->tsfresh) (1.0.0)\n",
            "Requirement already satisfied: python-dateutil>=2.8.1 in /usr/local/lib/python3.9/dist-packages (from pandas>=0.25.0->tsfresh) (2.8.2)\n",
            "Requirement already satisfied: pytz>=2020.1 in /usr/local/lib/python3.9/dist-packages (from pandas>=0.25.0->tsfresh) (2022.7.1)\n",
            "Requirement already satisfied: six in /usr/local/lib/python3.9/dist-packages (from patsy>=0.4.1->tsfresh) (1.16.0)\n",
            "Requirement already satisfied: charset-normalizer~=2.0.0 in /usr/local/lib/python3.9/dist-packages (from requests>=2.9.1->tsfresh) (2.0.12)\n",
            "Requirement already satisfied: certifi>=2017.4.17 in /usr/local/lib/python3.9/dist-packages (from requests>=2.9.1->tsfresh) (2022.12.7)\n",
            "Requirement already satisfied: idna<4,>=2.5 in /usr/local/lib/python3.9/dist-packages (from requests>=2.9.1->tsfresh) (3.4)\n",
            "Requirement already satisfied: threadpoolctl>=2.0.0 in /usr/local/lib/python3.9/dist-packages (from scikit-learn>=0.22.0->tsfresh) (3.1.0)\n",
            "Requirement already satisfied: joblib>=1.1.1 in /usr/local/lib/python3.9/dist-packages (from scikit-learn>=0.22.0->tsfresh) (1.2.0)\n",
            "Requirement already satisfied: numba>=0.54 in /usr/local/lib/python3.9/dist-packages (from stumpy>=1.7.2->tsfresh) (0.56.4)\n",
            "Requirement already satisfied: llvmlite<0.40,>=0.39.0dev0 in /usr/local/lib/python3.9/dist-packages (from numba>=0.54->stumpy>=1.7.2->tsfresh) (0.39.1)\n",
            "Requirement already satisfied: setuptools in /usr/local/lib/python3.9/dist-packages (from numba>=0.54->stumpy>=1.7.2->tsfresh) (67.6.1)\n",
            "Requirement already satisfied: heapdict in /usr/local/lib/python3.9/dist-packages (from zict>=0.1.3->distributed>=2.11.0->tsfresh) (1.0.1)\n",
            "Requirement already satisfied: MarkupSafe>=2.0 in /usr/local/lib/python3.9/dist-packages (from jinja2->distributed>=2.11.0->tsfresh) (2.1.2)\n",
            "Installing collected packages: stumpy, tsfresh\n",
            "Successfully installed stumpy-1.11.1 tsfresh-0.20.0\n"
          ]
        }
      ]
    },
    {
      "cell_type": "code",
      "source": [
        "!pip install mlxtend --upgrade"
      ],
      "metadata": {
        "colab": {
          "base_uri": "https://localhost:8080/",
          "height": 661
        },
        "id": "37snTOFglCFP",
        "outputId": "c09b2e1e-dfe1-45ac-e08d-769238440af8"
      },
      "execution_count": 129,
      "outputs": [
        {
          "output_type": "stream",
          "name": "stdout",
          "text": [
            "Looking in indexes: https://pypi.org/simple, https://us-python.pkg.dev/colab-wheels/public/simple/\n",
            "Requirement already satisfied: mlxtend in /usr/local/lib/python3.9/dist-packages (0.14.0)\n",
            "Collecting mlxtend\n",
            "  Downloading mlxtend-0.22.0-py2.py3-none-any.whl (1.4 MB)\n",
            "\u001b[2K     \u001b[90m━━━━━━━━━━━━━━━━━━━━━━━━━━━━━━━━━━━━━━━━\u001b[0m \u001b[32m1.4/1.4 MB\u001b[0m \u001b[31m17.9 MB/s\u001b[0m eta \u001b[36m0:00:00\u001b[0m\n",
            "\u001b[?25hRequirement already satisfied: numpy>=1.16.2 in /usr/local/lib/python3.9/dist-packages (from mlxtend) (1.22.4)\n",
            "Requirement already satisfied: setuptools in /usr/local/lib/python3.9/dist-packages (from mlxtend) (67.6.1)\n",
            "Requirement already satisfied: joblib>=0.13.2 in /usr/local/lib/python3.9/dist-packages (from mlxtend) (1.2.0)\n",
            "Requirement already satisfied: matplotlib>=3.0.0 in /usr/local/lib/python3.9/dist-packages (from mlxtend) (3.7.1)\n",
            "Requirement already satisfied: pandas>=0.24.2 in /usr/local/lib/python3.9/dist-packages (from mlxtend) (1.5.3)\n",
            "Requirement already satisfied: scikit-learn>=1.0.2 in /usr/local/lib/python3.9/dist-packages (from mlxtend) (1.2.2)\n",
            "Requirement already satisfied: scipy>=1.2.1 in /usr/local/lib/python3.9/dist-packages (from mlxtend) (1.10.1)\n",
            "Requirement already satisfied: kiwisolver>=1.0.1 in /usr/local/lib/python3.9/dist-packages (from matplotlib>=3.0.0->mlxtend) (1.4.4)\n",
            "Requirement already satisfied: pyparsing>=2.3.1 in /usr/local/lib/python3.9/dist-packages (from matplotlib>=3.0.0->mlxtend) (3.0.9)\n",
            "Requirement already satisfied: pillow>=6.2.0 in /usr/local/lib/python3.9/dist-packages (from matplotlib>=3.0.0->mlxtend) (8.4.0)\n",
            "Requirement already satisfied: contourpy>=1.0.1 in /usr/local/lib/python3.9/dist-packages (from matplotlib>=3.0.0->mlxtend) (1.0.7)\n",
            "Requirement already satisfied: importlib-resources>=3.2.0 in /usr/local/lib/python3.9/dist-packages (from matplotlib>=3.0.0->mlxtend) (5.12.0)\n",
            "Requirement already satisfied: fonttools>=4.22.0 in /usr/local/lib/python3.9/dist-packages (from matplotlib>=3.0.0->mlxtend) (4.39.3)\n",
            "Requirement already satisfied: packaging>=20.0 in /usr/local/lib/python3.9/dist-packages (from matplotlib>=3.0.0->mlxtend) (23.1)\n",
            "Requirement already satisfied: cycler>=0.10 in /usr/local/lib/python3.9/dist-packages (from matplotlib>=3.0.0->mlxtend) (0.11.0)\n",
            "Requirement already satisfied: python-dateutil>=2.7 in /usr/local/lib/python3.9/dist-packages (from matplotlib>=3.0.0->mlxtend) (2.8.2)\n",
            "Requirement already satisfied: pytz>=2020.1 in /usr/local/lib/python3.9/dist-packages (from pandas>=0.24.2->mlxtend) (2022.7.1)\n",
            "Requirement already satisfied: threadpoolctl>=2.0.0 in /usr/local/lib/python3.9/dist-packages (from scikit-learn>=1.0.2->mlxtend) (3.1.0)\n",
            "Requirement already satisfied: zipp>=3.1.0 in /usr/local/lib/python3.9/dist-packages (from importlib-resources>=3.2.0->matplotlib>=3.0.0->mlxtend) (3.15.0)\n",
            "Requirement already satisfied: six>=1.5 in /usr/local/lib/python3.9/dist-packages (from python-dateutil>=2.7->matplotlib>=3.0.0->mlxtend) (1.16.0)\n",
            "Installing collected packages: mlxtend\n",
            "  Attempting uninstall: mlxtend\n",
            "    Found existing installation: mlxtend 0.14.0\n",
            "    Uninstalling mlxtend-0.14.0:\n",
            "      Successfully uninstalled mlxtend-0.14.0\n",
            "Successfully installed mlxtend-0.22.0\n"
          ]
        },
        {
          "output_type": "display_data",
          "data": {
            "application/vnd.colab-display-data+json": {
              "pip_warning": {
                "packages": [
                  "mlxtend"
                ]
              }
            }
          },
          "metadata": {}
        }
      ]
    },
    {
      "cell_type": "code",
      "execution_count": null,
      "metadata": {
        "id": "dbpkcDYTaUgx"
      },
      "outputs": [],
      "source": [
        "import numpy as np\n",
        "import matplotlib.pyplot as plt\n",
        "from matplotlib.colors import LogNorm\n",
        "import pandas as pd\n",
        "import seaborn as sns\n",
        "from tsfresh import extract_relevant_features\n",
        "from tsfresh.feature_extraction import EfficientFCParameters\n",
        "from sklearn.feature_selection import SelectKBest\n",
        "from sklearn.feature_selection import f_regression\n",
        "from sklearn.preprocessing import MinMaxScaler\n",
        "from sklearn.decomposition import PCA\n",
        "from sklearn.model_selection import train_test_split\n",
        "from sklearn.tree import DecisionTreeClassifier\n",
        "from sklearn.neighbors import KNeighborsClassifier\n",
        "from sklearn.svm import SVC\n",
        "from sklearn.linear_model import LogisticRegression\n",
        "from sklearn.naive_bayes import GaussianNB\n",
        "from sklearn.ensemble import RandomForestClassifier\n",
        "import lightgbm as lgb\n",
        "from sklearn.metrics import classification_report, confusion_matrix, accuracy_score\n",
        "from mlxtend.plotting import plot_confusion_matrix"
      ]
    },
    {
      "cell_type": "markdown",
      "source": [
        "## Import the datasets"
      ],
      "metadata": {
        "id": "mlSmdgPabMI8"
      }
    },
    {
      "cell_type": "code",
      "source": [
        "X_df = pd.read_csv('X_data.csv')\n",
        "y_df = pd.read_csv('y_data.csv', index_col=0, header=None).squeeze(\"columns\")\n",
        "y_df = y_df.tail(-1) "
      ],
      "metadata": {
        "id": "BW4u7MV4bOeK"
      },
      "execution_count": 3,
      "outputs": []
    },
    {
      "cell_type": "markdown",
      "source": [
        "### Datasets Properties"
      ],
      "metadata": {
        "id": "ymyMQQrXbn4n"
      }
    },
    {
      "cell_type": "code",
      "source": [
        "X_df.shape"
      ],
      "metadata": {
        "colab": {
          "base_uri": "https://localhost:8080/"
        },
        "id": "Rsf4VXfZbnV8",
        "outputId": "32155edb-f400-40cd-aca1-f35705af17e3"
      },
      "execution_count": 4,
      "outputs": [
        {
          "output_type": "execute_result",
          "data": {
            "text/plain": [
              "(882000, 6)"
            ]
          },
          "metadata": {},
          "execution_count": 4
        }
      ]
    },
    {
      "cell_type": "code",
      "source": [
        "X_df.sample(5)"
      ],
      "metadata": {
        "colab": {
          "base_uri": "https://localhost:8080/",
          "height": 206
        },
        "id": "6EPF1dvnbwqp",
        "outputId": "0aecb844-0aac-49af-aa9b-11f310d8ab1a"
      },
      "execution_count": 5,
      "outputs": [
        {
          "output_type": "execute_result",
          "data": {
            "text/plain": [
              "        serial        H2        CO      C2H4      C2H2    id\n",
              "688398      18  0.002715  0.008028  0.002067  0.000131  2770\n",
              "781464     264  0.001708  0.015973  0.005289  0.000292  1860\n",
              "505676     416  0.002266  0.016281  0.006095  0.000268  1190\n",
              "32716      376  0.001846  0.032238  0.011075  0.000230  2585\n",
              "415862      62  0.002240  0.005959  0.004831  0.000312   744"
            ],
            "text/html": [
              "\n",
              "  <div id=\"df-8961e300-42fc-4756-abef-f586921ec79e\">\n",
              "    <div class=\"colab-df-container\">\n",
              "      <div>\n",
              "<style scoped>\n",
              "    .dataframe tbody tr th:only-of-type {\n",
              "        vertical-align: middle;\n",
              "    }\n",
              "\n",
              "    .dataframe tbody tr th {\n",
              "        vertical-align: top;\n",
              "    }\n",
              "\n",
              "    .dataframe thead th {\n",
              "        text-align: right;\n",
              "    }\n",
              "</style>\n",
              "<table border=\"1\" class=\"dataframe\">\n",
              "  <thead>\n",
              "    <tr style=\"text-align: right;\">\n",
              "      <th></th>\n",
              "      <th>serial</th>\n",
              "      <th>H2</th>\n",
              "      <th>CO</th>\n",
              "      <th>C2H4</th>\n",
              "      <th>C2H2</th>\n",
              "      <th>id</th>\n",
              "    </tr>\n",
              "  </thead>\n",
              "  <tbody>\n",
              "    <tr>\n",
              "      <th>688398</th>\n",
              "      <td>18</td>\n",
              "      <td>0.002715</td>\n",
              "      <td>0.008028</td>\n",
              "      <td>0.002067</td>\n",
              "      <td>0.000131</td>\n",
              "      <td>2770</td>\n",
              "    </tr>\n",
              "    <tr>\n",
              "      <th>781464</th>\n",
              "      <td>264</td>\n",
              "      <td>0.001708</td>\n",
              "      <td>0.015973</td>\n",
              "      <td>0.005289</td>\n",
              "      <td>0.000292</td>\n",
              "      <td>1860</td>\n",
              "    </tr>\n",
              "    <tr>\n",
              "      <th>505676</th>\n",
              "      <td>416</td>\n",
              "      <td>0.002266</td>\n",
              "      <td>0.016281</td>\n",
              "      <td>0.006095</td>\n",
              "      <td>0.000268</td>\n",
              "      <td>1190</td>\n",
              "    </tr>\n",
              "    <tr>\n",
              "      <th>32716</th>\n",
              "      <td>376</td>\n",
              "      <td>0.001846</td>\n",
              "      <td>0.032238</td>\n",
              "      <td>0.011075</td>\n",
              "      <td>0.000230</td>\n",
              "      <td>2585</td>\n",
              "    </tr>\n",
              "    <tr>\n",
              "      <th>415862</th>\n",
              "      <td>62</td>\n",
              "      <td>0.002240</td>\n",
              "      <td>0.005959</td>\n",
              "      <td>0.004831</td>\n",
              "      <td>0.000312</td>\n",
              "      <td>744</td>\n",
              "    </tr>\n",
              "  </tbody>\n",
              "</table>\n",
              "</div>\n",
              "      <button class=\"colab-df-convert\" onclick=\"convertToInteractive('df-8961e300-42fc-4756-abef-f586921ec79e')\"\n",
              "              title=\"Convert this dataframe to an interactive table.\"\n",
              "              style=\"display:none;\">\n",
              "        \n",
              "  <svg xmlns=\"http://www.w3.org/2000/svg\" height=\"24px\"viewBox=\"0 0 24 24\"\n",
              "       width=\"24px\">\n",
              "    <path d=\"M0 0h24v24H0V0z\" fill=\"none\"/>\n",
              "    <path d=\"M18.56 5.44l.94 2.06.94-2.06 2.06-.94-2.06-.94-.94-2.06-.94 2.06-2.06.94zm-11 1L8.5 8.5l.94-2.06 2.06-.94-2.06-.94L8.5 2.5l-.94 2.06-2.06.94zm10 10l.94 2.06.94-2.06 2.06-.94-2.06-.94-.94-2.06-.94 2.06-2.06.94z\"/><path d=\"M17.41 7.96l-1.37-1.37c-.4-.4-.92-.59-1.43-.59-.52 0-1.04.2-1.43.59L10.3 9.45l-7.72 7.72c-.78.78-.78 2.05 0 2.83L4 21.41c.39.39.9.59 1.41.59.51 0 1.02-.2 1.41-.59l7.78-7.78 2.81-2.81c.8-.78.8-2.07 0-2.86zM5.41 20L4 18.59l7.72-7.72 1.47 1.35L5.41 20z\"/>\n",
              "  </svg>\n",
              "      </button>\n",
              "      \n",
              "  <style>\n",
              "    .colab-df-container {\n",
              "      display:flex;\n",
              "      flex-wrap:wrap;\n",
              "      gap: 12px;\n",
              "    }\n",
              "\n",
              "    .colab-df-convert {\n",
              "      background-color: #E8F0FE;\n",
              "      border: none;\n",
              "      border-radius: 50%;\n",
              "      cursor: pointer;\n",
              "      display: none;\n",
              "      fill: #1967D2;\n",
              "      height: 32px;\n",
              "      padding: 0 0 0 0;\n",
              "      width: 32px;\n",
              "    }\n",
              "\n",
              "    .colab-df-convert:hover {\n",
              "      background-color: #E2EBFA;\n",
              "      box-shadow: 0px 1px 2px rgba(60, 64, 67, 0.3), 0px 1px 3px 1px rgba(60, 64, 67, 0.15);\n",
              "      fill: #174EA6;\n",
              "    }\n",
              "\n",
              "    [theme=dark] .colab-df-convert {\n",
              "      background-color: #3B4455;\n",
              "      fill: #D2E3FC;\n",
              "    }\n",
              "\n",
              "    [theme=dark] .colab-df-convert:hover {\n",
              "      background-color: #434B5C;\n",
              "      box-shadow: 0px 1px 3px 1px rgba(0, 0, 0, 0.15);\n",
              "      filter: drop-shadow(0px 1px 2px rgba(0, 0, 0, 0.3));\n",
              "      fill: #FFFFFF;\n",
              "    }\n",
              "  </style>\n",
              "\n",
              "      <script>\n",
              "        const buttonEl =\n",
              "          document.querySelector('#df-8961e300-42fc-4756-abef-f586921ec79e button.colab-df-convert');\n",
              "        buttonEl.style.display =\n",
              "          google.colab.kernel.accessAllowed ? 'block' : 'none';\n",
              "\n",
              "        async function convertToInteractive(key) {\n",
              "          const element = document.querySelector('#df-8961e300-42fc-4756-abef-f586921ec79e');\n",
              "          const dataTable =\n",
              "            await google.colab.kernel.invokeFunction('convertToInteractive',\n",
              "                                                     [key], {});\n",
              "          if (!dataTable) return;\n",
              "\n",
              "          const docLinkHtml = 'Like what you see? Visit the ' +\n",
              "            '<a target=\"_blank\" href=https://colab.research.google.com/notebooks/data_table.ipynb>data table notebook</a>'\n",
              "            + ' to learn more about interactive tables.';\n",
              "          element.innerHTML = '';\n",
              "          dataTable['output_type'] = 'display_data';\n",
              "          await google.colab.output.renderOutput(dataTable, element);\n",
              "          const docLink = document.createElement('div');\n",
              "          docLink.innerHTML = docLinkHtml;\n",
              "          element.appendChild(docLink);\n",
              "        }\n",
              "      </script>\n",
              "    </div>\n",
              "  </div>\n",
              "  "
            ]
          },
          "metadata": {},
          "execution_count": 5
        }
      ]
    },
    {
      "cell_type": "markdown",
      "source": [
        "In the above data we have 6 columns, 4 of them represent the concentration of various gases at a particular time given by the serial column. The id column represents the Power Transformers (PT)  id which is a unique identifier since we have data from many PT's."
      ],
      "metadata": {
        "id": "CNSgjcZWbzup"
      }
    },
    {
      "cell_type": "code",
      "source": [
        "y_df.shape"
      ],
      "metadata": {
        "colab": {
          "base_uri": "https://localhost:8080/"
        },
        "id": "2Bu51ca9bzcM",
        "outputId": "54cc968d-077e-416a-d3d1-d6ff8668153b"
      },
      "execution_count": 6,
      "outputs": [
        {
          "output_type": "execute_result",
          "data": {
            "text/plain": [
              "(2100,)"
            ]
          },
          "metadata": {},
          "execution_count": 6
        }
      ]
    },
    {
      "cell_type": "code",
      "source": [
        "y_df.sample(10)"
      ],
      "metadata": {
        "colab": {
          "base_uri": "https://localhost:8080/"
        },
        "id": "g3E2kj2Acbk_",
        "outputId": "424d3783-79ed-493d-a441-978f04f145bd"
      },
      "execution_count": 7,
      "outputs": [
        {
          "output_type": "execute_result",
          "data": {
            "text/plain": [
              "0\n",
              "1002.0    1\n",
              "173.0     1\n",
              "2521.0    1\n",
              "2838.0    2\n",
              "352.0     1\n",
              "971.0     1\n",
              "1547.0    1\n",
              "72.0      1\n",
              "2330.0    1\n",
              "1349.0    1\n",
              "Name: 1, dtype: int64"
            ]
          },
          "metadata": {},
          "execution_count": 7
        }
      ]
    },
    {
      "cell_type": "markdown",
      "source": [
        "In the y dataset is a type of Pandas Series Data in which the index is unique id of the PT and the correponding category represents the operation modes which are given as:\n",
        "- **Mode-01** : Normal Mode\n",
        "- **Mode-02** : Partal Discharge\n",
        "- **Mode-03** : Low Energy Discharge\n",
        "- **Mode-04** : Low-temperature overheating"
      ],
      "metadata": {
        "id": "OQTQ8fVGcree"
      }
    },
    {
      "cell_type": "markdown",
      "source": [
        "## Features Extraction \n",
        "\n",
        "As we have seen that we have 882000 time series points where the concentration of various gases was recorded. To classify such huge amount data we need to use high computational resources. In addition the concentration of gases may not change significantly. Therefore we need to get some features for every PT's in which can help use build a the multi classifier we intend.\n",
        "\n",
        "To extract features we use *tsfresh* which is used for systematic feature engineering from time-series and other sequential data. If we do this manually then it will take lot of time and we may not able to get all the features."
      ],
      "metadata": {
        "id": "SwN1wSu4dlgy"
      }
    },
    {
      "cell_type": "markdown",
      "source": [
        "One if the most important factor while using the *tsfresh* is the feature extraction settings. We have the following options:\n",
        "\n",
        "- **tsfresh.feature_extraction.settings.ComprehensiveFCParameters**: includes all features without parameters and all features with parameters, each with different parameter combinations.\n",
        "\n",
        "- **tsfresh.feature_extraction.settings.MinimalFCParameters**: includes only a handful of features and can be used for quick tests. The features which have the “minimal” attribute are used here.\n",
        "\n",
        "- **tsfresh.feature_extraction.settings.EfficientFCParameters**: Mostly the same features as in the tsfresh.feature_extraction.settings.ComprehensiveFCParameters, but without features which are marked with the “high_comp_cost” attribute. This can be used if runtime performance plays a major role.\n",
        "\n",
        "For our case we use the *tsfresh.feature_extraction.settings.EfficientFCParameters* one to get efficient parameters efficiently."
      ],
      "metadata": {
        "id": "sUIKyKGDfNey"
      }
    },
    {
      "cell_type": "code",
      "source": [
        "extraction_settings = EfficientFCParameters()"
      ],
      "metadata": {
        "colab": {
          "base_uri": "https://localhost:8080/"
        },
        "id": "xESz69ghdnNa",
        "outputId": "89aa0582-0613-4188-e3e6-4a42018f1942"
      },
      "execution_count": 8,
      "outputs": [
        {
          "output_type": "stream",
          "name": "stderr",
          "text": [
            "WARNING:tsfresh.feature_extraction.settings:Dependency not available for matrix_profile, this feature will be disabled!\n"
          ]
        }
      ]
    },
    {
      "cell_type": "code",
      "source": [
        "X_filt_df = extract_relevant_features(X_df, y_df, column_id='id', column_sort='serial',\n",
        "                                         default_fc_parameters=extraction_settings)"
      ],
      "metadata": {
        "colab": {
          "base_uri": "https://localhost:8080/"
        },
        "id": "37cfpGzbgwUx",
        "outputId": "e8249d5d-ed5c-41dd-ca49-ac429561e5be"
      },
      "execution_count": 9,
      "outputs": [
        {
          "output_type": "stream",
          "name": "stderr",
          "text": [
            "Feature Extraction: 100%|██████████| 8400/8400 [17:48<00:00,  7.86it/s]\n"
          ]
        }
      ]
    },
    {
      "cell_type": "code",
      "source": [
        "X_filt_df.shape "
      ],
      "metadata": {
        "colab": {
          "base_uri": "https://localhost:8080/"
        },
        "id": "2pDMi66ohkXP",
        "outputId": "f8cd6aa3-c58f-4ff3-c678-06181444b1bc"
      },
      "execution_count": 10,
      "outputs": [
        {
          "output_type": "execute_result",
          "data": {
            "text/plain": [
              "(2100, 2549)"
            ]
          },
          "metadata": {},
          "execution_count": 10
        }
      ]
    },
    {
      "cell_type": "code",
      "source": [
        "y_df.shape"
      ],
      "metadata": {
        "colab": {
          "base_uri": "https://localhost:8080/"
        },
        "id": "m1w-TnRyfIpH",
        "outputId": "393fcb75-f0da-417a-9580-818ab272c28f"
      },
      "execution_count": 71,
      "outputs": [
        {
          "output_type": "execute_result",
          "data": {
            "text/plain": [
              "(2100,)"
            ]
          },
          "metadata": {},
          "execution_count": 71
        }
      ]
    },
    {
      "cell_type": "code",
      "source": [
        "X_filt_df.sample(5)"
      ],
      "metadata": {
        "colab": {
          "base_uri": "https://localhost:8080/",
          "height": 299
        },
        "id": "i5baQ3HylnJZ",
        "outputId": "6b6894f7-0062-4989-febb-9a67f64f9d5a"
      },
      "execution_count": 11,
      "outputs": [
        {
          "output_type": "execute_result",
          "data": {
            "text/plain": [
              "      CO__quantile__q_0.9  CO__quantile__q_0.8  CO__c3__lag_1  CO__c3__lag_2  \\\n",
              "679              0.031664             0.031591   2.921748e-05   2.921657e-05   \n",
              "1710             0.037869             0.033757   2.495554e-05   2.486912e-05   \n",
              "951              0.024176             0.022728   1.077714e-05   1.076078e-05   \n",
              "354              0.039182             0.034382   2.969806e-05   2.958958e-05   \n",
              "988              0.010614             0.009222   5.269211e-07   5.246175e-07   \n",
              "\n",
              "      CO__c3__lag_3  CO__root_mean_square  CO__abs_energy  \\\n",
              "679    2.921594e-05              0.030793        0.398238   \n",
              "1710   2.478344e-05              0.028583        0.343132   \n",
              "951    1.074430e-05              0.022044        0.204095   \n",
              "354    2.948202e-05              0.030518        0.391156   \n",
              "988    5.223507e-07              0.007792        0.025501   \n",
              "\n",
              "      CO__mean_n_absolute_max__number_of_maxima_7  CO__maximum  \\\n",
              "679                                      0.031771     0.031874   \n",
              "1710                                     0.041999     0.042316   \n",
              "951                                      0.026118     0.026237   \n",
              "354                                      0.044309     0.044692   \n",
              "988                                      0.012329     0.012469   \n",
              "\n",
              "      CO__absolute_maximum  ...  C2H4__fft_aggregated__aggtype_\"kurtosis\"  \\\n",
              "679               0.031874  ...                                 46.987930   \n",
              "1710              0.042316  ...                                  6.208912   \n",
              "951               0.026237  ...                                 18.697192   \n",
              "354               0.044692  ...                                 29.384875   \n",
              "988               0.012469  ...                                  8.964957   \n",
              "\n",
              "      C2H4__fft_aggregated__aggtype_\"skew\"  \\\n",
              "679                               6.398671   \n",
              "1710                              1.938123   \n",
              "951                               3.923746   \n",
              "354                               5.005715   \n",
              "988                               2.547468   \n",
              "\n",
              "      C2H4__ar_coefficient__coeff_10__k_10  CO__ratio_beyond_r_sigma__r_3  \\\n",
              "679                              -0.129356                            0.0   \n",
              "1710                             -0.162708                            0.0   \n",
              "951                              -0.078901                            0.0   \n",
              "354                              -0.086097                            0.0   \n",
              "988                              -0.059338                            0.0   \n",
              "\n",
              "      C2H4__fft_aggregated__aggtype_\"centroid\"  C2H4__fourier_entropy__bins_3  \\\n",
              "679                                   4.327316                       0.090729   \n",
              "1710                                 30.603817                       0.045395   \n",
              "951                                  10.485057                       0.090729   \n",
              "354                                   6.813078                       0.090729   \n",
              "988                                  20.938298                       0.045395   \n",
              "\n",
              "      C2H4__change_quantiles__f_agg_\"var\"__isabs_False__qh_0.8__ql_0.0  \\\n",
              "679                                        4.808395e-12                  \n",
              "1710                                       1.594912e-11                  \n",
              "951                                        7.590964e-12                  \n",
              "354                                        6.537446e-12                  \n",
              "988                                        1.049948e-11                  \n",
              "\n",
              "      CO__change_quantiles__f_agg_\"mean\"__isabs_True__qh_0.6__ql_0.4  \\\n",
              "679                                            0.000024                \n",
              "1710                                           0.000047                \n",
              "951                                            0.000028                \n",
              "354                                            0.000012                \n",
              "988                                            0.000017                \n",
              "\n",
              "      CO__ar_coefficient__coeff_7__k_10  \\\n",
              "679                            0.263635   \n",
              "1710                           2.115098   \n",
              "951                            0.604455   \n",
              "354                            0.084152   \n",
              "988                            0.415038   \n",
              "\n",
              "      H2__energy_ratio_by_chunks__num_segments_10__segment_focus_4  \n",
              "679                                            0.098617             \n",
              "1710                                           0.013621             \n",
              "951                                            0.083395             \n",
              "354                                            0.106453             \n",
              "988                                            0.100217             \n",
              "\n",
              "[5 rows x 2549 columns]"
            ],
            "text/html": [
              "\n",
              "  <div id=\"df-e547ac55-0abd-43a7-a0aa-14fb95b1f31c\">\n",
              "    <div class=\"colab-df-container\">\n",
              "      <div>\n",
              "<style scoped>\n",
              "    .dataframe tbody tr th:only-of-type {\n",
              "        vertical-align: middle;\n",
              "    }\n",
              "\n",
              "    .dataframe tbody tr th {\n",
              "        vertical-align: top;\n",
              "    }\n",
              "\n",
              "    .dataframe thead th {\n",
              "        text-align: right;\n",
              "    }\n",
              "</style>\n",
              "<table border=\"1\" class=\"dataframe\">\n",
              "  <thead>\n",
              "    <tr style=\"text-align: right;\">\n",
              "      <th></th>\n",
              "      <th>CO__quantile__q_0.9</th>\n",
              "      <th>CO__quantile__q_0.8</th>\n",
              "      <th>CO__c3__lag_1</th>\n",
              "      <th>CO__c3__lag_2</th>\n",
              "      <th>CO__c3__lag_3</th>\n",
              "      <th>CO__root_mean_square</th>\n",
              "      <th>CO__abs_energy</th>\n",
              "      <th>CO__mean_n_absolute_max__number_of_maxima_7</th>\n",
              "      <th>CO__maximum</th>\n",
              "      <th>CO__absolute_maximum</th>\n",
              "      <th>...</th>\n",
              "      <th>C2H4__fft_aggregated__aggtype_\"kurtosis\"</th>\n",
              "      <th>C2H4__fft_aggregated__aggtype_\"skew\"</th>\n",
              "      <th>C2H4__ar_coefficient__coeff_10__k_10</th>\n",
              "      <th>CO__ratio_beyond_r_sigma__r_3</th>\n",
              "      <th>C2H4__fft_aggregated__aggtype_\"centroid\"</th>\n",
              "      <th>C2H4__fourier_entropy__bins_3</th>\n",
              "      <th>C2H4__change_quantiles__f_agg_\"var\"__isabs_False__qh_0.8__ql_0.0</th>\n",
              "      <th>CO__change_quantiles__f_agg_\"mean\"__isabs_True__qh_0.6__ql_0.4</th>\n",
              "      <th>CO__ar_coefficient__coeff_7__k_10</th>\n",
              "      <th>H2__energy_ratio_by_chunks__num_segments_10__segment_focus_4</th>\n",
              "    </tr>\n",
              "  </thead>\n",
              "  <tbody>\n",
              "    <tr>\n",
              "      <th>679</th>\n",
              "      <td>0.031664</td>\n",
              "      <td>0.031591</td>\n",
              "      <td>2.921748e-05</td>\n",
              "      <td>2.921657e-05</td>\n",
              "      <td>2.921594e-05</td>\n",
              "      <td>0.030793</td>\n",
              "      <td>0.398238</td>\n",
              "      <td>0.031771</td>\n",
              "      <td>0.031874</td>\n",
              "      <td>0.031874</td>\n",
              "      <td>...</td>\n",
              "      <td>46.987930</td>\n",
              "      <td>6.398671</td>\n",
              "      <td>-0.129356</td>\n",
              "      <td>0.0</td>\n",
              "      <td>4.327316</td>\n",
              "      <td>0.090729</td>\n",
              "      <td>4.808395e-12</td>\n",
              "      <td>0.000024</td>\n",
              "      <td>0.263635</td>\n",
              "      <td>0.098617</td>\n",
              "    </tr>\n",
              "    <tr>\n",
              "      <th>1710</th>\n",
              "      <td>0.037869</td>\n",
              "      <td>0.033757</td>\n",
              "      <td>2.495554e-05</td>\n",
              "      <td>2.486912e-05</td>\n",
              "      <td>2.478344e-05</td>\n",
              "      <td>0.028583</td>\n",
              "      <td>0.343132</td>\n",
              "      <td>0.041999</td>\n",
              "      <td>0.042316</td>\n",
              "      <td>0.042316</td>\n",
              "      <td>...</td>\n",
              "      <td>6.208912</td>\n",
              "      <td>1.938123</td>\n",
              "      <td>-0.162708</td>\n",
              "      <td>0.0</td>\n",
              "      <td>30.603817</td>\n",
              "      <td>0.045395</td>\n",
              "      <td>1.594912e-11</td>\n",
              "      <td>0.000047</td>\n",
              "      <td>2.115098</td>\n",
              "      <td>0.013621</td>\n",
              "    </tr>\n",
              "    <tr>\n",
              "      <th>951</th>\n",
              "      <td>0.024176</td>\n",
              "      <td>0.022728</td>\n",
              "      <td>1.077714e-05</td>\n",
              "      <td>1.076078e-05</td>\n",
              "      <td>1.074430e-05</td>\n",
              "      <td>0.022044</td>\n",
              "      <td>0.204095</td>\n",
              "      <td>0.026118</td>\n",
              "      <td>0.026237</td>\n",
              "      <td>0.026237</td>\n",
              "      <td>...</td>\n",
              "      <td>18.697192</td>\n",
              "      <td>3.923746</td>\n",
              "      <td>-0.078901</td>\n",
              "      <td>0.0</td>\n",
              "      <td>10.485057</td>\n",
              "      <td>0.090729</td>\n",
              "      <td>7.590964e-12</td>\n",
              "      <td>0.000028</td>\n",
              "      <td>0.604455</td>\n",
              "      <td>0.083395</td>\n",
              "    </tr>\n",
              "    <tr>\n",
              "      <th>354</th>\n",
              "      <td>0.039182</td>\n",
              "      <td>0.034382</td>\n",
              "      <td>2.969806e-05</td>\n",
              "      <td>2.958958e-05</td>\n",
              "      <td>2.948202e-05</td>\n",
              "      <td>0.030518</td>\n",
              "      <td>0.391156</td>\n",
              "      <td>0.044309</td>\n",
              "      <td>0.044692</td>\n",
              "      <td>0.044692</td>\n",
              "      <td>...</td>\n",
              "      <td>29.384875</td>\n",
              "      <td>5.005715</td>\n",
              "      <td>-0.086097</td>\n",
              "      <td>0.0</td>\n",
              "      <td>6.813078</td>\n",
              "      <td>0.090729</td>\n",
              "      <td>6.537446e-12</td>\n",
              "      <td>0.000012</td>\n",
              "      <td>0.084152</td>\n",
              "      <td>0.106453</td>\n",
              "    </tr>\n",
              "    <tr>\n",
              "      <th>988</th>\n",
              "      <td>0.010614</td>\n",
              "      <td>0.009222</td>\n",
              "      <td>5.269211e-07</td>\n",
              "      <td>5.246175e-07</td>\n",
              "      <td>5.223507e-07</td>\n",
              "      <td>0.007792</td>\n",
              "      <td>0.025501</td>\n",
              "      <td>0.012329</td>\n",
              "      <td>0.012469</td>\n",
              "      <td>0.012469</td>\n",
              "      <td>...</td>\n",
              "      <td>8.964957</td>\n",
              "      <td>2.547468</td>\n",
              "      <td>-0.059338</td>\n",
              "      <td>0.0</td>\n",
              "      <td>20.938298</td>\n",
              "      <td>0.045395</td>\n",
              "      <td>1.049948e-11</td>\n",
              "      <td>0.000017</td>\n",
              "      <td>0.415038</td>\n",
              "      <td>0.100217</td>\n",
              "    </tr>\n",
              "  </tbody>\n",
              "</table>\n",
              "<p>5 rows × 2549 columns</p>\n",
              "</div>\n",
              "      <button class=\"colab-df-convert\" onclick=\"convertToInteractive('df-e547ac55-0abd-43a7-a0aa-14fb95b1f31c')\"\n",
              "              title=\"Convert this dataframe to an interactive table.\"\n",
              "              style=\"display:none;\">\n",
              "        \n",
              "  <svg xmlns=\"http://www.w3.org/2000/svg\" height=\"24px\"viewBox=\"0 0 24 24\"\n",
              "       width=\"24px\">\n",
              "    <path d=\"M0 0h24v24H0V0z\" fill=\"none\"/>\n",
              "    <path d=\"M18.56 5.44l.94 2.06.94-2.06 2.06-.94-2.06-.94-.94-2.06-.94 2.06-2.06.94zm-11 1L8.5 8.5l.94-2.06 2.06-.94-2.06-.94L8.5 2.5l-.94 2.06-2.06.94zm10 10l.94 2.06.94-2.06 2.06-.94-2.06-.94-.94-2.06-.94 2.06-2.06.94z\"/><path d=\"M17.41 7.96l-1.37-1.37c-.4-.4-.92-.59-1.43-.59-.52 0-1.04.2-1.43.59L10.3 9.45l-7.72 7.72c-.78.78-.78 2.05 0 2.83L4 21.41c.39.39.9.59 1.41.59.51 0 1.02-.2 1.41-.59l7.78-7.78 2.81-2.81c.8-.78.8-2.07 0-2.86zM5.41 20L4 18.59l7.72-7.72 1.47 1.35L5.41 20z\"/>\n",
              "  </svg>\n",
              "      </button>\n",
              "      \n",
              "  <style>\n",
              "    .colab-df-container {\n",
              "      display:flex;\n",
              "      flex-wrap:wrap;\n",
              "      gap: 12px;\n",
              "    }\n",
              "\n",
              "    .colab-df-convert {\n",
              "      background-color: #E8F0FE;\n",
              "      border: none;\n",
              "      border-radius: 50%;\n",
              "      cursor: pointer;\n",
              "      display: none;\n",
              "      fill: #1967D2;\n",
              "      height: 32px;\n",
              "      padding: 0 0 0 0;\n",
              "      width: 32px;\n",
              "    }\n",
              "\n",
              "    .colab-df-convert:hover {\n",
              "      background-color: #E2EBFA;\n",
              "      box-shadow: 0px 1px 2px rgba(60, 64, 67, 0.3), 0px 1px 3px 1px rgba(60, 64, 67, 0.15);\n",
              "      fill: #174EA6;\n",
              "    }\n",
              "\n",
              "    [theme=dark] .colab-df-convert {\n",
              "      background-color: #3B4455;\n",
              "      fill: #D2E3FC;\n",
              "    }\n",
              "\n",
              "    [theme=dark] .colab-df-convert:hover {\n",
              "      background-color: #434B5C;\n",
              "      box-shadow: 0px 1px 3px 1px rgba(0, 0, 0, 0.15);\n",
              "      filter: drop-shadow(0px 1px 2px rgba(0, 0, 0, 0.3));\n",
              "      fill: #FFFFFF;\n",
              "    }\n",
              "  </style>\n",
              "\n",
              "      <script>\n",
              "        const buttonEl =\n",
              "          document.querySelector('#df-e547ac55-0abd-43a7-a0aa-14fb95b1f31c button.colab-df-convert');\n",
              "        buttonEl.style.display =\n",
              "          google.colab.kernel.accessAllowed ? 'block' : 'none';\n",
              "\n",
              "        async function convertToInteractive(key) {\n",
              "          const element = document.querySelector('#df-e547ac55-0abd-43a7-a0aa-14fb95b1f31c');\n",
              "          const dataTable =\n",
              "            await google.colab.kernel.invokeFunction('convertToInteractive',\n",
              "                                                     [key], {});\n",
              "          if (!dataTable) return;\n",
              "\n",
              "          const docLinkHtml = 'Like what you see? Visit the ' +\n",
              "            '<a target=\"_blank\" href=https://colab.research.google.com/notebooks/data_table.ipynb>data table notebook</a>'\n",
              "            + ' to learn more about interactive tables.';\n",
              "          element.innerHTML = '';\n",
              "          dataTable['output_type'] = 'display_data';\n",
              "          await google.colab.output.renderOutput(dataTable, element);\n",
              "          const docLink = document.createElement('div');\n",
              "          docLink.innerHTML = docLinkHtml;\n",
              "          element.appendChild(docLink);\n",
              "        }\n",
              "      </script>\n",
              "    </div>\n",
              "  </div>\n",
              "  "
            ]
          },
          "metadata": {},
          "execution_count": 11
        }
      ]
    },
    {
      "cell_type": "markdown",
      "source": [
        "We have 2549 features and 2100 datapoints after feature extraction. However still these are lot of features. So we will use the **Pearson Coefficient** to drop the features with high correlation."
      ],
      "metadata": {
        "id": "4X5dvMmSlQT0"
      }
    },
    {
      "cell_type": "markdown",
      "source": [
        "###  Creating the Correlation matrix and Selecting the Upper triangular matrix"
      ],
      "metadata": {
        "id": "1a8dyl9RoAfD"
      }
    },
    {
      "cell_type": "code",
      "source": [
        "X_filt_corr = X_filt_df.corr().abs()"
      ],
      "metadata": {
        "id": "gW98lkXxlrmw"
      },
      "execution_count": 12,
      "outputs": []
    },
    {
      "cell_type": "code",
      "source": [
        "X_filt_corr.shape"
      ],
      "metadata": {
        "colab": {
          "base_uri": "https://localhost:8080/"
        },
        "id": "7En3jpBAmQJP",
        "outputId": "09119bc7-fc1c-4d5e-b35d-d0e3521b4931"
      },
      "execution_count": 13,
      "outputs": [
        {
          "output_type": "execute_result",
          "data": {
            "text/plain": [
              "(2549, 2549)"
            ]
          },
          "metadata": {},
          "execution_count": 13
        }
      ]
    },
    {
      "cell_type": "markdown",
      "source": [
        "Select the upper triangular part of the matrix excluding the diagonals."
      ],
      "metadata": {
        "id": "Le_Z8Krnnoxj"
      }
    },
    {
      "cell_type": "code",
      "source": [
        "upper_tri = X_filt_corr.where(np.triu(np.ones(X_filt_corr.shape),k=1).astype(bool))"
      ],
      "metadata": {
        "id": "A7ue_x1gnoII"
      },
      "execution_count": 14,
      "outputs": []
    },
    {
      "cell_type": "code",
      "source": [
        "upper_tri"
      ],
      "metadata": {
        "colab": {
          "base_uri": "https://localhost:8080/",
          "height": 487
        },
        "id": "eqVMzXGcn1nI",
        "outputId": "6b770aea-7ec1-4761-fe0d-9aee0c91bc97"
      },
      "execution_count": 15,
      "outputs": [
        {
          "output_type": "execute_result",
          "data": {
            "text/plain": [
              "                                                    CO__quantile__q_0.9  \\\n",
              "CO__quantile__q_0.9                                                 NaN   \n",
              "CO__quantile__q_0.8                                                 NaN   \n",
              "CO__c3__lag_1                                                       NaN   \n",
              "CO__c3__lag_2                                                       NaN   \n",
              "CO__c3__lag_3                                                       NaN   \n",
              "...                                                                 ...   \n",
              "C2H4__fourier_entropy__bins_3                                       NaN   \n",
              "C2H4__change_quantiles__f_agg_\"var\"__isabs_Fals...                  NaN   \n",
              "CO__change_quantiles__f_agg_\"mean\"__isabs_True_...                  NaN   \n",
              "CO__ar_coefficient__coeff_7__k_10                                   NaN   \n",
              "H2__energy_ratio_by_chunks__num_segments_10__se...                  NaN   \n",
              "\n",
              "                                                    CO__quantile__q_0.8  \\\n",
              "CO__quantile__q_0.9                                            0.992454   \n",
              "CO__quantile__q_0.8                                                 NaN   \n",
              "CO__c3__lag_1                                                       NaN   \n",
              "CO__c3__lag_2                                                       NaN   \n",
              "CO__c3__lag_3                                                       NaN   \n",
              "...                                                                 ...   \n",
              "C2H4__fourier_entropy__bins_3                                       NaN   \n",
              "C2H4__change_quantiles__f_agg_\"var\"__isabs_Fals...                  NaN   \n",
              "CO__change_quantiles__f_agg_\"mean\"__isabs_True_...                  NaN   \n",
              "CO__ar_coefficient__coeff_7__k_10                                   NaN   \n",
              "H2__energy_ratio_by_chunks__num_segments_10__se...                  NaN   \n",
              "\n",
              "                                                    CO__c3__lag_1  \\\n",
              "CO__quantile__q_0.9                                      0.888851   \n",
              "CO__quantile__q_0.8                                      0.908983   \n",
              "CO__c3__lag_1                                                 NaN   \n",
              "CO__c3__lag_2                                                 NaN   \n",
              "CO__c3__lag_3                                                 NaN   \n",
              "...                                                           ...   \n",
              "C2H4__fourier_entropy__bins_3                                 NaN   \n",
              "C2H4__change_quantiles__f_agg_\"var\"__isabs_Fals...            NaN   \n",
              "CO__change_quantiles__f_agg_\"mean\"__isabs_True_...            NaN   \n",
              "CO__ar_coefficient__coeff_7__k_10                             NaN   \n",
              "H2__energy_ratio_by_chunks__num_segments_10__se...            NaN   \n",
              "\n",
              "                                                    CO__c3__lag_2  \\\n",
              "CO__quantile__q_0.9                                      0.888552   \n",
              "CO__quantile__q_0.8                                      0.908841   \n",
              "CO__c3__lag_1                                            0.999999   \n",
              "CO__c3__lag_2                                                 NaN   \n",
              "CO__c3__lag_3                                                 NaN   \n",
              "...                                                           ...   \n",
              "C2H4__fourier_entropy__bins_3                                 NaN   \n",
              "C2H4__change_quantiles__f_agg_\"var\"__isabs_Fals...            NaN   \n",
              "CO__change_quantiles__f_agg_\"mean\"__isabs_True_...            NaN   \n",
              "CO__ar_coefficient__coeff_7__k_10                             NaN   \n",
              "H2__energy_ratio_by_chunks__num_segments_10__se...            NaN   \n",
              "\n",
              "                                                    CO__c3__lag_3  \\\n",
              "CO__quantile__q_0.9                                      0.888253   \n",
              "CO__quantile__q_0.8                                      0.908697   \n",
              "CO__c3__lag_1                                            0.999995   \n",
              "CO__c3__lag_2                                            0.999999   \n",
              "CO__c3__lag_3                                                 NaN   \n",
              "...                                                           ...   \n",
              "C2H4__fourier_entropy__bins_3                                 NaN   \n",
              "C2H4__change_quantiles__f_agg_\"var\"__isabs_Fals...            NaN   \n",
              "CO__change_quantiles__f_agg_\"mean\"__isabs_True_...            NaN   \n",
              "CO__ar_coefficient__coeff_7__k_10                             NaN   \n",
              "H2__energy_ratio_by_chunks__num_segments_10__se...            NaN   \n",
              "\n",
              "                                                    CO__root_mean_square  \\\n",
              "CO__quantile__q_0.9                                             0.972910   \n",
              "CO__quantile__q_0.8                                             0.991841   \n",
              "CO__c3__lag_1                                                   0.913505   \n",
              "CO__c3__lag_2                                                   0.913528   \n",
              "CO__c3__lag_3                                                   0.913549   \n",
              "...                                                                  ...   \n",
              "C2H4__fourier_entropy__bins_3                                        NaN   \n",
              "C2H4__change_quantiles__f_agg_\"var\"__isabs_Fals...                   NaN   \n",
              "CO__change_quantiles__f_agg_\"mean\"__isabs_True_...                   NaN   \n",
              "CO__ar_coefficient__coeff_7__k_10                                    NaN   \n",
              "H2__energy_ratio_by_chunks__num_segments_10__se...                   NaN   \n",
              "\n",
              "                                                    CO__abs_energy  \\\n",
              "CO__quantile__q_0.9                                       0.935034   \n",
              "CO__quantile__q_0.8                                       0.958486   \n",
              "CO__c3__lag_1                                             0.984055   \n",
              "CO__c3__lag_2                                             0.984108   \n",
              "CO__c3__lag_3                                             0.984158   \n",
              "...                                                            ...   \n",
              "C2H4__fourier_entropy__bins_3                                  NaN   \n",
              "C2H4__change_quantiles__f_agg_\"var\"__isabs_Fals...             NaN   \n",
              "CO__change_quantiles__f_agg_\"mean\"__isabs_True_...             NaN   \n",
              "CO__ar_coefficient__coeff_7__k_10                              NaN   \n",
              "H2__energy_ratio_by_chunks__num_segments_10__se...             NaN   \n",
              "\n",
              "                                                    CO__mean_n_absolute_max__number_of_maxima_7  \\\n",
              "CO__quantile__q_0.9                                                                    0.994561   \n",
              "CO__quantile__q_0.8                                                                    0.974816   \n",
              "CO__c3__lag_1                                                                          0.861130   \n",
              "CO__c3__lag_2                                                                          0.860712   \n",
              "CO__c3__lag_3                                                                          0.860293   \n",
              "...                                                                                         ...   \n",
              "C2H4__fourier_entropy__bins_3                                                               NaN   \n",
              "C2H4__change_quantiles__f_agg_\"var\"__isabs_Fals...                                          NaN   \n",
              "CO__change_quantiles__f_agg_\"mean\"__isabs_True_...                                          NaN   \n",
              "CO__ar_coefficient__coeff_7__k_10                                                           NaN   \n",
              "H2__energy_ratio_by_chunks__num_segments_10__se...                                          NaN   \n",
              "\n",
              "                                                    CO__maximum  \\\n",
              "CO__quantile__q_0.9                                    0.993780   \n",
              "CO__quantile__q_0.8                                    0.973225   \n",
              "CO__c3__lag_1                                          0.858854   \n",
              "CO__c3__lag_2                                          0.858428   \n",
              "CO__c3__lag_3                                          0.858001   \n",
              "...                                                         ...   \n",
              "C2H4__fourier_entropy__bins_3                               NaN   \n",
              "C2H4__change_quantiles__f_agg_\"var\"__isabs_Fals...          NaN   \n",
              "CO__change_quantiles__f_agg_\"mean\"__isabs_True_...          NaN   \n",
              "CO__ar_coefficient__coeff_7__k_10                           NaN   \n",
              "H2__energy_ratio_by_chunks__num_segments_10__se...          NaN   \n",
              "\n",
              "                                                    CO__absolute_maximum  ...  \\\n",
              "CO__quantile__q_0.9                                             0.993780  ...   \n",
              "CO__quantile__q_0.8                                             0.973225  ...   \n",
              "CO__c3__lag_1                                                   0.858854  ...   \n",
              "CO__c3__lag_2                                                   0.858428  ...   \n",
              "CO__c3__lag_3                                                   0.858001  ...   \n",
              "...                                                                  ...  ...   \n",
              "C2H4__fourier_entropy__bins_3                                        NaN  ...   \n",
              "C2H4__change_quantiles__f_agg_\"var\"__isabs_Fals...                   NaN  ...   \n",
              "CO__change_quantiles__f_agg_\"mean\"__isabs_True_...                   NaN  ...   \n",
              "CO__ar_coefficient__coeff_7__k_10                                    NaN  ...   \n",
              "H2__energy_ratio_by_chunks__num_segments_10__se...                   NaN  ...   \n",
              "\n",
              "                                                    C2H4__fft_aggregated__aggtype_\"kurtosis\"  \\\n",
              "CO__quantile__q_0.9                                                                 0.043339   \n",
              "CO__quantile__q_0.8                                                                 0.040188   \n",
              "CO__c3__lag_1                                                                       0.015257   \n",
              "CO__c3__lag_2                                                                       0.015216   \n",
              "CO__c3__lag_3                                                                       0.015175   \n",
              "...                                                                                      ...   \n",
              "C2H4__fourier_entropy__bins_3                                                            NaN   \n",
              "C2H4__change_quantiles__f_agg_\"var\"__isabs_Fals...                                       NaN   \n",
              "CO__change_quantiles__f_agg_\"mean\"__isabs_True_...                                       NaN   \n",
              "CO__ar_coefficient__coeff_7__k_10                                                        NaN   \n",
              "H2__energy_ratio_by_chunks__num_segments_10__se...                                       NaN   \n",
              "\n",
              "                                                    C2H4__fft_aggregated__aggtype_\"skew\"  \\\n",
              "CO__quantile__q_0.9                                                             0.064932   \n",
              "CO__quantile__q_0.8                                                             0.058535   \n",
              "CO__c3__lag_1                                                                   0.028884   \n",
              "CO__c3__lag_2                                                                   0.028816   \n",
              "CO__c3__lag_3                                                                   0.028749   \n",
              "...                                                                                  ...   \n",
              "C2H4__fourier_entropy__bins_3                                                        NaN   \n",
              "C2H4__change_quantiles__f_agg_\"var\"__isabs_Fals...                                   NaN   \n",
              "CO__change_quantiles__f_agg_\"mean\"__isabs_True_...                                   NaN   \n",
              "CO__ar_coefficient__coeff_7__k_10                                                    NaN   \n",
              "H2__energy_ratio_by_chunks__num_segments_10__se...                                   NaN   \n",
              "\n",
              "                                                    C2H4__ar_coefficient__coeff_10__k_10  \\\n",
              "CO__quantile__q_0.9                                                             0.020939   \n",
              "CO__quantile__q_0.8                                                             0.018625   \n",
              "CO__c3__lag_1                                                                   0.005031   \n",
              "CO__c3__lag_2                                                                   0.005008   \n",
              "CO__c3__lag_3                                                                   0.004987   \n",
              "...                                                                                  ...   \n",
              "C2H4__fourier_entropy__bins_3                                                        NaN   \n",
              "C2H4__change_quantiles__f_agg_\"var\"__isabs_Fals...                                   NaN   \n",
              "CO__change_quantiles__f_agg_\"mean\"__isabs_True_...                                   NaN   \n",
              "CO__ar_coefficient__coeff_7__k_10                                                    NaN   \n",
              "H2__energy_ratio_by_chunks__num_segments_10__se...                                   NaN   \n",
              "\n",
              "                                                    CO__ratio_beyond_r_sigma__r_3  \\\n",
              "CO__quantile__q_0.9                                                      0.064871   \n",
              "CO__quantile__q_0.8                                                      0.064482   \n",
              "CO__c3__lag_1                                                            0.040409   \n",
              "CO__c3__lag_2                                                            0.040222   \n",
              "CO__c3__lag_3                                                            0.040034   \n",
              "...                                                                           ...   \n",
              "C2H4__fourier_entropy__bins_3                                                 NaN   \n",
              "C2H4__change_quantiles__f_agg_\"var\"__isabs_Fals...                            NaN   \n",
              "CO__change_quantiles__f_agg_\"mean\"__isabs_True_...                            NaN   \n",
              "CO__ar_coefficient__coeff_7__k_10                                             NaN   \n",
              "H2__energy_ratio_by_chunks__num_segments_10__se...                            NaN   \n",
              "\n",
              "                                                    C2H4__fft_aggregated__aggtype_\"centroid\"  \\\n",
              "CO__quantile__q_0.9                                                                 0.046382   \n",
              "CO__quantile__q_0.8                                                                 0.039461   \n",
              "CO__c3__lag_1                                                                       0.024246   \n",
              "CO__c3__lag_2                                                                       0.024189   \n",
              "CO__c3__lag_3                                                                       0.024132   \n",
              "...                                                                                      ...   \n",
              "C2H4__fourier_entropy__bins_3                                                            NaN   \n",
              "C2H4__change_quantiles__f_agg_\"var\"__isabs_Fals...                                       NaN   \n",
              "CO__change_quantiles__f_agg_\"mean\"__isabs_True_...                                       NaN   \n",
              "CO__ar_coefficient__coeff_7__k_10                                                        NaN   \n",
              "H2__energy_ratio_by_chunks__num_segments_10__se...                                       NaN   \n",
              "\n",
              "                                                    C2H4__fourier_entropy__bins_3  \\\n",
              "CO__quantile__q_0.9                                                      0.026024   \n",
              "CO__quantile__q_0.8                                                      0.015860   \n",
              "CO__c3__lag_1                                                            0.034876   \n",
              "CO__c3__lag_2                                                            0.034781   \n",
              "CO__c3__lag_3                                                            0.034683   \n",
              "...                                                                           ...   \n",
              "C2H4__fourier_entropy__bins_3                                                 NaN   \n",
              "C2H4__change_quantiles__f_agg_\"var\"__isabs_Fals...                            NaN   \n",
              "CO__change_quantiles__f_agg_\"mean\"__isabs_True_...                            NaN   \n",
              "CO__ar_coefficient__coeff_7__k_10                                             NaN   \n",
              "H2__energy_ratio_by_chunks__num_segments_10__se...                            NaN   \n",
              "\n",
              "                                                    C2H4__change_quantiles__f_agg_\"var\"__isabs_False__qh_0.8__ql_0.0  \\\n",
              "CO__quantile__q_0.9                                                                          0.048228                  \n",
              "CO__quantile__q_0.8                                                                          0.032192                  \n",
              "CO__c3__lag_1                                                                                0.022178                  \n",
              "CO__c3__lag_2                                                                                0.022027                  \n",
              "CO__c3__lag_3                                                                                0.021875                  \n",
              "...                                                                                               ...                  \n",
              "C2H4__fourier_entropy__bins_3                                                                0.066986                  \n",
              "C2H4__change_quantiles__f_agg_\"var\"__isabs_Fals...                                                NaN                  \n",
              "CO__change_quantiles__f_agg_\"mean\"__isabs_True_...                                                NaN                  \n",
              "CO__ar_coefficient__coeff_7__k_10                                                                 NaN                  \n",
              "H2__energy_ratio_by_chunks__num_segments_10__se...                                                NaN                  \n",
              "\n",
              "                                                    CO__change_quantiles__f_agg_\"mean\"__isabs_True__qh_0.6__ql_0.4  \\\n",
              "CO__quantile__q_0.9                                                                          0.212508                \n",
              "CO__quantile__q_0.8                                                                          0.184014                \n",
              "CO__c3__lag_1                                                                                0.131921                \n",
              "CO__c3__lag_2                                                                                0.131257                \n",
              "CO__c3__lag_3                                                                                0.130592                \n",
              "...                                                                                               ...                \n",
              "C2H4__fourier_entropy__bins_3                                                                0.108324                \n",
              "C2H4__change_quantiles__f_agg_\"var\"__isabs_Fals...                                           0.056766                \n",
              "CO__change_quantiles__f_agg_\"mean\"__isabs_True_...                                                NaN                \n",
              "CO__ar_coefficient__coeff_7__k_10                                                                 NaN                \n",
              "H2__energy_ratio_by_chunks__num_segments_10__se...                                                NaN                \n",
              "\n",
              "                                                    CO__ar_coefficient__coeff_7__k_10  \\\n",
              "CO__quantile__q_0.9                                                          0.124767   \n",
              "CO__quantile__q_0.8                                                          0.092860   \n",
              "CO__c3__lag_1                                                                0.074617   \n",
              "CO__c3__lag_2                                                                0.074246   \n",
              "CO__c3__lag_3                                                                0.073876   \n",
              "...                                                                               ...   \n",
              "C2H4__fourier_entropy__bins_3                                                0.006296   \n",
              "C2H4__change_quantiles__f_agg_\"var\"__isabs_Fals...                           0.024196   \n",
              "CO__change_quantiles__f_agg_\"mean\"__isabs_True_...                           0.106345   \n",
              "CO__ar_coefficient__coeff_7__k_10                                                 NaN   \n",
              "H2__energy_ratio_by_chunks__num_segments_10__se...                                NaN   \n",
              "\n",
              "                                                    H2__energy_ratio_by_chunks__num_segments_10__segment_focus_4  \n",
              "CO__quantile__q_0.9                                                                          0.033570             \n",
              "CO__quantile__q_0.8                                                                          0.021926             \n",
              "CO__c3__lag_1                                                                                0.014829             \n",
              "CO__c3__lag_2                                                                                0.014727             \n",
              "CO__c3__lag_3                                                                                0.014624             \n",
              "...                                                                                               ...             \n",
              "C2H4__fourier_entropy__bins_3                                                                0.048827             \n",
              "C2H4__change_quantiles__f_agg_\"var\"__isabs_Fals...                                           0.076264             \n",
              "CO__change_quantiles__f_agg_\"mean\"__isabs_True_...                                           0.030114             \n",
              "CO__ar_coefficient__coeff_7__k_10                                                            0.042752             \n",
              "H2__energy_ratio_by_chunks__num_segments_10__se...                                                NaN             \n",
              "\n",
              "[2549 rows x 2549 columns]"
            ],
            "text/html": [
              "\n",
              "  <div id=\"df-17b291da-3e72-4626-8342-4b5970df1c14\">\n",
              "    <div class=\"colab-df-container\">\n",
              "      <div>\n",
              "<style scoped>\n",
              "    .dataframe tbody tr th:only-of-type {\n",
              "        vertical-align: middle;\n",
              "    }\n",
              "\n",
              "    .dataframe tbody tr th {\n",
              "        vertical-align: top;\n",
              "    }\n",
              "\n",
              "    .dataframe thead th {\n",
              "        text-align: right;\n",
              "    }\n",
              "</style>\n",
              "<table border=\"1\" class=\"dataframe\">\n",
              "  <thead>\n",
              "    <tr style=\"text-align: right;\">\n",
              "      <th></th>\n",
              "      <th>CO__quantile__q_0.9</th>\n",
              "      <th>CO__quantile__q_0.8</th>\n",
              "      <th>CO__c3__lag_1</th>\n",
              "      <th>CO__c3__lag_2</th>\n",
              "      <th>CO__c3__lag_3</th>\n",
              "      <th>CO__root_mean_square</th>\n",
              "      <th>CO__abs_energy</th>\n",
              "      <th>CO__mean_n_absolute_max__number_of_maxima_7</th>\n",
              "      <th>CO__maximum</th>\n",
              "      <th>CO__absolute_maximum</th>\n",
              "      <th>...</th>\n",
              "      <th>C2H4__fft_aggregated__aggtype_\"kurtosis\"</th>\n",
              "      <th>C2H4__fft_aggregated__aggtype_\"skew\"</th>\n",
              "      <th>C2H4__ar_coefficient__coeff_10__k_10</th>\n",
              "      <th>CO__ratio_beyond_r_sigma__r_3</th>\n",
              "      <th>C2H4__fft_aggregated__aggtype_\"centroid\"</th>\n",
              "      <th>C2H4__fourier_entropy__bins_3</th>\n",
              "      <th>C2H4__change_quantiles__f_agg_\"var\"__isabs_False__qh_0.8__ql_0.0</th>\n",
              "      <th>CO__change_quantiles__f_agg_\"mean\"__isabs_True__qh_0.6__ql_0.4</th>\n",
              "      <th>CO__ar_coefficient__coeff_7__k_10</th>\n",
              "      <th>H2__energy_ratio_by_chunks__num_segments_10__segment_focus_4</th>\n",
              "    </tr>\n",
              "  </thead>\n",
              "  <tbody>\n",
              "    <tr>\n",
              "      <th>CO__quantile__q_0.9</th>\n",
              "      <td>NaN</td>\n",
              "      <td>0.992454</td>\n",
              "      <td>0.888851</td>\n",
              "      <td>0.888552</td>\n",
              "      <td>0.888253</td>\n",
              "      <td>0.972910</td>\n",
              "      <td>0.935034</td>\n",
              "      <td>0.994561</td>\n",
              "      <td>0.993780</td>\n",
              "      <td>0.993780</td>\n",
              "      <td>...</td>\n",
              "      <td>0.043339</td>\n",
              "      <td>0.064932</td>\n",
              "      <td>0.020939</td>\n",
              "      <td>0.064871</td>\n",
              "      <td>0.046382</td>\n",
              "      <td>0.026024</td>\n",
              "      <td>0.048228</td>\n",
              "      <td>0.212508</td>\n",
              "      <td>0.124767</td>\n",
              "      <td>0.033570</td>\n",
              "    </tr>\n",
              "    <tr>\n",
              "      <th>CO__quantile__q_0.8</th>\n",
              "      <td>NaN</td>\n",
              "      <td>NaN</td>\n",
              "      <td>0.908983</td>\n",
              "      <td>0.908841</td>\n",
              "      <td>0.908697</td>\n",
              "      <td>0.991841</td>\n",
              "      <td>0.958486</td>\n",
              "      <td>0.974816</td>\n",
              "      <td>0.973225</td>\n",
              "      <td>0.973225</td>\n",
              "      <td>...</td>\n",
              "      <td>0.040188</td>\n",
              "      <td>0.058535</td>\n",
              "      <td>0.018625</td>\n",
              "      <td>0.064482</td>\n",
              "      <td>0.039461</td>\n",
              "      <td>0.015860</td>\n",
              "      <td>0.032192</td>\n",
              "      <td>0.184014</td>\n",
              "      <td>0.092860</td>\n",
              "      <td>0.021926</td>\n",
              "    </tr>\n",
              "    <tr>\n",
              "      <th>CO__c3__lag_1</th>\n",
              "      <td>NaN</td>\n",
              "      <td>NaN</td>\n",
              "      <td>NaN</td>\n",
              "      <td>0.999999</td>\n",
              "      <td>0.999995</td>\n",
              "      <td>0.913505</td>\n",
              "      <td>0.984055</td>\n",
              "      <td>0.861130</td>\n",
              "      <td>0.858854</td>\n",
              "      <td>0.858854</td>\n",
              "      <td>...</td>\n",
              "      <td>0.015257</td>\n",
              "      <td>0.028884</td>\n",
              "      <td>0.005031</td>\n",
              "      <td>0.040409</td>\n",
              "      <td>0.024246</td>\n",
              "      <td>0.034876</td>\n",
              "      <td>0.022178</td>\n",
              "      <td>0.131921</td>\n",
              "      <td>0.074617</td>\n",
              "      <td>0.014829</td>\n",
              "    </tr>\n",
              "    <tr>\n",
              "      <th>CO__c3__lag_2</th>\n",
              "      <td>NaN</td>\n",
              "      <td>NaN</td>\n",
              "      <td>NaN</td>\n",
              "      <td>NaN</td>\n",
              "      <td>0.999999</td>\n",
              "      <td>0.913528</td>\n",
              "      <td>0.984108</td>\n",
              "      <td>0.860712</td>\n",
              "      <td>0.858428</td>\n",
              "      <td>0.858428</td>\n",
              "      <td>...</td>\n",
              "      <td>0.015216</td>\n",
              "      <td>0.028816</td>\n",
              "      <td>0.005008</td>\n",
              "      <td>0.040222</td>\n",
              "      <td>0.024189</td>\n",
              "      <td>0.034781</td>\n",
              "      <td>0.022027</td>\n",
              "      <td>0.131257</td>\n",
              "      <td>0.074246</td>\n",
              "      <td>0.014727</td>\n",
              "    </tr>\n",
              "    <tr>\n",
              "      <th>CO__c3__lag_3</th>\n",
              "      <td>NaN</td>\n",
              "      <td>NaN</td>\n",
              "      <td>NaN</td>\n",
              "      <td>NaN</td>\n",
              "      <td>NaN</td>\n",
              "      <td>0.913549</td>\n",
              "      <td>0.984158</td>\n",
              "      <td>0.860293</td>\n",
              "      <td>0.858001</td>\n",
              "      <td>0.858001</td>\n",
              "      <td>...</td>\n",
              "      <td>0.015175</td>\n",
              "      <td>0.028749</td>\n",
              "      <td>0.004987</td>\n",
              "      <td>0.040034</td>\n",
              "      <td>0.024132</td>\n",
              "      <td>0.034683</td>\n",
              "      <td>0.021875</td>\n",
              "      <td>0.130592</td>\n",
              "      <td>0.073876</td>\n",
              "      <td>0.014624</td>\n",
              "    </tr>\n",
              "    <tr>\n",
              "      <th>...</th>\n",
              "      <td>...</td>\n",
              "      <td>...</td>\n",
              "      <td>...</td>\n",
              "      <td>...</td>\n",
              "      <td>...</td>\n",
              "      <td>...</td>\n",
              "      <td>...</td>\n",
              "      <td>...</td>\n",
              "      <td>...</td>\n",
              "      <td>...</td>\n",
              "      <td>...</td>\n",
              "      <td>...</td>\n",
              "      <td>...</td>\n",
              "      <td>...</td>\n",
              "      <td>...</td>\n",
              "      <td>...</td>\n",
              "      <td>...</td>\n",
              "      <td>...</td>\n",
              "      <td>...</td>\n",
              "      <td>...</td>\n",
              "      <td>...</td>\n",
              "    </tr>\n",
              "    <tr>\n",
              "      <th>C2H4__fourier_entropy__bins_3</th>\n",
              "      <td>NaN</td>\n",
              "      <td>NaN</td>\n",
              "      <td>NaN</td>\n",
              "      <td>NaN</td>\n",
              "      <td>NaN</td>\n",
              "      <td>NaN</td>\n",
              "      <td>NaN</td>\n",
              "      <td>NaN</td>\n",
              "      <td>NaN</td>\n",
              "      <td>NaN</td>\n",
              "      <td>...</td>\n",
              "      <td>NaN</td>\n",
              "      <td>NaN</td>\n",
              "      <td>NaN</td>\n",
              "      <td>NaN</td>\n",
              "      <td>NaN</td>\n",
              "      <td>NaN</td>\n",
              "      <td>0.066986</td>\n",
              "      <td>0.108324</td>\n",
              "      <td>0.006296</td>\n",
              "      <td>0.048827</td>\n",
              "    </tr>\n",
              "    <tr>\n",
              "      <th>C2H4__change_quantiles__f_agg_\"var\"__isabs_False__qh_0.8__ql_0.0</th>\n",
              "      <td>NaN</td>\n",
              "      <td>NaN</td>\n",
              "      <td>NaN</td>\n",
              "      <td>NaN</td>\n",
              "      <td>NaN</td>\n",
              "      <td>NaN</td>\n",
              "      <td>NaN</td>\n",
              "      <td>NaN</td>\n",
              "      <td>NaN</td>\n",
              "      <td>NaN</td>\n",
              "      <td>...</td>\n",
              "      <td>NaN</td>\n",
              "      <td>NaN</td>\n",
              "      <td>NaN</td>\n",
              "      <td>NaN</td>\n",
              "      <td>NaN</td>\n",
              "      <td>NaN</td>\n",
              "      <td>NaN</td>\n",
              "      <td>0.056766</td>\n",
              "      <td>0.024196</td>\n",
              "      <td>0.076264</td>\n",
              "    </tr>\n",
              "    <tr>\n",
              "      <th>CO__change_quantiles__f_agg_\"mean\"__isabs_True__qh_0.6__ql_0.4</th>\n",
              "      <td>NaN</td>\n",
              "      <td>NaN</td>\n",
              "      <td>NaN</td>\n",
              "      <td>NaN</td>\n",
              "      <td>NaN</td>\n",
              "      <td>NaN</td>\n",
              "      <td>NaN</td>\n",
              "      <td>NaN</td>\n",
              "      <td>NaN</td>\n",
              "      <td>NaN</td>\n",
              "      <td>...</td>\n",
              "      <td>NaN</td>\n",
              "      <td>NaN</td>\n",
              "      <td>NaN</td>\n",
              "      <td>NaN</td>\n",
              "      <td>NaN</td>\n",
              "      <td>NaN</td>\n",
              "      <td>NaN</td>\n",
              "      <td>NaN</td>\n",
              "      <td>0.106345</td>\n",
              "      <td>0.030114</td>\n",
              "    </tr>\n",
              "    <tr>\n",
              "      <th>CO__ar_coefficient__coeff_7__k_10</th>\n",
              "      <td>NaN</td>\n",
              "      <td>NaN</td>\n",
              "      <td>NaN</td>\n",
              "      <td>NaN</td>\n",
              "      <td>NaN</td>\n",
              "      <td>NaN</td>\n",
              "      <td>NaN</td>\n",
              "      <td>NaN</td>\n",
              "      <td>NaN</td>\n",
              "      <td>NaN</td>\n",
              "      <td>...</td>\n",
              "      <td>NaN</td>\n",
              "      <td>NaN</td>\n",
              "      <td>NaN</td>\n",
              "      <td>NaN</td>\n",
              "      <td>NaN</td>\n",
              "      <td>NaN</td>\n",
              "      <td>NaN</td>\n",
              "      <td>NaN</td>\n",
              "      <td>NaN</td>\n",
              "      <td>0.042752</td>\n",
              "    </tr>\n",
              "    <tr>\n",
              "      <th>H2__energy_ratio_by_chunks__num_segments_10__segment_focus_4</th>\n",
              "      <td>NaN</td>\n",
              "      <td>NaN</td>\n",
              "      <td>NaN</td>\n",
              "      <td>NaN</td>\n",
              "      <td>NaN</td>\n",
              "      <td>NaN</td>\n",
              "      <td>NaN</td>\n",
              "      <td>NaN</td>\n",
              "      <td>NaN</td>\n",
              "      <td>NaN</td>\n",
              "      <td>...</td>\n",
              "      <td>NaN</td>\n",
              "      <td>NaN</td>\n",
              "      <td>NaN</td>\n",
              "      <td>NaN</td>\n",
              "      <td>NaN</td>\n",
              "      <td>NaN</td>\n",
              "      <td>NaN</td>\n",
              "      <td>NaN</td>\n",
              "      <td>NaN</td>\n",
              "      <td>NaN</td>\n",
              "    </tr>\n",
              "  </tbody>\n",
              "</table>\n",
              "<p>2549 rows × 2549 columns</p>\n",
              "</div>\n",
              "      <button class=\"colab-df-convert\" onclick=\"convertToInteractive('df-17b291da-3e72-4626-8342-4b5970df1c14')\"\n",
              "              title=\"Convert this dataframe to an interactive table.\"\n",
              "              style=\"display:none;\">\n",
              "        \n",
              "  <svg xmlns=\"http://www.w3.org/2000/svg\" height=\"24px\"viewBox=\"0 0 24 24\"\n",
              "       width=\"24px\">\n",
              "    <path d=\"M0 0h24v24H0V0z\" fill=\"none\"/>\n",
              "    <path d=\"M18.56 5.44l.94 2.06.94-2.06 2.06-.94-2.06-.94-.94-2.06-.94 2.06-2.06.94zm-11 1L8.5 8.5l.94-2.06 2.06-.94-2.06-.94L8.5 2.5l-.94 2.06-2.06.94zm10 10l.94 2.06.94-2.06 2.06-.94-2.06-.94-.94-2.06-.94 2.06-2.06.94z\"/><path d=\"M17.41 7.96l-1.37-1.37c-.4-.4-.92-.59-1.43-.59-.52 0-1.04.2-1.43.59L10.3 9.45l-7.72 7.72c-.78.78-.78 2.05 0 2.83L4 21.41c.39.39.9.59 1.41.59.51 0 1.02-.2 1.41-.59l7.78-7.78 2.81-2.81c.8-.78.8-2.07 0-2.86zM5.41 20L4 18.59l7.72-7.72 1.47 1.35L5.41 20z\"/>\n",
              "  </svg>\n",
              "      </button>\n",
              "      \n",
              "  <style>\n",
              "    .colab-df-container {\n",
              "      display:flex;\n",
              "      flex-wrap:wrap;\n",
              "      gap: 12px;\n",
              "    }\n",
              "\n",
              "    .colab-df-convert {\n",
              "      background-color: #E8F0FE;\n",
              "      border: none;\n",
              "      border-radius: 50%;\n",
              "      cursor: pointer;\n",
              "      display: none;\n",
              "      fill: #1967D2;\n",
              "      height: 32px;\n",
              "      padding: 0 0 0 0;\n",
              "      width: 32px;\n",
              "    }\n",
              "\n",
              "    .colab-df-convert:hover {\n",
              "      background-color: #E2EBFA;\n",
              "      box-shadow: 0px 1px 2px rgba(60, 64, 67, 0.3), 0px 1px 3px 1px rgba(60, 64, 67, 0.15);\n",
              "      fill: #174EA6;\n",
              "    }\n",
              "\n",
              "    [theme=dark] .colab-df-convert {\n",
              "      background-color: #3B4455;\n",
              "      fill: #D2E3FC;\n",
              "    }\n",
              "\n",
              "    [theme=dark] .colab-df-convert:hover {\n",
              "      background-color: #434B5C;\n",
              "      box-shadow: 0px 1px 3px 1px rgba(0, 0, 0, 0.15);\n",
              "      filter: drop-shadow(0px 1px 2px rgba(0, 0, 0, 0.3));\n",
              "      fill: #FFFFFF;\n",
              "    }\n",
              "  </style>\n",
              "\n",
              "      <script>\n",
              "        const buttonEl =\n",
              "          document.querySelector('#df-17b291da-3e72-4626-8342-4b5970df1c14 button.colab-df-convert');\n",
              "        buttonEl.style.display =\n",
              "          google.colab.kernel.accessAllowed ? 'block' : 'none';\n",
              "\n",
              "        async function convertToInteractive(key) {\n",
              "          const element = document.querySelector('#df-17b291da-3e72-4626-8342-4b5970df1c14');\n",
              "          const dataTable =\n",
              "            await google.colab.kernel.invokeFunction('convertToInteractive',\n",
              "                                                     [key], {});\n",
              "          if (!dataTable) return;\n",
              "\n",
              "          const docLinkHtml = 'Like what you see? Visit the ' +\n",
              "            '<a target=\"_blank\" href=https://colab.research.google.com/notebooks/data_table.ipynb>data table notebook</a>'\n",
              "            + ' to learn more about interactive tables.';\n",
              "          element.innerHTML = '';\n",
              "          dataTable['output_type'] = 'display_data';\n",
              "          await google.colab.output.renderOutput(dataTable, element);\n",
              "          const docLink = document.createElement('div');\n",
              "          docLink.innerHTML = docLinkHtml;\n",
              "          element.appendChild(docLink);\n",
              "        }\n",
              "      </script>\n",
              "    </div>\n",
              "  </div>\n",
              "  "
            ]
          },
          "metadata": {},
          "execution_count": 15
        }
      ]
    },
    {
      "cell_type": "markdown",
      "source": [
        "### Droping the column with a high correlation"
      ],
      "metadata": {
        "id": "AvJZsPoXoFzO"
      }
    },
    {
      "cell_type": "code",
      "source": [
        "to_drop = [column for column in upper_tri.columns if any(upper_tri[column] >= 0.90)]"
      ],
      "metadata": {
        "id": "2U8QqQfLoGv6"
      },
      "execution_count": 16,
      "outputs": []
    },
    {
      "cell_type": "code",
      "source": [
        "len(to_drop)"
      ],
      "metadata": {
        "colab": {
          "base_uri": "https://localhost:8080/"
        },
        "id": "uQxhmwuEoLwi",
        "outputId": "3f020e67-0175-4050-fa85-5bf771909614"
      },
      "execution_count": 17,
      "outputs": [
        {
          "output_type": "execute_result",
          "data": {
            "text/plain": [
              "2186"
            ]
          },
          "metadata": {},
          "execution_count": 17
        }
      ]
    },
    {
      "cell_type": "code",
      "source": [
        "X_filt_df.drop(to_drop, axis=1, inplace=True)"
      ],
      "metadata": {
        "id": "d1YXgpiAoO6Z"
      },
      "execution_count": 18,
      "outputs": []
    },
    {
      "cell_type": "code",
      "source": [
        "X_filt_df.shape"
      ],
      "metadata": {
        "colab": {
          "base_uri": "https://localhost:8080/"
        },
        "id": "6J44vAuNpWkw",
        "outputId": "4d44380e-2272-4e3b-ed72-00b95e2ddd00"
      },
      "execution_count": 19,
      "outputs": [
        {
          "output_type": "execute_result",
          "data": {
            "text/plain": [
              "(2100, 363)"
            ]
          },
          "metadata": {},
          "execution_count": 19
        }
      ]
    },
    {
      "cell_type": "markdown",
      "source": [
        "Here we still have 455 features which are a lot to design a multi class classifier. So we will use **Principal Component Analysis** to determine the components which explain 99% variation of data."
      ],
      "metadata": {
        "id": "VPyiEqyapgnZ"
      }
    },
    {
      "cell_type": "markdown",
      "source": [
        "## Principal Compoent Analysis"
      ],
      "metadata": {
        "id": "qan0Rkzgpt4U"
      }
    },
    {
      "cell_type": "markdown",
      "source": [
        "### Standard Scalar "
      ],
      "metadata": {
        "id": "h9-UcrKCU7D3"
      }
    },
    {
      "cell_type": "code",
      "source": [
        "sc = MinMaxScaler()\n",
        "X_sc = pd.DataFrame(sc.fit_transform(X_filt_df))"
      ],
      "metadata": {
        "id": "s5zyBD1gVD9y"
      },
      "execution_count": 27,
      "outputs": []
    },
    {
      "cell_type": "code",
      "source": [
        "X_sc.describe()"
      ],
      "metadata": {
        "colab": {
          "base_uri": "https://localhost:8080/",
          "height": 393
        },
        "id": "FBUJ3QiTUW5D",
        "outputId": "58a280e4-3ea2-4995-bf83-6dcee9535f04"
      },
      "execution_count": 28,
      "outputs": [
        {
          "output_type": "execute_result",
          "data": {
            "text/plain": [
              "               0            1            2            3            4    \\\n",
              "count  2100.000000  2100.000000  2100.000000  2100.000000  2100.000000   \n",
              "mean      0.400847     0.110503     0.013581     0.941822     0.937677   \n",
              "std       0.213082     0.129394     0.032218     0.194305     0.200177   \n",
              "min       0.000000     0.000000     0.000000     0.000000     0.000000   \n",
              "25%       0.236754     0.018349     0.006562     1.000000     1.000000   \n",
              "50%       0.408284     0.063524     0.011216     1.000000     1.000000   \n",
              "75%       0.564425     0.152785     0.015356     1.000000     1.000000   \n",
              "max       1.000000     1.000000     1.000000     1.000000     1.000000   \n",
              "\n",
              "               5            6            7            8            9    ...  \\\n",
              "count  2100.000000  2100.000000  2100.000000  2100.000000  2100.000000  ...   \n",
              "mean      0.353278     0.935562     0.752256     0.086667     0.514910  ...   \n",
              "std       0.202960     0.199153     0.218641     0.281413     0.201478  ...   \n",
              "min       0.000000     0.000000     0.000000     0.000000     0.000000  ...   \n",
              "25%       0.187915     1.000000     0.697332     0.000000     0.351513  ...   \n",
              "50%       0.337992     1.000000     0.842333     0.000000     0.516342  ...   \n",
              "75%       0.501620     1.000000     0.897316     0.000000     0.678130  ...   \n",
              "max       1.000000     1.000000     1.000000     1.000000     1.000000  ...   \n",
              "\n",
              "               353          354          355          356          357  \\\n",
              "count  2100.000000  2100.000000  2100.000000  2100.000000  2100.000000   \n",
              "mean      0.528877     0.701774     0.681429     0.530984     0.007707   \n",
              "std       0.111669     0.082516     0.466033     0.225482     0.036175   \n",
              "min       0.000000     0.000000     0.000000     0.000000     0.000000   \n",
              "25%       0.464490     0.704276     0.000000     0.375250     0.001414   \n",
              "50%       0.537611     0.717906     1.000000     0.530308     0.002990   \n",
              "75%       0.601212     0.726811     1.000000     0.699579     0.005686   \n",
              "max       1.000000     1.000000     1.000000     1.000000     1.000000   \n",
              "\n",
              "               358          359          360          361          362  \n",
              "count  2100.000000  2100.000000  2100.000000  2100.000000  2100.000000  \n",
              "mean      0.044021     0.572066     0.078059     0.128953     0.290876  \n",
              "std       0.057021     0.074399     0.183822     0.239633     0.080809  \n",
              "min       0.000000     0.000000     0.000000     0.000000     0.000000  \n",
              "25%       0.017901     0.541401     0.000000     0.000000     0.259097  \n",
              "50%       0.031771     0.572749     0.000000     0.000000     0.305026  \n",
              "75%       0.050474     0.607706     0.000000     0.000000     0.339063  \n",
              "max       1.000000     1.000000     1.000000     1.000000     1.000000  \n",
              "\n",
              "[8 rows x 363 columns]"
            ],
            "text/html": [
              "\n",
              "  <div id=\"df-09578c8d-feb6-4b2c-a641-ffe41200dcb2\">\n",
              "    <div class=\"colab-df-container\">\n",
              "      <div>\n",
              "<style scoped>\n",
              "    .dataframe tbody tr th:only-of-type {\n",
              "        vertical-align: middle;\n",
              "    }\n",
              "\n",
              "    .dataframe tbody tr th {\n",
              "        vertical-align: top;\n",
              "    }\n",
              "\n",
              "    .dataframe thead th {\n",
              "        text-align: right;\n",
              "    }\n",
              "</style>\n",
              "<table border=\"1\" class=\"dataframe\">\n",
              "  <thead>\n",
              "    <tr style=\"text-align: right;\">\n",
              "      <th></th>\n",
              "      <th>0</th>\n",
              "      <th>1</th>\n",
              "      <th>2</th>\n",
              "      <th>3</th>\n",
              "      <th>4</th>\n",
              "      <th>5</th>\n",
              "      <th>6</th>\n",
              "      <th>7</th>\n",
              "      <th>8</th>\n",
              "      <th>9</th>\n",
              "      <th>...</th>\n",
              "      <th>353</th>\n",
              "      <th>354</th>\n",
              "      <th>355</th>\n",
              "      <th>356</th>\n",
              "      <th>357</th>\n",
              "      <th>358</th>\n",
              "      <th>359</th>\n",
              "      <th>360</th>\n",
              "      <th>361</th>\n",
              "      <th>362</th>\n",
              "    </tr>\n",
              "  </thead>\n",
              "  <tbody>\n",
              "    <tr>\n",
              "      <th>count</th>\n",
              "      <td>2100.000000</td>\n",
              "      <td>2100.000000</td>\n",
              "      <td>2100.000000</td>\n",
              "      <td>2100.000000</td>\n",
              "      <td>2100.000000</td>\n",
              "      <td>2100.000000</td>\n",
              "      <td>2100.000000</td>\n",
              "      <td>2100.000000</td>\n",
              "      <td>2100.000000</td>\n",
              "      <td>2100.000000</td>\n",
              "      <td>...</td>\n",
              "      <td>2100.000000</td>\n",
              "      <td>2100.000000</td>\n",
              "      <td>2100.000000</td>\n",
              "      <td>2100.000000</td>\n",
              "      <td>2100.000000</td>\n",
              "      <td>2100.000000</td>\n",
              "      <td>2100.000000</td>\n",
              "      <td>2100.000000</td>\n",
              "      <td>2100.000000</td>\n",
              "      <td>2100.000000</td>\n",
              "    </tr>\n",
              "    <tr>\n",
              "      <th>mean</th>\n",
              "      <td>0.400847</td>\n",
              "      <td>0.110503</td>\n",
              "      <td>0.013581</td>\n",
              "      <td>0.941822</td>\n",
              "      <td>0.937677</td>\n",
              "      <td>0.353278</td>\n",
              "      <td>0.935562</td>\n",
              "      <td>0.752256</td>\n",
              "      <td>0.086667</td>\n",
              "      <td>0.514910</td>\n",
              "      <td>...</td>\n",
              "      <td>0.528877</td>\n",
              "      <td>0.701774</td>\n",
              "      <td>0.681429</td>\n",
              "      <td>0.530984</td>\n",
              "      <td>0.007707</td>\n",
              "      <td>0.044021</td>\n",
              "      <td>0.572066</td>\n",
              "      <td>0.078059</td>\n",
              "      <td>0.128953</td>\n",
              "      <td>0.290876</td>\n",
              "    </tr>\n",
              "    <tr>\n",
              "      <th>std</th>\n",
              "      <td>0.213082</td>\n",
              "      <td>0.129394</td>\n",
              "      <td>0.032218</td>\n",
              "      <td>0.194305</td>\n",
              "      <td>0.200177</td>\n",
              "      <td>0.202960</td>\n",
              "      <td>0.199153</td>\n",
              "      <td>0.218641</td>\n",
              "      <td>0.281413</td>\n",
              "      <td>0.201478</td>\n",
              "      <td>...</td>\n",
              "      <td>0.111669</td>\n",
              "      <td>0.082516</td>\n",
              "      <td>0.466033</td>\n",
              "      <td>0.225482</td>\n",
              "      <td>0.036175</td>\n",
              "      <td>0.057021</td>\n",
              "      <td>0.074399</td>\n",
              "      <td>0.183822</td>\n",
              "      <td>0.239633</td>\n",
              "      <td>0.080809</td>\n",
              "    </tr>\n",
              "    <tr>\n",
              "      <th>min</th>\n",
              "      <td>0.000000</td>\n",
              "      <td>0.000000</td>\n",
              "      <td>0.000000</td>\n",
              "      <td>0.000000</td>\n",
              "      <td>0.000000</td>\n",
              "      <td>0.000000</td>\n",
              "      <td>0.000000</td>\n",
              "      <td>0.000000</td>\n",
              "      <td>0.000000</td>\n",
              "      <td>0.000000</td>\n",
              "      <td>...</td>\n",
              "      <td>0.000000</td>\n",
              "      <td>0.000000</td>\n",
              "      <td>0.000000</td>\n",
              "      <td>0.000000</td>\n",
              "      <td>0.000000</td>\n",
              "      <td>0.000000</td>\n",
              "      <td>0.000000</td>\n",
              "      <td>0.000000</td>\n",
              "      <td>0.000000</td>\n",
              "      <td>0.000000</td>\n",
              "    </tr>\n",
              "    <tr>\n",
              "      <th>25%</th>\n",
              "      <td>0.236754</td>\n",
              "      <td>0.018349</td>\n",
              "      <td>0.006562</td>\n",
              "      <td>1.000000</td>\n",
              "      <td>1.000000</td>\n",
              "      <td>0.187915</td>\n",
              "      <td>1.000000</td>\n",
              "      <td>0.697332</td>\n",
              "      <td>0.000000</td>\n",
              "      <td>0.351513</td>\n",
              "      <td>...</td>\n",
              "      <td>0.464490</td>\n",
              "      <td>0.704276</td>\n",
              "      <td>0.000000</td>\n",
              "      <td>0.375250</td>\n",
              "      <td>0.001414</td>\n",
              "      <td>0.017901</td>\n",
              "      <td>0.541401</td>\n",
              "      <td>0.000000</td>\n",
              "      <td>0.000000</td>\n",
              "      <td>0.259097</td>\n",
              "    </tr>\n",
              "    <tr>\n",
              "      <th>50%</th>\n",
              "      <td>0.408284</td>\n",
              "      <td>0.063524</td>\n",
              "      <td>0.011216</td>\n",
              "      <td>1.000000</td>\n",
              "      <td>1.000000</td>\n",
              "      <td>0.337992</td>\n",
              "      <td>1.000000</td>\n",
              "      <td>0.842333</td>\n",
              "      <td>0.000000</td>\n",
              "      <td>0.516342</td>\n",
              "      <td>...</td>\n",
              "      <td>0.537611</td>\n",
              "      <td>0.717906</td>\n",
              "      <td>1.000000</td>\n",
              "      <td>0.530308</td>\n",
              "      <td>0.002990</td>\n",
              "      <td>0.031771</td>\n",
              "      <td>0.572749</td>\n",
              "      <td>0.000000</td>\n",
              "      <td>0.000000</td>\n",
              "      <td>0.305026</td>\n",
              "    </tr>\n",
              "    <tr>\n",
              "      <th>75%</th>\n",
              "      <td>0.564425</td>\n",
              "      <td>0.152785</td>\n",
              "      <td>0.015356</td>\n",
              "      <td>1.000000</td>\n",
              "      <td>1.000000</td>\n",
              "      <td>0.501620</td>\n",
              "      <td>1.000000</td>\n",
              "      <td>0.897316</td>\n",
              "      <td>0.000000</td>\n",
              "      <td>0.678130</td>\n",
              "      <td>...</td>\n",
              "      <td>0.601212</td>\n",
              "      <td>0.726811</td>\n",
              "      <td>1.000000</td>\n",
              "      <td>0.699579</td>\n",
              "      <td>0.005686</td>\n",
              "      <td>0.050474</td>\n",
              "      <td>0.607706</td>\n",
              "      <td>0.000000</td>\n",
              "      <td>0.000000</td>\n",
              "      <td>0.339063</td>\n",
              "    </tr>\n",
              "    <tr>\n",
              "      <th>max</th>\n",
              "      <td>1.000000</td>\n",
              "      <td>1.000000</td>\n",
              "      <td>1.000000</td>\n",
              "      <td>1.000000</td>\n",
              "      <td>1.000000</td>\n",
              "      <td>1.000000</td>\n",
              "      <td>1.000000</td>\n",
              "      <td>1.000000</td>\n",
              "      <td>1.000000</td>\n",
              "      <td>1.000000</td>\n",
              "      <td>...</td>\n",
              "      <td>1.000000</td>\n",
              "      <td>1.000000</td>\n",
              "      <td>1.000000</td>\n",
              "      <td>1.000000</td>\n",
              "      <td>1.000000</td>\n",
              "      <td>1.000000</td>\n",
              "      <td>1.000000</td>\n",
              "      <td>1.000000</td>\n",
              "      <td>1.000000</td>\n",
              "      <td>1.000000</td>\n",
              "    </tr>\n",
              "  </tbody>\n",
              "</table>\n",
              "<p>8 rows × 363 columns</p>\n",
              "</div>\n",
              "      <button class=\"colab-df-convert\" onclick=\"convertToInteractive('df-09578c8d-feb6-4b2c-a641-ffe41200dcb2')\"\n",
              "              title=\"Convert this dataframe to an interactive table.\"\n",
              "              style=\"display:none;\">\n",
              "        \n",
              "  <svg xmlns=\"http://www.w3.org/2000/svg\" height=\"24px\"viewBox=\"0 0 24 24\"\n",
              "       width=\"24px\">\n",
              "    <path d=\"M0 0h24v24H0V0z\" fill=\"none\"/>\n",
              "    <path d=\"M18.56 5.44l.94 2.06.94-2.06 2.06-.94-2.06-.94-.94-2.06-.94 2.06-2.06.94zm-11 1L8.5 8.5l.94-2.06 2.06-.94-2.06-.94L8.5 2.5l-.94 2.06-2.06.94zm10 10l.94 2.06.94-2.06 2.06-.94-2.06-.94-.94-2.06-.94 2.06-2.06.94z\"/><path d=\"M17.41 7.96l-1.37-1.37c-.4-.4-.92-.59-1.43-.59-.52 0-1.04.2-1.43.59L10.3 9.45l-7.72 7.72c-.78.78-.78 2.05 0 2.83L4 21.41c.39.39.9.59 1.41.59.51 0 1.02-.2 1.41-.59l7.78-7.78 2.81-2.81c.8-.78.8-2.07 0-2.86zM5.41 20L4 18.59l7.72-7.72 1.47 1.35L5.41 20z\"/>\n",
              "  </svg>\n",
              "      </button>\n",
              "      \n",
              "  <style>\n",
              "    .colab-df-container {\n",
              "      display:flex;\n",
              "      flex-wrap:wrap;\n",
              "      gap: 12px;\n",
              "    }\n",
              "\n",
              "    .colab-df-convert {\n",
              "      background-color: #E8F0FE;\n",
              "      border: none;\n",
              "      border-radius: 50%;\n",
              "      cursor: pointer;\n",
              "      display: none;\n",
              "      fill: #1967D2;\n",
              "      height: 32px;\n",
              "      padding: 0 0 0 0;\n",
              "      width: 32px;\n",
              "    }\n",
              "\n",
              "    .colab-df-convert:hover {\n",
              "      background-color: #E2EBFA;\n",
              "      box-shadow: 0px 1px 2px rgba(60, 64, 67, 0.3), 0px 1px 3px 1px rgba(60, 64, 67, 0.15);\n",
              "      fill: #174EA6;\n",
              "    }\n",
              "\n",
              "    [theme=dark] .colab-df-convert {\n",
              "      background-color: #3B4455;\n",
              "      fill: #D2E3FC;\n",
              "    }\n",
              "\n",
              "    [theme=dark] .colab-df-convert:hover {\n",
              "      background-color: #434B5C;\n",
              "      box-shadow: 0px 1px 3px 1px rgba(0, 0, 0, 0.15);\n",
              "      filter: drop-shadow(0px 1px 2px rgba(0, 0, 0, 0.3));\n",
              "      fill: #FFFFFF;\n",
              "    }\n",
              "  </style>\n",
              "\n",
              "      <script>\n",
              "        const buttonEl =\n",
              "          document.querySelector('#df-09578c8d-feb6-4b2c-a641-ffe41200dcb2 button.colab-df-convert');\n",
              "        buttonEl.style.display =\n",
              "          google.colab.kernel.accessAllowed ? 'block' : 'none';\n",
              "\n",
              "        async function convertToInteractive(key) {\n",
              "          const element = document.querySelector('#df-09578c8d-feb6-4b2c-a641-ffe41200dcb2');\n",
              "          const dataTable =\n",
              "            await google.colab.kernel.invokeFunction('convertToInteractive',\n",
              "                                                     [key], {});\n",
              "          if (!dataTable) return;\n",
              "\n",
              "          const docLinkHtml = 'Like what you see? Visit the ' +\n",
              "            '<a target=\"_blank\" href=https://colab.research.google.com/notebooks/data_table.ipynb>data table notebook</a>'\n",
              "            + ' to learn more about interactive tables.';\n",
              "          element.innerHTML = '';\n",
              "          dataTable['output_type'] = 'display_data';\n",
              "          await google.colab.output.renderOutput(dataTable, element);\n",
              "          const docLink = document.createElement('div');\n",
              "          docLink.innerHTML = docLinkHtml;\n",
              "          element.appendChild(docLink);\n",
              "        }\n",
              "      </script>\n",
              "    </div>\n",
              "  </div>\n",
              "  "
            ]
          },
          "metadata": {},
          "execution_count": 28
        }
      ]
    },
    {
      "cell_type": "markdown",
      "source": [
        "### PCA"
      ],
      "metadata": {
        "id": "xk17jz6aXSxm"
      }
    },
    {
      "cell_type": "code",
      "source": [
        "# 95% of variance\n",
        "pca = PCA(n_components=95)\n",
        "pca.fit(X_sc)\n",
        "cum_sum = np.cumsum(pca.explained_variance_ratio_)\n",
        "ind_95_var = np.argmax(cum_sum > 0.95)\n",
        "pca_df = pd.DataFrame(pca.transform(X_sc))"
      ],
      "metadata": {
        "id": "CoIgs-42Y56_"
      },
      "execution_count": 59,
      "outputs": []
    },
    {
      "cell_type": "code",
      "source": [
        "print(f\"The number of components explaining 95% variance are {ind_95_var}. \")"
      ],
      "metadata": {
        "colab": {
          "base_uri": "https://localhost:8080/"
        },
        "id": "UOQcAqwjXUbY",
        "outputId": "4e8b0d27-41fc-451a-c54c-f546827dd806"
      },
      "execution_count": 58,
      "outputs": [
        {
          "output_type": "stream",
          "name": "stdout",
          "text": [
            "The number of components explaining 95% variance are 94. \n"
          ]
        }
      ]
    },
    {
      "cell_type": "code",
      "source": [
        "pca_df.shape"
      ],
      "metadata": {
        "colab": {
          "base_uri": "https://localhost:8080/"
        },
        "id": "kZICLI1Yc9KO",
        "outputId": "a4d0397c-3119-4dc8-859f-c3ef7d2e357e"
      },
      "execution_count": 60,
      "outputs": [
        {
          "output_type": "execute_result",
          "data": {
            "text/plain": [
              "(2100, 95)"
            ]
          },
          "metadata": {},
          "execution_count": 60
        }
      ]
    },
    {
      "cell_type": "code",
      "source": [
        "pca_df.sample(5)"
      ],
      "metadata": {
        "colab": {
          "base_uri": "https://localhost:8080/",
          "height": 299
        },
        "id": "ajUu2KKPZW_0",
        "outputId": "5d7b0142-9929-4216-88ff-bf9c3f811aa4"
      },
      "execution_count": 61,
      "outputs": [
        {
          "output_type": "execute_result",
          "data": {
            "text/plain": [
              "            0         1         2         3         4         5         6   \\\n",
              "562  -1.323413 -0.458577 -0.309993  0.785605 -0.181218  0.295079 -0.569440   \n",
              "1166 -0.532332  1.172244 -1.136705 -1.284419  0.493396 -0.115136  0.285300   \n",
              "176  -1.302989  0.241173  0.139408 -0.346067 -0.936919 -0.495712 -0.587102   \n",
              "871  -0.298174 -0.596944  0.189628 -1.040165  1.046834  0.125316  0.101922   \n",
              "1057  0.250930 -0.044222  1.891937  0.219888  0.385253  0.698696  1.279095   \n",
              "\n",
              "            7         8         9   ...        85        86        87  \\\n",
              "562  -0.938859 -0.543243  1.170902  ...  0.039427  0.089400 -0.131106   \n",
              "1166 -0.177071 -0.879482 -0.883183  ...  0.104947  0.016240  0.027065   \n",
              "176  -0.511987 -0.736871  0.928024  ...  0.058697  0.113379 -0.020234   \n",
              "871   0.839800 -1.177201 -0.106858  ...  0.127693 -0.052059  0.091510   \n",
              "1057  0.162660  0.543077  0.161658  ...  0.008312 -0.006070 -0.029413   \n",
              "\n",
              "            88        89        90        91        92        93        94  \n",
              "562   0.029291 -0.003139  0.106824  0.121187  0.048059 -0.073299  0.025330  \n",
              "1166 -0.005002 -0.064925  0.039482 -0.190155  0.035471 -0.096528  0.024556  \n",
              "176   0.022882 -0.075299 -0.096589  0.062824 -0.119208  0.024554 -0.054000  \n",
              "871  -0.006379 -0.065036  0.087737  0.112415  0.129279  0.346302 -0.116817  \n",
              "1057 -0.080425 -0.088671  0.102486  0.029879  0.176982  0.014053  0.050513  \n",
              "\n",
              "[5 rows x 95 columns]"
            ],
            "text/html": [
              "\n",
              "  <div id=\"df-efc64bd1-fe06-4647-bde8-6329b3d8670e\">\n",
              "    <div class=\"colab-df-container\">\n",
              "      <div>\n",
              "<style scoped>\n",
              "    .dataframe tbody tr th:only-of-type {\n",
              "        vertical-align: middle;\n",
              "    }\n",
              "\n",
              "    .dataframe tbody tr th {\n",
              "        vertical-align: top;\n",
              "    }\n",
              "\n",
              "    .dataframe thead th {\n",
              "        text-align: right;\n",
              "    }\n",
              "</style>\n",
              "<table border=\"1\" class=\"dataframe\">\n",
              "  <thead>\n",
              "    <tr style=\"text-align: right;\">\n",
              "      <th></th>\n",
              "      <th>0</th>\n",
              "      <th>1</th>\n",
              "      <th>2</th>\n",
              "      <th>3</th>\n",
              "      <th>4</th>\n",
              "      <th>5</th>\n",
              "      <th>6</th>\n",
              "      <th>7</th>\n",
              "      <th>8</th>\n",
              "      <th>9</th>\n",
              "      <th>...</th>\n",
              "      <th>85</th>\n",
              "      <th>86</th>\n",
              "      <th>87</th>\n",
              "      <th>88</th>\n",
              "      <th>89</th>\n",
              "      <th>90</th>\n",
              "      <th>91</th>\n",
              "      <th>92</th>\n",
              "      <th>93</th>\n",
              "      <th>94</th>\n",
              "    </tr>\n",
              "  </thead>\n",
              "  <tbody>\n",
              "    <tr>\n",
              "      <th>562</th>\n",
              "      <td>-1.323413</td>\n",
              "      <td>-0.458577</td>\n",
              "      <td>-0.309993</td>\n",
              "      <td>0.785605</td>\n",
              "      <td>-0.181218</td>\n",
              "      <td>0.295079</td>\n",
              "      <td>-0.569440</td>\n",
              "      <td>-0.938859</td>\n",
              "      <td>-0.543243</td>\n",
              "      <td>1.170902</td>\n",
              "      <td>...</td>\n",
              "      <td>0.039427</td>\n",
              "      <td>0.089400</td>\n",
              "      <td>-0.131106</td>\n",
              "      <td>0.029291</td>\n",
              "      <td>-0.003139</td>\n",
              "      <td>0.106824</td>\n",
              "      <td>0.121187</td>\n",
              "      <td>0.048059</td>\n",
              "      <td>-0.073299</td>\n",
              "      <td>0.025330</td>\n",
              "    </tr>\n",
              "    <tr>\n",
              "      <th>1166</th>\n",
              "      <td>-0.532332</td>\n",
              "      <td>1.172244</td>\n",
              "      <td>-1.136705</td>\n",
              "      <td>-1.284419</td>\n",
              "      <td>0.493396</td>\n",
              "      <td>-0.115136</td>\n",
              "      <td>0.285300</td>\n",
              "      <td>-0.177071</td>\n",
              "      <td>-0.879482</td>\n",
              "      <td>-0.883183</td>\n",
              "      <td>...</td>\n",
              "      <td>0.104947</td>\n",
              "      <td>0.016240</td>\n",
              "      <td>0.027065</td>\n",
              "      <td>-0.005002</td>\n",
              "      <td>-0.064925</td>\n",
              "      <td>0.039482</td>\n",
              "      <td>-0.190155</td>\n",
              "      <td>0.035471</td>\n",
              "      <td>-0.096528</td>\n",
              "      <td>0.024556</td>\n",
              "    </tr>\n",
              "    <tr>\n",
              "      <th>176</th>\n",
              "      <td>-1.302989</td>\n",
              "      <td>0.241173</td>\n",
              "      <td>0.139408</td>\n",
              "      <td>-0.346067</td>\n",
              "      <td>-0.936919</td>\n",
              "      <td>-0.495712</td>\n",
              "      <td>-0.587102</td>\n",
              "      <td>-0.511987</td>\n",
              "      <td>-0.736871</td>\n",
              "      <td>0.928024</td>\n",
              "      <td>...</td>\n",
              "      <td>0.058697</td>\n",
              "      <td>0.113379</td>\n",
              "      <td>-0.020234</td>\n",
              "      <td>0.022882</td>\n",
              "      <td>-0.075299</td>\n",
              "      <td>-0.096589</td>\n",
              "      <td>0.062824</td>\n",
              "      <td>-0.119208</td>\n",
              "      <td>0.024554</td>\n",
              "      <td>-0.054000</td>\n",
              "    </tr>\n",
              "    <tr>\n",
              "      <th>871</th>\n",
              "      <td>-0.298174</td>\n",
              "      <td>-0.596944</td>\n",
              "      <td>0.189628</td>\n",
              "      <td>-1.040165</td>\n",
              "      <td>1.046834</td>\n",
              "      <td>0.125316</td>\n",
              "      <td>0.101922</td>\n",
              "      <td>0.839800</td>\n",
              "      <td>-1.177201</td>\n",
              "      <td>-0.106858</td>\n",
              "      <td>...</td>\n",
              "      <td>0.127693</td>\n",
              "      <td>-0.052059</td>\n",
              "      <td>0.091510</td>\n",
              "      <td>-0.006379</td>\n",
              "      <td>-0.065036</td>\n",
              "      <td>0.087737</td>\n",
              "      <td>0.112415</td>\n",
              "      <td>0.129279</td>\n",
              "      <td>0.346302</td>\n",
              "      <td>-0.116817</td>\n",
              "    </tr>\n",
              "    <tr>\n",
              "      <th>1057</th>\n",
              "      <td>0.250930</td>\n",
              "      <td>-0.044222</td>\n",
              "      <td>1.891937</td>\n",
              "      <td>0.219888</td>\n",
              "      <td>0.385253</td>\n",
              "      <td>0.698696</td>\n",
              "      <td>1.279095</td>\n",
              "      <td>0.162660</td>\n",
              "      <td>0.543077</td>\n",
              "      <td>0.161658</td>\n",
              "      <td>...</td>\n",
              "      <td>0.008312</td>\n",
              "      <td>-0.006070</td>\n",
              "      <td>-0.029413</td>\n",
              "      <td>-0.080425</td>\n",
              "      <td>-0.088671</td>\n",
              "      <td>0.102486</td>\n",
              "      <td>0.029879</td>\n",
              "      <td>0.176982</td>\n",
              "      <td>0.014053</td>\n",
              "      <td>0.050513</td>\n",
              "    </tr>\n",
              "  </tbody>\n",
              "</table>\n",
              "<p>5 rows × 95 columns</p>\n",
              "</div>\n",
              "      <button class=\"colab-df-convert\" onclick=\"convertToInteractive('df-efc64bd1-fe06-4647-bde8-6329b3d8670e')\"\n",
              "              title=\"Convert this dataframe to an interactive table.\"\n",
              "              style=\"display:none;\">\n",
              "        \n",
              "  <svg xmlns=\"http://www.w3.org/2000/svg\" height=\"24px\"viewBox=\"0 0 24 24\"\n",
              "       width=\"24px\">\n",
              "    <path d=\"M0 0h24v24H0V0z\" fill=\"none\"/>\n",
              "    <path d=\"M18.56 5.44l.94 2.06.94-2.06 2.06-.94-2.06-.94-.94-2.06-.94 2.06-2.06.94zm-11 1L8.5 8.5l.94-2.06 2.06-.94-2.06-.94L8.5 2.5l-.94 2.06-2.06.94zm10 10l.94 2.06.94-2.06 2.06-.94-2.06-.94-.94-2.06-.94 2.06-2.06.94z\"/><path d=\"M17.41 7.96l-1.37-1.37c-.4-.4-.92-.59-1.43-.59-.52 0-1.04.2-1.43.59L10.3 9.45l-7.72 7.72c-.78.78-.78 2.05 0 2.83L4 21.41c.39.39.9.59 1.41.59.51 0 1.02-.2 1.41-.59l7.78-7.78 2.81-2.81c.8-.78.8-2.07 0-2.86zM5.41 20L4 18.59l7.72-7.72 1.47 1.35L5.41 20z\"/>\n",
              "  </svg>\n",
              "      </button>\n",
              "      \n",
              "  <style>\n",
              "    .colab-df-container {\n",
              "      display:flex;\n",
              "      flex-wrap:wrap;\n",
              "      gap: 12px;\n",
              "    }\n",
              "\n",
              "    .colab-df-convert {\n",
              "      background-color: #E8F0FE;\n",
              "      border: none;\n",
              "      border-radius: 50%;\n",
              "      cursor: pointer;\n",
              "      display: none;\n",
              "      fill: #1967D2;\n",
              "      height: 32px;\n",
              "      padding: 0 0 0 0;\n",
              "      width: 32px;\n",
              "    }\n",
              "\n",
              "    .colab-df-convert:hover {\n",
              "      background-color: #E2EBFA;\n",
              "      box-shadow: 0px 1px 2px rgba(60, 64, 67, 0.3), 0px 1px 3px 1px rgba(60, 64, 67, 0.15);\n",
              "      fill: #174EA6;\n",
              "    }\n",
              "\n",
              "    [theme=dark] .colab-df-convert {\n",
              "      background-color: #3B4455;\n",
              "      fill: #D2E3FC;\n",
              "    }\n",
              "\n",
              "    [theme=dark] .colab-df-convert:hover {\n",
              "      background-color: #434B5C;\n",
              "      box-shadow: 0px 1px 3px 1px rgba(0, 0, 0, 0.15);\n",
              "      filter: drop-shadow(0px 1px 2px rgba(0, 0, 0, 0.3));\n",
              "      fill: #FFFFFF;\n",
              "    }\n",
              "  </style>\n",
              "\n",
              "      <script>\n",
              "        const buttonEl =\n",
              "          document.querySelector('#df-efc64bd1-fe06-4647-bde8-6329b3d8670e button.colab-df-convert');\n",
              "        buttonEl.style.display =\n",
              "          google.colab.kernel.accessAllowed ? 'block' : 'none';\n",
              "\n",
              "        async function convertToInteractive(key) {\n",
              "          const element = document.querySelector('#df-efc64bd1-fe06-4647-bde8-6329b3d8670e');\n",
              "          const dataTable =\n",
              "            await google.colab.kernel.invokeFunction('convertToInteractive',\n",
              "                                                     [key], {});\n",
              "          if (!dataTable) return;\n",
              "\n",
              "          const docLinkHtml = 'Like what you see? Visit the ' +\n",
              "            '<a target=\"_blank\" href=https://colab.research.google.com/notebooks/data_table.ipynb>data table notebook</a>'\n",
              "            + ' to learn more about interactive tables.';\n",
              "          element.innerHTML = '';\n",
              "          dataTable['output_type'] = 'display_data';\n",
              "          await google.colab.output.renderOutput(dataTable, element);\n",
              "          const docLink = document.createElement('div');\n",
              "          docLink.innerHTML = docLinkHtml;\n",
              "          element.appendChild(docLink);\n",
              "        }\n",
              "      </script>\n",
              "    </div>\n",
              "  </div>\n",
              "  "
            ]
          },
          "metadata": {},
          "execution_count": 61
        }
      ]
    },
    {
      "cell_type": "markdown",
      "source": [
        "### Cumulative Proportion Variance"
      ],
      "metadata": {
        "id": "K4TqAkuOZ_4M"
      }
    },
    {
      "cell_type": "code",
      "source": [
        "out_sum = np.cumsum(pca.explained_variance_ratio_)  \n",
        "print (\"Cumulative Prop. Variance Explained: \", out_sum)"
      ],
      "metadata": {
        "colab": {
          "base_uri": "https://localhost:8080/"
        },
        "id": "39nrHCDRaCj4",
        "outputId": "d6675dbe-7004-433c-d428-a0150c221c77"
      },
      "execution_count": 62,
      "outputs": [
        {
          "output_type": "stream",
          "name": "stdout",
          "text": [
            "Cumulative Prop. Variance Explained:  [0.14530271 0.24462454 0.30094851 0.35241491 0.39804617 0.44212902\n",
            " 0.47695846 0.50565902 0.53187786 0.55388872 0.57414225 0.59242779\n",
            " 0.60810215 0.62301832 0.63771106 0.65016232 0.66193501 0.67365817\n",
            " 0.68495375 0.6959716  0.70622577 0.71619365 0.72552791 0.73424032\n",
            " 0.74279984 0.75115177 0.75883519 0.76608302 0.77286054 0.77918508\n",
            " 0.7853373  0.79126741 0.79702626 0.80275168 0.80814565 0.81342607\n",
            " 0.81860737 0.82361833 0.82836185 0.83287532 0.83736503 0.84175869\n",
            " 0.84584166 0.84984228 0.85372951 0.85748272 0.86111872 0.86465963\n",
            " 0.86818427 0.87155377 0.87486138 0.87805772 0.88109289 0.88397897\n",
            " 0.88678987 0.88939134 0.89192328 0.89435749 0.89668567 0.89898192\n",
            " 0.90124131 0.90339033 0.90547036 0.90752453 0.90949121 0.91143957\n",
            " 0.91336894 0.91522513 0.91705475 0.91877977 0.92046197 0.92208711\n",
            " 0.92369149 0.92526666 0.92681727 0.92831558 0.9297719  0.93121638\n",
            " 0.93258234 0.93392556 0.93522962 0.93651738 0.93776672 0.93898179\n",
            " 0.94015173 0.94129043 0.94241356 0.94347871 0.94453165 0.94556203\n",
            " 0.94657715 0.94758878 0.94855392 0.94949911 0.9504083 ]\n"
          ]
        }
      ]
    },
    {
      "cell_type": "markdown",
      "source": [
        "### Save the dataframe of 94 features for further use."
      ],
      "metadata": {
        "id": "aTc9NqsMdO7C"
      }
    },
    {
      "cell_type": "code",
      "source": [
        "pca_df.to_csv('pca_feat_x.csv')\n",
        "y_df.to_csv('pca_feat_y.csv')"
      ],
      "metadata": {
        "id": "sejlkpUZg4yy"
      },
      "execution_count": 72,
      "outputs": []
    },
    {
      "cell_type": "markdown",
      "source": [
        "## Classification Algorithms \n",
        "\n",
        "The goal of this section is to test different classification algorithms with the features obtained after principal component analysis in the above section. From this classifier models we will select the top models to develop the final stacked multi-class classifier."
      ],
      "metadata": {
        "id": "x1eajINThgBa"
      }
    },
    {
      "cell_type": "markdown",
      "source": [
        "### Importing the dataset"
      ],
      "metadata": {
        "id": "KVr1NrskeJR9"
      }
    },
    {
      "cell_type": "code",
      "source": [
        "X = pd.read_csv('pca_feat_x.csv')\n",
        "y = pd.read_csv('pca_feat_y.csv')\n",
        "y = y.iloc[:,-1]"
      ],
      "metadata": {
        "id": "C34sTSpeeK8V"
      },
      "execution_count": 2,
      "outputs": []
    },
    {
      "cell_type": "code",
      "source": [
        "X.shape"
      ],
      "metadata": {
        "colab": {
          "base_uri": "https://localhost:8080/"
        },
        "id": "eK1HzvvGfBeL",
        "outputId": "c01bd88e-5081-482d-85b1-1b18f80a38e1"
      },
      "execution_count": 3,
      "outputs": [
        {
          "output_type": "execute_result",
          "data": {
            "text/plain": [
              "(2100, 96)"
            ]
          },
          "metadata": {},
          "execution_count": 3
        }
      ]
    },
    {
      "cell_type": "code",
      "source": [
        "y.shape"
      ],
      "metadata": {
        "colab": {
          "base_uri": "https://localhost:8080/"
        },
        "id": "RzhNO3oBfD9V",
        "outputId": "97a3c666-9388-405a-a116-e761b0237016"
      },
      "execution_count": 4,
      "outputs": [
        {
          "output_type": "execute_result",
          "data": {
            "text/plain": [
              "(2100,)"
            ]
          },
          "metadata": {},
          "execution_count": 4
        }
      ]
    },
    {
      "cell_type": "markdown",
      "source": [
        "### Split the data into training and test set"
      ],
      "metadata": {
        "id": "HjVXVvtVe7G8"
      }
    },
    {
      "cell_type": "code",
      "source": [
        "X_train, X_test, y_train, y_test = train_test_split(X, y, test_size = 0.20, random_state = 0)"
      ],
      "metadata": {
        "id": "3_qpv5hce9mk"
      },
      "execution_count": 5,
      "outputs": []
    },
    {
      "cell_type": "markdown",
      "source": [
        "### Decision Tree Classification model "
      ],
      "metadata": {
        "id": "9GgxO7QZgAEF"
      }
    },
    {
      "cell_type": "code",
      "source": [
        "classifier = DecisionTreeClassifier(criterion='entropy', random_state=0)\n",
        "classifier.fit(X_train, y_train)"
      ],
      "metadata": {
        "colab": {
          "base_uri": "https://localhost:8080/",
          "height": 74
        },
        "id": "m3P5AZBQgBTH",
        "outputId": "026d6d30-0d51-441f-d022-75ee33641575"
      },
      "execution_count": 6,
      "outputs": [
        {
          "output_type": "execute_result",
          "data": {
            "text/plain": [
              "DecisionTreeClassifier(criterion='entropy', random_state=0)"
            ],
            "text/html": [
              "<style>#sk-container-id-1 {color: black;background-color: white;}#sk-container-id-1 pre{padding: 0;}#sk-container-id-1 div.sk-toggleable {background-color: white;}#sk-container-id-1 label.sk-toggleable__label {cursor: pointer;display: block;width: 100%;margin-bottom: 0;padding: 0.3em;box-sizing: border-box;text-align: center;}#sk-container-id-1 label.sk-toggleable__label-arrow:before {content: \"▸\";float: left;margin-right: 0.25em;color: #696969;}#sk-container-id-1 label.sk-toggleable__label-arrow:hover:before {color: black;}#sk-container-id-1 div.sk-estimator:hover label.sk-toggleable__label-arrow:before {color: black;}#sk-container-id-1 div.sk-toggleable__content {max-height: 0;max-width: 0;overflow: hidden;text-align: left;background-color: #f0f8ff;}#sk-container-id-1 div.sk-toggleable__content pre {margin: 0.2em;color: black;border-radius: 0.25em;background-color: #f0f8ff;}#sk-container-id-1 input.sk-toggleable__control:checked~div.sk-toggleable__content {max-height: 200px;max-width: 100%;overflow: auto;}#sk-container-id-1 input.sk-toggleable__control:checked~label.sk-toggleable__label-arrow:before {content: \"▾\";}#sk-container-id-1 div.sk-estimator input.sk-toggleable__control:checked~label.sk-toggleable__label {background-color: #d4ebff;}#sk-container-id-1 div.sk-label input.sk-toggleable__control:checked~label.sk-toggleable__label {background-color: #d4ebff;}#sk-container-id-1 input.sk-hidden--visually {border: 0;clip: rect(1px 1px 1px 1px);clip: rect(1px, 1px, 1px, 1px);height: 1px;margin: -1px;overflow: hidden;padding: 0;position: absolute;width: 1px;}#sk-container-id-1 div.sk-estimator {font-family: monospace;background-color: #f0f8ff;border: 1px dotted black;border-radius: 0.25em;box-sizing: border-box;margin-bottom: 0.5em;}#sk-container-id-1 div.sk-estimator:hover {background-color: #d4ebff;}#sk-container-id-1 div.sk-parallel-item::after {content: \"\";width: 100%;border-bottom: 1px solid gray;flex-grow: 1;}#sk-container-id-1 div.sk-label:hover label.sk-toggleable__label {background-color: #d4ebff;}#sk-container-id-1 div.sk-serial::before {content: \"\";position: absolute;border-left: 1px solid gray;box-sizing: border-box;top: 0;bottom: 0;left: 50%;z-index: 0;}#sk-container-id-1 div.sk-serial {display: flex;flex-direction: column;align-items: center;background-color: white;padding-right: 0.2em;padding-left: 0.2em;position: relative;}#sk-container-id-1 div.sk-item {position: relative;z-index: 1;}#sk-container-id-1 div.sk-parallel {display: flex;align-items: stretch;justify-content: center;background-color: white;position: relative;}#sk-container-id-1 div.sk-item::before, #sk-container-id-1 div.sk-parallel-item::before {content: \"\";position: absolute;border-left: 1px solid gray;box-sizing: border-box;top: 0;bottom: 0;left: 50%;z-index: -1;}#sk-container-id-1 div.sk-parallel-item {display: flex;flex-direction: column;z-index: 1;position: relative;background-color: white;}#sk-container-id-1 div.sk-parallel-item:first-child::after {align-self: flex-end;width: 50%;}#sk-container-id-1 div.sk-parallel-item:last-child::after {align-self: flex-start;width: 50%;}#sk-container-id-1 div.sk-parallel-item:only-child::after {width: 0;}#sk-container-id-1 div.sk-dashed-wrapped {border: 1px dashed gray;margin: 0 0.4em 0.5em 0.4em;box-sizing: border-box;padding-bottom: 0.4em;background-color: white;}#sk-container-id-1 div.sk-label label {font-family: monospace;font-weight: bold;display: inline-block;line-height: 1.2em;}#sk-container-id-1 div.sk-label-container {text-align: center;}#sk-container-id-1 div.sk-container {/* jupyter's `normalize.less` sets `[hidden] { display: none; }` but bootstrap.min.css set `[hidden] { display: none !important; }` so we also need the `!important` here to be able to override the default hidden behavior on the sphinx rendered scikit-learn.org. See: https://github.com/scikit-learn/scikit-learn/issues/21755 */display: inline-block !important;position: relative;}#sk-container-id-1 div.sk-text-repr-fallback {display: none;}</style><div id=\"sk-container-id-1\" class=\"sk-top-container\"><div class=\"sk-text-repr-fallback\"><pre>DecisionTreeClassifier(criterion=&#x27;entropy&#x27;, random_state=0)</pre><b>In a Jupyter environment, please rerun this cell to show the HTML representation or trust the notebook. <br />On GitHub, the HTML representation is unable to render, please try loading this page with nbviewer.org.</b></div><div class=\"sk-container\" hidden><div class=\"sk-item\"><div class=\"sk-estimator sk-toggleable\"><input class=\"sk-toggleable__control sk-hidden--visually\" id=\"sk-estimator-id-1\" type=\"checkbox\" checked><label for=\"sk-estimator-id-1\" class=\"sk-toggleable__label sk-toggleable__label-arrow\">DecisionTreeClassifier</label><div class=\"sk-toggleable__content\"><pre>DecisionTreeClassifier(criterion=&#x27;entropy&#x27;, random_state=0)</pre></div></div></div></div></div>"
            ]
          },
          "metadata": {},
          "execution_count": 6
        }
      ]
    },
    {
      "cell_type": "markdown",
      "source": [
        "#### Classification Report"
      ],
      "metadata": {
        "id": "OqRojsXugZYU"
      }
    },
    {
      "cell_type": "code",
      "source": [
        "y_pred = classifier.predict(X_test)"
      ],
      "metadata": {
        "id": "sVqXhoSIiUuz"
      },
      "execution_count": 7,
      "outputs": []
    },
    {
      "cell_type": "code",
      "source": [
        "print(classification_report(y_test, y_pred))"
      ],
      "metadata": {
        "colab": {
          "base_uri": "https://localhost:8080/"
        },
        "id": "5AoTtYQHiMOk",
        "outputId": "25264851-4c57-4691-ae01-9467f6da142d"
      },
      "execution_count": 8,
      "outputs": [
        {
          "output_type": "stream",
          "name": "stdout",
          "text": [
            "              precision    recall  f1-score   support\n",
            "\n",
            "           1       0.79      0.77      0.78       340\n",
            "           2       0.04      0.07      0.05        14\n",
            "           3       0.10      0.07      0.08        30\n",
            "           4       0.09      0.11      0.10        36\n",
            "\n",
            "    accuracy                           0.64       420\n",
            "   macro avg       0.26      0.25      0.25       420\n",
            "weighted avg       0.66      0.64      0.65       420\n",
            "\n"
          ]
        }
      ]
    },
    {
      "cell_type": "code",
      "source": [
        "conf_matrix = confusion_matrix(y_test, y_pred)\n",
        "class_names = ['M1', 'M2', 'M3', 'M4']\n",
        "fig, ax = plot_confusion_matrix(conf_mat=conf_matrix, \n",
        "                                figsize=(3, 3), \n",
        "                                norm_colormap=LogNorm() ,\n",
        "                                class_names=class_names,\n",
        "                                )\n",
        "plt.xlabel('Predictions', fontsize=14)\n",
        "plt.ylabel('Actuals', fontsize=14)\n",
        "plt.title('Confusion Matrix', fontsize=16)\n",
        "plt.show()"
      ],
      "metadata": {
        "colab": {
          "base_uri": "https://localhost:8080/",
          "height": 351
        },
        "id": "7rDGew-ShFlq",
        "outputId": "b85bc358-6c75-4edd-a458-5bee92f59907"
      },
      "execution_count": 12,
      "outputs": [
        {
          "output_type": "display_data",
          "data": {
            "text/plain": [
              "<Figure size 300x300 with 1 Axes>"
            ],
            "image/png": "[encoded data removed]"
          },
          "metadata": {}
        }
      ]
    },
    {
      "cell_type": "markdown",
      "source": [
        "### K-Nearest Neighbors"
      ],
      "metadata": {
        "id": "AneAU1jMmVDE"
      }
    },
    {
      "cell_type": "code",
      "source": [
        "knn = KNeighborsClassifier(n_neighbors=5)\n",
        "knn.fit(X_train,y_train)"
      ],
      "metadata": {
        "colab": {
          "base_uri": "https://localhost:8080/",
          "height": 74
        },
        "id": "6iKnX1C8mYfs",
        "outputId": "44dd8a07-d915-4510-8b0f-f7fa684e6f53"
      },
      "execution_count": 14,
      "outputs": [
        {
          "output_type": "execute_result",
          "data": {
            "text/plain": [
              "KNeighborsClassifier()"
            ],
            "text/html": [
              "<style>#sk-container-id-2 {color: black;background-color: white;}#sk-container-id-2 pre{padding: 0;}#sk-container-id-2 div.sk-toggleable {background-color: white;}#sk-container-id-2 label.sk-toggleable__label {cursor: pointer;display: block;width: 100%;margin-bottom: 0;padding: 0.3em;box-sizing: border-box;text-align: center;}#sk-container-id-2 label.sk-toggleable__label-arrow:before {content: \"▸\";float: left;margin-right: 0.25em;color: #696969;}#sk-container-id-2 label.sk-toggleable__label-arrow:hover:before {color: black;}#sk-container-id-2 div.sk-estimator:hover label.sk-toggleable__label-arrow:before {color: black;}#sk-container-id-2 div.sk-toggleable__content {max-height: 0;max-width: 0;overflow: hidden;text-align: left;background-color: #f0f8ff;}#sk-container-id-2 div.sk-toggleable__content pre {margin: 0.2em;color: black;border-radius: 0.25em;background-color: #f0f8ff;}#sk-container-id-2 input.sk-toggleable__control:checked~div.sk-toggleable__content {max-height: 200px;max-width: 100%;overflow: auto;}#sk-container-id-2 input.sk-toggleable__control:checked~label.sk-toggleable__label-arrow:before {content: \"▾\";}#sk-container-id-2 div.sk-estimator input.sk-toggleable__control:checked~label.sk-toggleable__label {background-color: #d4ebff;}#sk-container-id-2 div.sk-label input.sk-toggleable__control:checked~label.sk-toggleable__label {background-color: #d4ebff;}#sk-container-id-2 input.sk-hidden--visually {border: 0;clip: rect(1px 1px 1px 1px);clip: rect(1px, 1px, 1px, 1px);height: 1px;margin: -1px;overflow: hidden;padding: 0;position: absolute;width: 1px;}#sk-container-id-2 div.sk-estimator {font-family: monospace;background-color: #f0f8ff;border: 1px dotted black;border-radius: 0.25em;box-sizing: border-box;margin-bottom: 0.5em;}#sk-container-id-2 div.sk-estimator:hover {background-color: #d4ebff;}#sk-container-id-2 div.sk-parallel-item::after {content: \"\";width: 100%;border-bottom: 1px solid gray;flex-grow: 1;}#sk-container-id-2 div.sk-label:hover label.sk-toggleable__label {background-color: #d4ebff;}#sk-container-id-2 div.sk-serial::before {content: \"\";position: absolute;border-left: 1px solid gray;box-sizing: border-box;top: 0;bottom: 0;left: 50%;z-index: 0;}#sk-container-id-2 div.sk-serial {display: flex;flex-direction: column;align-items: center;background-color: white;padding-right: 0.2em;padding-left: 0.2em;position: relative;}#sk-container-id-2 div.sk-item {position: relative;z-index: 1;}#sk-container-id-2 div.sk-parallel {display: flex;align-items: stretch;justify-content: center;background-color: white;position: relative;}#sk-container-id-2 div.sk-item::before, #sk-container-id-2 div.sk-parallel-item::before {content: \"\";position: absolute;border-left: 1px solid gray;box-sizing: border-box;top: 0;bottom: 0;left: 50%;z-index: -1;}#sk-container-id-2 div.sk-parallel-item {display: flex;flex-direction: column;z-index: 1;position: relative;background-color: white;}#sk-container-id-2 div.sk-parallel-item:first-child::after {align-self: flex-end;width: 50%;}#sk-container-id-2 div.sk-parallel-item:last-child::after {align-self: flex-start;width: 50%;}#sk-container-id-2 div.sk-parallel-item:only-child::after {width: 0;}#sk-container-id-2 div.sk-dashed-wrapped {border: 1px dashed gray;margin: 0 0.4em 0.5em 0.4em;box-sizing: border-box;padding-bottom: 0.4em;background-color: white;}#sk-container-id-2 div.sk-label label {font-family: monospace;font-weight: bold;display: inline-block;line-height: 1.2em;}#sk-container-id-2 div.sk-label-container {text-align: center;}#sk-container-id-2 div.sk-container {/* jupyter's `normalize.less` sets `[hidden] { display: none; }` but bootstrap.min.css set `[hidden] { display: none !important; }` so we also need the `!important` here to be able to override the default hidden behavior on the sphinx rendered scikit-learn.org. See: https://github.com/scikit-learn/scikit-learn/issues/21755 */display: inline-block !important;position: relative;}#sk-container-id-2 div.sk-text-repr-fallback {display: none;}</style><div id=\"sk-container-id-2\" class=\"sk-top-container\"><div class=\"sk-text-repr-fallback\"><pre>KNeighborsClassifier()</pre><b>In a Jupyter environment, please rerun this cell to show the HTML representation or trust the notebook. <br />On GitHub, the HTML representation is unable to render, please try loading this page with nbviewer.org.</b></div><div class=\"sk-container\" hidden><div class=\"sk-item\"><div class=\"sk-estimator sk-toggleable\"><input class=\"sk-toggleable__control sk-hidden--visually\" id=\"sk-estimator-id-2\" type=\"checkbox\" checked><label for=\"sk-estimator-id-2\" class=\"sk-toggleable__label sk-toggleable__label-arrow\">KNeighborsClassifier</label><div class=\"sk-toggleable__content\"><pre>KNeighborsClassifier()</pre></div></div></div></div></div>"
            ]
          },
          "metadata": {},
          "execution_count": 14
        }
      ]
    },
    {
      "cell_type": "markdown",
      "source": [
        "#### Classification Report"
      ],
      "metadata": {
        "id": "1kKzirlvmgAj"
      }
    },
    {
      "cell_type": "code",
      "source": [
        "y_pred = knn.predict(X_test)"
      ],
      "metadata": {
        "id": "K8eMuyCxmgAj"
      },
      "execution_count": 15,
      "outputs": []
    },
    {
      "cell_type": "code",
      "source": [
        "print(classification_report(y_test, y_pred))"
      ],
      "metadata": {
        "colab": {
          "base_uri": "https://localhost:8080/"
        },
        "outputId": "4e810961-c2ce-4815-d3b7-f6e942aa63c0",
        "id": "WZ5PLA15mgAk"
      },
      "execution_count": 16,
      "outputs": [
        {
          "output_type": "stream",
          "name": "stdout",
          "text": [
            "              precision    recall  f1-score   support\n",
            "\n",
            "           1       0.81      0.99      0.89       340\n",
            "           2       0.00      0.00      0.00        14\n",
            "           3       0.00      0.00      0.00        30\n",
            "           4       0.50      0.06      0.10        36\n",
            "\n",
            "    accuracy                           0.81       420\n",
            "   macro avg       0.33      0.26      0.25       420\n",
            "weighted avg       0.70      0.81      0.73       420\n",
            "\n"
          ]
        },
        {
          "output_type": "stream",
          "name": "stderr",
          "text": [
            "/usr/local/lib/python3.9/dist-packages/sklearn/metrics/_classification.py:1344: UndefinedMetricWarning: Precision and F-score are ill-defined and being set to 0.0 in labels with no predicted samples. Use `zero_division` parameter to control this behavior.\n",
            "  _warn_prf(average, modifier, msg_start, len(result))\n",
            "/usr/local/lib/python3.9/dist-packages/sklearn/metrics/_classification.py:1344: UndefinedMetricWarning: Precision and F-score are ill-defined and being set to 0.0 in labels with no predicted samples. Use `zero_division` parameter to control this behavior.\n",
            "  _warn_prf(average, modifier, msg_start, len(result))\n",
            "/usr/local/lib/python3.9/dist-packages/sklearn/metrics/_classification.py:1344: UndefinedMetricWarning: Precision and F-score are ill-defined and being set to 0.0 in labels with no predicted samples. Use `zero_division` parameter to control this behavior.\n",
            "  _warn_prf(average, modifier, msg_start, len(result))\n"
          ]
        }
      ]
    },
    {
      "cell_type": "code",
      "source": [
        "conf_matrix = confusion_matrix(y_test, y_pred)\n",
        "class_names = ['M1', 'M2', 'M3', 'M4']\n",
        "fig, ax = plot_confusion_matrix(conf_mat=conf_matrix, \n",
        "                                figsize=(3, 3), \n",
        "                                norm_colormap=LogNorm() ,\n",
        "                                class_names=class_names,\n",
        "                                )\n",
        "plt.xlabel('Predictions', fontsize=14)\n",
        "plt.ylabel('Actuals', fontsize=14)\n",
        "plt.title('Confusion Matrix', fontsize=16)\n",
        "plt.show()"
      ],
      "metadata": {
        "colab": {
          "base_uri": "https://localhost:8080/",
          "height": 351
        },
        "outputId": "edba4d6c-653a-4917-fd8b-b789c060647e",
        "id": "bBTyHXeZmgAk"
      },
      "execution_count": 17,
      "outputs": [
        {
          "output_type": "display_data",
          "data": {
            "text/plain": [
              "<Figure size 300x300 with 1 Axes>"
            ],
            "image/png": "[encoded data removed]"
          },
          "metadata": {}
        }
      ]
    },
    {
      "cell_type": "markdown",
      "source": [
        "### Kernel SVM"
      ],
      "metadata": {
        "id": "QxRi1f9onEql"
      }
    },
    {
      "cell_type": "code",
      "source": [
        "svm = SVC(kernel = 'rbf', random_state = 0)\n",
        "svm.fit(X_train, y_train)"
      ],
      "metadata": {
        "colab": {
          "base_uri": "https://localhost:8080/",
          "height": 74
        },
        "id": "iyq0YveunGaW",
        "outputId": "ace0a8be-2bb3-41d6-868e-42c8fc519423"
      },
      "execution_count": 19,
      "outputs": [
        {
          "output_type": "execute_result",
          "data": {
            "text/plain": [
              "SVC(random_state=0)"
            ],
            "text/html": [
              "<style>#sk-container-id-3 {color: black;background-color: white;}#sk-container-id-3 pre{padding: 0;}#sk-container-id-3 div.sk-toggleable {background-color: white;}#sk-container-id-3 label.sk-toggleable__label {cursor: pointer;display: block;width: 100%;margin-bottom: 0;padding: 0.3em;box-sizing: border-box;text-align: center;}#sk-container-id-3 label.sk-toggleable__label-arrow:before {content: \"▸\";float: left;margin-right: 0.25em;color: #696969;}#sk-container-id-3 label.sk-toggleable__label-arrow:hover:before {color: black;}#sk-container-id-3 div.sk-estimator:hover label.sk-toggleable__label-arrow:before {color: black;}#sk-container-id-3 div.sk-toggleable__content {max-height: 0;max-width: 0;overflow: hidden;text-align: left;background-color: #f0f8ff;}#sk-container-id-3 div.sk-toggleable__content pre {margin: 0.2em;color: black;border-radius: 0.25em;background-color: #f0f8ff;}#sk-container-id-3 input.sk-toggleable__control:checked~div.sk-toggleable__content {max-height: 200px;max-width: 100%;overflow: auto;}#sk-container-id-3 input.sk-toggleable__control:checked~label.sk-toggleable__label-arrow:before {content: \"▾\";}#sk-container-id-3 div.sk-estimator input.sk-toggleable__control:checked~label.sk-toggleable__label {background-color: #d4ebff;}#sk-container-id-3 div.sk-label input.sk-toggleable__control:checked~label.sk-toggleable__label {background-color: #d4ebff;}#sk-container-id-3 input.sk-hidden--visually {border: 0;clip: rect(1px 1px 1px 1px);clip: rect(1px, 1px, 1px, 1px);height: 1px;margin: -1px;overflow: hidden;padding: 0;position: absolute;width: 1px;}#sk-container-id-3 div.sk-estimator {font-family: monospace;background-color: #f0f8ff;border: 1px dotted black;border-radius: 0.25em;box-sizing: border-box;margin-bottom: 0.5em;}#sk-container-id-3 div.sk-estimator:hover {background-color: #d4ebff;}#sk-container-id-3 div.sk-parallel-item::after {content: \"\";width: 100%;border-bottom: 1px solid gray;flex-grow: 1;}#sk-container-id-3 div.sk-label:hover label.sk-toggleable__label {background-color: #d4ebff;}#sk-container-id-3 div.sk-serial::before {content: \"\";position: absolute;border-left: 1px solid gray;box-sizing: border-box;top: 0;bottom: 0;left: 50%;z-index: 0;}#sk-container-id-3 div.sk-serial {display: flex;flex-direction: column;align-items: center;background-color: white;padding-right: 0.2em;padding-left: 0.2em;position: relative;}#sk-container-id-3 div.sk-item {position: relative;z-index: 1;}#sk-container-id-3 div.sk-parallel {display: flex;align-items: stretch;justify-content: center;background-color: white;position: relative;}#sk-container-id-3 div.sk-item::before, #sk-container-id-3 div.sk-parallel-item::before {content: \"\";position: absolute;border-left: 1px solid gray;box-sizing: border-box;top: 0;bottom: 0;left: 50%;z-index: -1;}#sk-container-id-3 div.sk-parallel-item {display: flex;flex-direction: column;z-index: 1;position: relative;background-color: white;}#sk-container-id-3 div.sk-parallel-item:first-child::after {align-self: flex-end;width: 50%;}#sk-container-id-3 div.sk-parallel-item:last-child::after {align-self: flex-start;width: 50%;}#sk-container-id-3 div.sk-parallel-item:only-child::after {width: 0;}#sk-container-id-3 div.sk-dashed-wrapped {border: 1px dashed gray;margin: 0 0.4em 0.5em 0.4em;box-sizing: border-box;padding-bottom: 0.4em;background-color: white;}#sk-container-id-3 div.sk-label label {font-family: monospace;font-weight: bold;display: inline-block;line-height: 1.2em;}#sk-container-id-3 div.sk-label-container {text-align: center;}#sk-container-id-3 div.sk-container {/* jupyter's `normalize.less` sets `[hidden] { display: none; }` but bootstrap.min.css set `[hidden] { display: none !important; }` so we also need the `!important` here to be able to override the default hidden behavior on the sphinx rendered scikit-learn.org. See: https://github.com/scikit-learn/scikit-learn/issues/21755 */display: inline-block !important;position: relative;}#sk-container-id-3 div.sk-text-repr-fallback {display: none;}</style><div id=\"sk-container-id-3\" class=\"sk-top-container\"><div class=\"sk-text-repr-fallback\"><pre>SVC(random_state=0)</pre><b>In a Jupyter environment, please rerun this cell to show the HTML representation or trust the notebook. <br />On GitHub, the HTML representation is unable to render, please try loading this page with nbviewer.org.</b></div><div class=\"sk-container\" hidden><div class=\"sk-item\"><div class=\"sk-estimator sk-toggleable\"><input class=\"sk-toggleable__control sk-hidden--visually\" id=\"sk-estimator-id-3\" type=\"checkbox\" checked><label for=\"sk-estimator-id-3\" class=\"sk-toggleable__label sk-toggleable__label-arrow\">SVC</label><div class=\"sk-toggleable__content\"><pre>SVC(random_state=0)</pre></div></div></div></div></div>"
            ]
          },
          "metadata": {},
          "execution_count": 19
        }
      ]
    },
    {
      "cell_type": "markdown",
      "source": [
        "#### Classification Report"
      ],
      "metadata": {
        "id": "3cPmAR0YnXry"
      }
    },
    {
      "cell_type": "code",
      "source": [
        "y_pred = svm.predict(X_test)"
      ],
      "metadata": {
        "id": "4SM1KfionXry"
      },
      "execution_count": 20,
      "outputs": []
    },
    {
      "cell_type": "code",
      "source": [
        "print(classification_report(y_test, y_pred))"
      ],
      "metadata": {
        "colab": {
          "base_uri": "https://localhost:8080/"
        },
        "outputId": "036d947b-5441-438b-cceb-c76506fc9862",
        "id": "H2xXirkWnXry"
      },
      "execution_count": 21,
      "outputs": [
        {
          "output_type": "stream",
          "name": "stdout",
          "text": [
            "              precision    recall  f1-score   support\n",
            "\n",
            "           1       0.81      1.00      0.89       340\n",
            "           2       0.00      0.00      0.00        14\n",
            "           3       0.00      0.00      0.00        30\n",
            "           4       0.00      0.00      0.00        36\n",
            "\n",
            "    accuracy                           0.81       420\n",
            "   macro avg       0.20      0.25      0.22       420\n",
            "weighted avg       0.66      0.81      0.72       420\n",
            "\n"
          ]
        },
        {
          "output_type": "stream",
          "name": "stderr",
          "text": [
            "/usr/local/lib/python3.9/dist-packages/sklearn/metrics/_classification.py:1344: UndefinedMetricWarning: Precision and F-score are ill-defined and being set to 0.0 in labels with no predicted samples. Use `zero_division` parameter to control this behavior.\n",
            "  _warn_prf(average, modifier, msg_start, len(result))\n",
            "/usr/local/lib/python3.9/dist-packages/sklearn/metrics/_classification.py:1344: UndefinedMetricWarning: Precision and F-score are ill-defined and being set to 0.0 in labels with no predicted samples. Use `zero_division` parameter to control this behavior.\n",
            "  _warn_prf(average, modifier, msg_start, len(result))\n",
            "/usr/local/lib/python3.9/dist-packages/sklearn/metrics/_classification.py:1344: UndefinedMetricWarning: Precision and F-score are ill-defined and being set to 0.0 in labels with no predicted samples. Use `zero_division` parameter to control this behavior.\n",
            "  _warn_prf(average, modifier, msg_start, len(result))\n"
          ]
        }
      ]
    },
    {
      "cell_type": "code",
      "source": [
        "conf_matrix = confusion_matrix(y_test, y_pred)\n",
        "class_names = ['M1', 'M2', 'M3', 'M4']\n",
        "fig, ax = plot_confusion_matrix(conf_mat=conf_matrix, \n",
        "                                figsize=(3, 3), \n",
        "                                norm_colormap=LogNorm() ,\n",
        "                                class_names=class_names,\n",
        "                                )\n",
        "plt.xlabel('Predictions', fontsize=14)\n",
        "plt.ylabel('Actuals', fontsize=14)\n",
        "plt.title('Confusion Matrix', fontsize=16)\n",
        "plt.show()"
      ],
      "metadata": {
        "colab": {
          "base_uri": "https://localhost:8080/",
          "height": 351
        },
        "outputId": "a7f0b911-a378-454c-fb67-6cc25e98900e",
        "id": "bDXohxlvnXry"
      },
      "execution_count": 22,
      "outputs": [
        {
          "output_type": "display_data",
          "data": {
            "text/plain": [
              "<Figure size 300x300 with 1 Axes>"
            ],
            "image/png": "[encoded data removed]"
          },
          "metadata": {}
        }
      ]
    },
    {
      "cell_type": "markdown",
      "source": [
        "#### Classification Report"
      ],
      "metadata": {
        "id": "1H1i9DVSqeMu"
      }
    },
    {
      "cell_type": "code",
      "source": [
        "y_pred = svm.predict(X_test)"
      ],
      "metadata": {
        "id": "IWEMW986qeMu"
      },
      "execution_count": null,
      "outputs": []
    },
    {
      "cell_type": "code",
      "source": [
        "print(classification_report(y_test, y_pred))"
      ],
      "metadata": {
        "colab": {
          "base_uri": "https://localhost:8080/"
        },
        "outputId": "036d947b-5441-438b-cceb-c76506fc9862",
        "id": "h9xcmNpwqeMv"
      },
      "execution_count": null,
      "outputs": [
        {
          "output_type": "stream",
          "name": "stdout",
          "text": [
            "              precision    recall  f1-score   support\n",
            "\n",
            "           1       0.81      1.00      0.89       340\n",
            "           2       0.00      0.00      0.00        14\n",
            "           3       0.00      0.00      0.00        30\n",
            "           4       0.00      0.00      0.00        36\n",
            "\n",
            "    accuracy                           0.81       420\n",
            "   macro avg       0.20      0.25      0.22       420\n",
            "weighted avg       0.66      0.81      0.72       420\n",
            "\n"
          ]
        },
        {
          "output_type": "stream",
          "name": "stderr",
          "text": [
            "/usr/local/lib/python3.9/dist-packages/sklearn/metrics/_classification.py:1344: UndefinedMetricWarning: Precision and F-score are ill-defined and being set to 0.0 in labels with no predicted samples. Use `zero_division` parameter to control this behavior.\n",
            "  _warn_prf(average, modifier, msg_start, len(result))\n",
            "/usr/local/lib/python3.9/dist-packages/sklearn/metrics/_classification.py:1344: UndefinedMetricWarning: Precision and F-score are ill-defined and being set to 0.0 in labels with no predicted samples. Use `zero_division` parameter to control this behavior.\n",
            "  _warn_prf(average, modifier, msg_start, len(result))\n",
            "/usr/local/lib/python3.9/dist-packages/sklearn/metrics/_classification.py:1344: UndefinedMetricWarning: Precision and F-score are ill-defined and being set to 0.0 in labels with no predicted samples. Use `zero_division` parameter to control this behavior.\n",
            "  _warn_prf(average, modifier, msg_start, len(result))\n"
          ]
        }
      ]
    },
    {
      "cell_type": "code",
      "source": [
        "conf_matrix = confusion_matrix(y_test, y_pred)\n",
        "class_names = ['M1', 'M2', 'M3', 'M4']\n",
        "fig, ax = plot_confusion_matrix(conf_mat=conf_matrix, \n",
        "                                figsize=(3, 3), \n",
        "                                norm_colormap=LogNorm() ,\n",
        "                                class_names=class_names,\n",
        "                                )\n",
        "plt.xlabel('Predictions', fontsize=14)\n",
        "plt.ylabel('Actuals', fontsize=14)\n",
        "plt.title('Confusion Matrix', fontsize=16)\n",
        "plt.show()"
      ],
      "metadata": {
        "colab": {
          "base_uri": "https://localhost:8080/",
          "height": 351
        },
        "outputId": "a7f0b911-a378-454c-fb67-6cc25e98900e",
        "id": "0qrUEcYNqeMv"
      },
      "execution_count": null,
      "outputs": [
        {
          "output_type": "display_data",
          "data": {
            "text/plain": [
              "<Figure size 300x300 with 1 Axes>"
            ],
            "image/png": "[encoded data removed]"
          },
          "metadata": {}
        }
      ]
    },
    {
      "cell_type": "markdown",
      "source": [
        "### Logistic Regression"
      ],
      "metadata": {
        "id": "bmbED-Sonf-I"
      }
    },
    {
      "cell_type": "code",
      "source": [
        "lr_classifier = LogisticRegression(random_state = 0)\n",
        "lr_classifier.fit(X_train, y_train)"
      ],
      "metadata": {
        "colab": {
          "base_uri": "https://localhost:8080/",
          "height": 213
        },
        "id": "jaLFNI39nh2H",
        "outputId": "662d56aa-c0b9-4958-c0d8-70da979b6f84"
      },
      "execution_count": 24,
      "outputs": [
        {
          "output_type": "stream",
          "name": "stderr",
          "text": [
            "/usr/local/lib/python3.9/dist-packages/sklearn/linear_model/_logistic.py:458: ConvergenceWarning: lbfgs failed to converge (status=1):\n",
            "STOP: TOTAL NO. of ITERATIONS REACHED LIMIT.\n",
            "\n",
            "Increase the number of iterations (max_iter) or scale the data as shown in:\n",
            "    https://scikit-learn.org/stable/modules/preprocessing.html\n",
            "Please also refer to the documentation for alternative solver options:\n",
            "    https://scikit-learn.org/stable/modules/linear_model.html#logistic-regression\n",
            "  n_iter_i = _check_optimize_result(\n"
          ]
        },
        {
          "output_type": "execute_result",
          "data": {
            "text/plain": [
              "LogisticRegression(random_state=0)"
            ],
            "text/html": [
              "<style>#sk-container-id-4 {color: black;background-color: white;}#sk-container-id-4 pre{padding: 0;}#sk-container-id-4 div.sk-toggleable {background-color: white;}#sk-container-id-4 label.sk-toggleable__label {cursor: pointer;display: block;width: 100%;margin-bottom: 0;padding: 0.3em;box-sizing: border-box;text-align: center;}#sk-container-id-4 label.sk-toggleable__label-arrow:before {content: \"▸\";float: left;margin-right: 0.25em;color: #696969;}#sk-container-id-4 label.sk-toggleable__label-arrow:hover:before {color: black;}#sk-container-id-4 div.sk-estimator:hover label.sk-toggleable__label-arrow:before {color: black;}#sk-container-id-4 div.sk-toggleable__content {max-height: 0;max-width: 0;overflow: hidden;text-align: left;background-color: #f0f8ff;}#sk-container-id-4 div.sk-toggleable__content pre {margin: 0.2em;color: black;border-radius: 0.25em;background-color: #f0f8ff;}#sk-container-id-4 input.sk-toggleable__control:checked~div.sk-toggleable__content {max-height: 200px;max-width: 100%;overflow: auto;}#sk-container-id-4 input.sk-toggleable__control:checked~label.sk-toggleable__label-arrow:before {content: \"▾\";}#sk-container-id-4 div.sk-estimator input.sk-toggleable__control:checked~label.sk-toggleable__label {background-color: #d4ebff;}#sk-container-id-4 div.sk-label input.sk-toggleable__control:checked~label.sk-toggleable__label {background-color: #d4ebff;}#sk-container-id-4 input.sk-hidden--visually {border: 0;clip: rect(1px 1px 1px 1px);clip: rect(1px, 1px, 1px, 1px);height: 1px;margin: -1px;overflow: hidden;padding: 0;position: absolute;width: 1px;}#sk-container-id-4 div.sk-estimator {font-family: monospace;background-color: #f0f8ff;border: 1px dotted black;border-radius: 0.25em;box-sizing: border-box;margin-bottom: 0.5em;}#sk-container-id-4 div.sk-estimator:hover {background-color: #d4ebff;}#sk-container-id-4 div.sk-parallel-item::after {content: \"\";width: 100%;border-bottom: 1px solid gray;flex-grow: 1;}#sk-container-id-4 div.sk-label:hover label.sk-toggleable__label {background-color: #d4ebff;}#sk-container-id-4 div.sk-serial::before {content: \"\";position: absolute;border-left: 1px solid gray;box-sizing: border-box;top: 0;bottom: 0;left: 50%;z-index: 0;}#sk-container-id-4 div.sk-serial {display: flex;flex-direction: column;align-items: center;background-color: white;padding-right: 0.2em;padding-left: 0.2em;position: relative;}#sk-container-id-4 div.sk-item {position: relative;z-index: 1;}#sk-container-id-4 div.sk-parallel {display: flex;align-items: stretch;justify-content: center;background-color: white;position: relative;}#sk-container-id-4 div.sk-item::before, #sk-container-id-4 div.sk-parallel-item::before {content: \"\";position: absolute;border-left: 1px solid gray;box-sizing: border-box;top: 0;bottom: 0;left: 50%;z-index: -1;}#sk-container-id-4 div.sk-parallel-item {display: flex;flex-direction: column;z-index: 1;position: relative;background-color: white;}#sk-container-id-4 div.sk-parallel-item:first-child::after {align-self: flex-end;width: 50%;}#sk-container-id-4 div.sk-parallel-item:last-child::after {align-self: flex-start;width: 50%;}#sk-container-id-4 div.sk-parallel-item:only-child::after {width: 0;}#sk-container-id-4 div.sk-dashed-wrapped {border: 1px dashed gray;margin: 0 0.4em 0.5em 0.4em;box-sizing: border-box;padding-bottom: 0.4em;background-color: white;}#sk-container-id-4 div.sk-label label {font-family: monospace;font-weight: bold;display: inline-block;line-height: 1.2em;}#sk-container-id-4 div.sk-label-container {text-align: center;}#sk-container-id-4 div.sk-container {/* jupyter's `normalize.less` sets `[hidden] { display: none; }` but bootstrap.min.css set `[hidden] { display: none !important; }` so we also need the `!important` here to be able to override the default hidden behavior on the sphinx rendered scikit-learn.org. See: https://github.com/scikit-learn/scikit-learn/issues/21755 */display: inline-block !important;position: relative;}#sk-container-id-4 div.sk-text-repr-fallback {display: none;}</style><div id=\"sk-container-id-4\" class=\"sk-top-container\"><div class=\"sk-text-repr-fallback\"><pre>LogisticRegression(random_state=0)</pre><b>In a Jupyter environment, please rerun this cell to show the HTML representation or trust the notebook. <br />On GitHub, the HTML representation is unable to render, please try loading this page with nbviewer.org.</b></div><div class=\"sk-container\" hidden><div class=\"sk-item\"><div class=\"sk-estimator sk-toggleable\"><input class=\"sk-toggleable__control sk-hidden--visually\" id=\"sk-estimator-id-4\" type=\"checkbox\" checked><label for=\"sk-estimator-id-4\" class=\"sk-toggleable__label sk-toggleable__label-arrow\">LogisticRegression</label><div class=\"sk-toggleable__content\"><pre>LogisticRegression(random_state=0)</pre></div></div></div></div></div>"
            ]
          },
          "metadata": {},
          "execution_count": 24
        }
      ]
    },
    {
      "cell_type": "markdown",
      "source": [
        "#### Classification Report"
      ],
      "metadata": {
        "id": "415gtOJ3nvvp"
      }
    },
    {
      "cell_type": "code",
      "source": [
        "y_pred = lr_classifier.predict(X_test)"
      ],
      "metadata": {
        "id": "qHWtVRyfnvvp"
      },
      "execution_count": 25,
      "outputs": []
    },
    {
      "cell_type": "code",
      "source": [
        "print(classification_report(y_test, y_pred))"
      ],
      "metadata": {
        "colab": {
          "base_uri": "https://localhost:8080/"
        },
        "outputId": "88ee3d9f-cfa5-4717-9050-5b53538793b4",
        "id": "LPg4w0Nrnvvq"
      },
      "execution_count": 26,
      "outputs": [
        {
          "output_type": "stream",
          "name": "stdout",
          "text": [
            "              precision    recall  f1-score   support\n",
            "\n",
            "           1       0.81      1.00      0.89       340\n",
            "           2       0.00      0.00      0.00        14\n",
            "           3       0.00      0.00      0.00        30\n",
            "           4       0.00      0.00      0.00        36\n",
            "\n",
            "    accuracy                           0.81       420\n",
            "   macro avg       0.20      0.25      0.22       420\n",
            "weighted avg       0.66      0.81      0.72       420\n",
            "\n"
          ]
        },
        {
          "output_type": "stream",
          "name": "stderr",
          "text": [
            "/usr/local/lib/python3.9/dist-packages/sklearn/metrics/_classification.py:1344: UndefinedMetricWarning: Precision and F-score are ill-defined and being set to 0.0 in labels with no predicted samples. Use `zero_division` parameter to control this behavior.\n",
            "  _warn_prf(average, modifier, msg_start, len(result))\n",
            "/usr/local/lib/python3.9/dist-packages/sklearn/metrics/_classification.py:1344: UndefinedMetricWarning: Precision and F-score are ill-defined and being set to 0.0 in labels with no predicted samples. Use `zero_division` parameter to control this behavior.\n",
            "  _warn_prf(average, modifier, msg_start, len(result))\n",
            "/usr/local/lib/python3.9/dist-packages/sklearn/metrics/_classification.py:1344: UndefinedMetricWarning: Precision and F-score are ill-defined and being set to 0.0 in labels with no predicted samples. Use `zero_division` parameter to control this behavior.\n",
            "  _warn_prf(average, modifier, msg_start, len(result))\n"
          ]
        }
      ]
    },
    {
      "cell_type": "code",
      "source": [
        "conf_matrix = confusion_matrix(y_test, y_pred)\n",
        "class_names = ['M1', 'M2', 'M3', 'M4']\n",
        "fig, ax = plot_confusion_matrix(conf_mat=conf_matrix, \n",
        "                                figsize=(3, 3), \n",
        "                                norm_colormap=LogNorm() ,\n",
        "                                class_names=class_names,\n",
        "                                )\n",
        "plt.xlabel('Predictions', fontsize=14)\n",
        "plt.ylabel('Actuals', fontsize=14)\n",
        "plt.title('Confusion Matrix', fontsize=16)\n",
        "plt.show()"
      ],
      "metadata": {
        "colab": {
          "base_uri": "https://localhost:8080/",
          "height": 351
        },
        "outputId": "9fc17e16-f639-44a0-e8f1-3bf8c6eaf38a",
        "id": "VakLGstWnvvq"
      },
      "execution_count": 27,
      "outputs": [
        {
          "output_type": "display_data",
          "data": {
            "text/plain": [
              "<Figure size 300x300 with 1 Axes>"
            ],
            "image/png": "[encoded data removed]"
          },
          "metadata": {}
        }
      ]
    },
    {
      "cell_type": "markdown",
      "source": [
        "### Naive Bayes"
      ],
      "metadata": {
        "id": "Zv6zQzRBn29L"
      }
    },
    {
      "cell_type": "code",
      "source": [
        "nb_classifier = GaussianNB()\n",
        "nb_classifier.fit(X_train, y_train)"
      ],
      "metadata": {
        "colab": {
          "base_uri": "https://localhost:8080/",
          "height": 74
        },
        "id": "9wB-KETpn7OQ",
        "outputId": "736c6d7b-6692-4ce5-fbea-aef7b9762d15"
      },
      "execution_count": 29,
      "outputs": [
        {
          "output_type": "execute_result",
          "data": {
            "text/plain": [
              "GaussianNB()"
            ],
            "text/html": [
              "<style>#sk-container-id-5 {color: black;background-color: white;}#sk-container-id-5 pre{padding: 0;}#sk-container-id-5 div.sk-toggleable {background-color: white;}#sk-container-id-5 label.sk-toggleable__label {cursor: pointer;display: block;width: 100%;margin-bottom: 0;padding: 0.3em;box-sizing: border-box;text-align: center;}#sk-container-id-5 label.sk-toggleable__label-arrow:before {content: \"▸\";float: left;margin-right: 0.25em;color: #696969;}#sk-container-id-5 label.sk-toggleable__label-arrow:hover:before {color: black;}#sk-container-id-5 div.sk-estimator:hover label.sk-toggleable__label-arrow:before {color: black;}#sk-container-id-5 div.sk-toggleable__content {max-height: 0;max-width: 0;overflow: hidden;text-align: left;background-color: #f0f8ff;}#sk-container-id-5 div.sk-toggleable__content pre {margin: 0.2em;color: black;border-radius: 0.25em;background-color: #f0f8ff;}#sk-container-id-5 input.sk-toggleable__control:checked~div.sk-toggleable__content {max-height: 200px;max-width: 100%;overflow: auto;}#sk-container-id-5 input.sk-toggleable__control:checked~label.sk-toggleable__label-arrow:before {content: \"▾\";}#sk-container-id-5 div.sk-estimator input.sk-toggleable__control:checked~label.sk-toggleable__label {background-color: #d4ebff;}#sk-container-id-5 div.sk-label input.sk-toggleable__control:checked~label.sk-toggleable__label {background-color: #d4ebff;}#sk-container-id-5 input.sk-hidden--visually {border: 0;clip: rect(1px 1px 1px 1px);clip: rect(1px, 1px, 1px, 1px);height: 1px;margin: -1px;overflow: hidden;padding: 0;position: absolute;width: 1px;}#sk-container-id-5 div.sk-estimator {font-family: monospace;background-color: #f0f8ff;border: 1px dotted black;border-radius: 0.25em;box-sizing: border-box;margin-bottom: 0.5em;}#sk-container-id-5 div.sk-estimator:hover {background-color: #d4ebff;}#sk-container-id-5 div.sk-parallel-item::after {content: \"\";width: 100%;border-bottom: 1px solid gray;flex-grow: 1;}#sk-container-id-5 div.sk-label:hover label.sk-toggleable__label {background-color: #d4ebff;}#sk-container-id-5 div.sk-serial::before {content: \"\";position: absolute;border-left: 1px solid gray;box-sizing: border-box;top: 0;bottom: 0;left: 50%;z-index: 0;}#sk-container-id-5 div.sk-serial {display: flex;flex-direction: column;align-items: center;background-color: white;padding-right: 0.2em;padding-left: 0.2em;position: relative;}#sk-container-id-5 div.sk-item {position: relative;z-index: 1;}#sk-container-id-5 div.sk-parallel {display: flex;align-items: stretch;justify-content: center;background-color: white;position: relative;}#sk-container-id-5 div.sk-item::before, #sk-container-id-5 div.sk-parallel-item::before {content: \"\";position: absolute;border-left: 1px solid gray;box-sizing: border-box;top: 0;bottom: 0;left: 50%;z-index: -1;}#sk-container-id-5 div.sk-parallel-item {display: flex;flex-direction: column;z-index: 1;position: relative;background-color: white;}#sk-container-id-5 div.sk-parallel-item:first-child::after {align-self: flex-end;width: 50%;}#sk-container-id-5 div.sk-parallel-item:last-child::after {align-self: flex-start;width: 50%;}#sk-container-id-5 div.sk-parallel-item:only-child::after {width: 0;}#sk-container-id-5 div.sk-dashed-wrapped {border: 1px dashed gray;margin: 0 0.4em 0.5em 0.4em;box-sizing: border-box;padding-bottom: 0.4em;background-color: white;}#sk-container-id-5 div.sk-label label {font-family: monospace;font-weight: bold;display: inline-block;line-height: 1.2em;}#sk-container-id-5 div.sk-label-container {text-align: center;}#sk-container-id-5 div.sk-container {/* jupyter's `normalize.less` sets `[hidden] { display: none; }` but bootstrap.min.css set `[hidden] { display: none !important; }` so we also need the `!important` here to be able to override the default hidden behavior on the sphinx rendered scikit-learn.org. See: https://github.com/scikit-learn/scikit-learn/issues/21755 */display: inline-block !important;position: relative;}#sk-container-id-5 div.sk-text-repr-fallback {display: none;}</style><div id=\"sk-container-id-5\" class=\"sk-top-container\"><div class=\"sk-text-repr-fallback\"><pre>GaussianNB()</pre><b>In a Jupyter environment, please rerun this cell to show the HTML representation or trust the notebook. <br />On GitHub, the HTML representation is unable to render, please try loading this page with nbviewer.org.</b></div><div class=\"sk-container\" hidden><div class=\"sk-item\"><div class=\"sk-estimator sk-toggleable\"><input class=\"sk-toggleable__control sk-hidden--visually\" id=\"sk-estimator-id-5\" type=\"checkbox\" checked><label for=\"sk-estimator-id-5\" class=\"sk-toggleable__label sk-toggleable__label-arrow\">GaussianNB</label><div class=\"sk-toggleable__content\"><pre>GaussianNB()</pre></div></div></div></div></div>"
            ]
          },
          "metadata": {},
          "execution_count": 29
        }
      ]
    },
    {
      "cell_type": "markdown",
      "source": [
        "#### Classification Report"
      ],
      "metadata": {
        "id": "JySY3aPNoHCb"
      }
    },
    {
      "cell_type": "code",
      "source": [
        "y_pred = nb_classifier.predict(X_test)"
      ],
      "metadata": {
        "id": "wr2jstzjoHCb"
      },
      "execution_count": 30,
      "outputs": []
    },
    {
      "cell_type": "code",
      "source": [
        "print(classification_report(y_test, y_pred))"
      ],
      "metadata": {
        "colab": {
          "base_uri": "https://localhost:8080/"
        },
        "outputId": "7bb9b2c0-1104-457b-be8d-edf53c943c10",
        "id": "-LUrPEieoHCb"
      },
      "execution_count": 31,
      "outputs": [
        {
          "output_type": "stream",
          "name": "stdout",
          "text": [
            "              precision    recall  f1-score   support\n",
            "\n",
            "           1       0.82      0.95      0.88       340\n",
            "           2       0.09      0.07      0.08        14\n",
            "           3       0.20      0.03      0.06        30\n",
            "           4       0.29      0.06      0.09        36\n",
            "\n",
            "    accuracy                           0.78       420\n",
            "   macro avg       0.35      0.28      0.28       420\n",
            "weighted avg       0.70      0.78      0.73       420\n",
            "\n"
          ]
        }
      ]
    },
    {
      "cell_type": "code",
      "source": [
        "conf_matrix = confusion_matrix(y_test, y_pred)\n",
        "class_names = ['M1', 'M2', 'M3', 'M4']\n",
        "fig, ax = plot_confusion_matrix(conf_mat=conf_matrix, \n",
        "                                figsize=(3, 3), \n",
        "                                norm_colormap=LogNorm() ,\n",
        "                                class_names=class_names,\n",
        "                                )\n",
        "plt.xlabel('Predictions', fontsize=14)\n",
        "plt.ylabel('Actuals', fontsize=14)\n",
        "plt.title('Confusion Matrix', fontsize=16)\n",
        "plt.show()"
      ],
      "metadata": {
        "colab": {
          "base_uri": "https://localhost:8080/",
          "height": 351
        },
        "outputId": "b89c09b1-1cdf-4cca-d29c-1157a45792cc",
        "id": "POD7EUi4oHCb"
      },
      "execution_count": 32,
      "outputs": [
        {
          "output_type": "display_data",
          "data": {
            "text/plain": [
              "<Figure size 300x300 with 1 Axes>"
            ],
            "image/png": "[encoded data removed]"
          },
          "metadata": {}
        }
      ]
    },
    {
      "cell_type": "markdown",
      "source": [
        "### Random Forest "
      ],
      "metadata": {
        "id": "rvWBnjzgoWWY"
      }
    },
    {
      "cell_type": "code",
      "source": [
        "rf_classifier = RandomForestClassifier(n_estimators=10, criterion='entropy', random_state=0)\n",
        "rf_classifier.fit(X_train, y_train)"
      ],
      "metadata": {
        "colab": {
          "base_uri": "https://localhost:8080/",
          "height": 74
        },
        "id": "zxNFMVljoY1D",
        "outputId": "04c184b4-ab8d-4d50-e07e-2f4235c01174"
      },
      "execution_count": 34,
      "outputs": [
        {
          "output_type": "execute_result",
          "data": {
            "text/plain": [
              "RandomForestClassifier(criterion='entropy', n_estimators=10, random_state=0)"
            ],
            "text/html": [
              "<style>#sk-container-id-6 {color: black;background-color: white;}#sk-container-id-6 pre{padding: 0;}#sk-container-id-6 div.sk-toggleable {background-color: white;}#sk-container-id-6 label.sk-toggleable__label {cursor: pointer;display: block;width: 100%;margin-bottom: 0;padding: 0.3em;box-sizing: border-box;text-align: center;}#sk-container-id-6 label.sk-toggleable__label-arrow:before {content: \"▸\";float: left;margin-right: 0.25em;color: #696969;}#sk-container-id-6 label.sk-toggleable__label-arrow:hover:before {color: black;}#sk-container-id-6 div.sk-estimator:hover label.sk-toggleable__label-arrow:before {color: black;}#sk-container-id-6 div.sk-toggleable__content {max-height: 0;max-width: 0;overflow: hidden;text-align: left;background-color: #f0f8ff;}#sk-container-id-6 div.sk-toggleable__content pre {margin: 0.2em;color: black;border-radius: 0.25em;background-color: #f0f8ff;}#sk-container-id-6 input.sk-toggleable__control:checked~div.sk-toggleable__content {max-height: 200px;max-width: 100%;overflow: auto;}#sk-container-id-6 input.sk-toggleable__control:checked~label.sk-toggleable__label-arrow:before {content: \"▾\";}#sk-container-id-6 div.sk-estimator input.sk-toggleable__control:checked~label.sk-toggleable__label {background-color: #d4ebff;}#sk-container-id-6 div.sk-label input.sk-toggleable__control:checked~label.sk-toggleable__label {background-color: #d4ebff;}#sk-container-id-6 input.sk-hidden--visually {border: 0;clip: rect(1px 1px 1px 1px);clip: rect(1px, 1px, 1px, 1px);height: 1px;margin: -1px;overflow: hidden;padding: 0;position: absolute;width: 1px;}#sk-container-id-6 div.sk-estimator {font-family: monospace;background-color: #f0f8ff;border: 1px dotted black;border-radius: 0.25em;box-sizing: border-box;margin-bottom: 0.5em;}#sk-container-id-6 div.sk-estimator:hover {background-color: #d4ebff;}#sk-container-id-6 div.sk-parallel-item::after {content: \"\";width: 100%;border-bottom: 1px solid gray;flex-grow: 1;}#sk-container-id-6 div.sk-label:hover label.sk-toggleable__label {background-color: #d4ebff;}#sk-container-id-6 div.sk-serial::before {content: \"\";position: absolute;border-left: 1px solid gray;box-sizing: border-box;top: 0;bottom: 0;left: 50%;z-index: 0;}#sk-container-id-6 div.sk-serial {display: flex;flex-direction: column;align-items: center;background-color: white;padding-right: 0.2em;padding-left: 0.2em;position: relative;}#sk-container-id-6 div.sk-item {position: relative;z-index: 1;}#sk-container-id-6 div.sk-parallel {display: flex;align-items: stretch;justify-content: center;background-color: white;position: relative;}#sk-container-id-6 div.sk-item::before, #sk-container-id-6 div.sk-parallel-item::before {content: \"\";position: absolute;border-left: 1px solid gray;box-sizing: border-box;top: 0;bottom: 0;left: 50%;z-index: -1;}#sk-container-id-6 div.sk-parallel-item {display: flex;flex-direction: column;z-index: 1;position: relative;background-color: white;}#sk-container-id-6 div.sk-parallel-item:first-child::after {align-self: flex-end;width: 50%;}#sk-container-id-6 div.sk-parallel-item:last-child::after {align-self: flex-start;width: 50%;}#sk-container-id-6 div.sk-parallel-item:only-child::after {width: 0;}#sk-container-id-6 div.sk-dashed-wrapped {border: 1px dashed gray;margin: 0 0.4em 0.5em 0.4em;box-sizing: border-box;padding-bottom: 0.4em;background-color: white;}#sk-container-id-6 div.sk-label label {font-family: monospace;font-weight: bold;display: inline-block;line-height: 1.2em;}#sk-container-id-6 div.sk-label-container {text-align: center;}#sk-container-id-6 div.sk-container {/* jupyter's `normalize.less` sets `[hidden] { display: none; }` but bootstrap.min.css set `[hidden] { display: none !important; }` so we also need the `!important` here to be able to override the default hidden behavior on the sphinx rendered scikit-learn.org. See: https://github.com/scikit-learn/scikit-learn/issues/21755 */display: inline-block !important;position: relative;}#sk-container-id-6 div.sk-text-repr-fallback {display: none;}</style><div id=\"sk-container-id-6\" class=\"sk-top-container\"><div class=\"sk-text-repr-fallback\"><pre>RandomForestClassifier(criterion=&#x27;entropy&#x27;, n_estimators=10, random_state=0)</pre><b>In a Jupyter environment, please rerun this cell to show the HTML representation or trust the notebook. <br />On GitHub, the HTML representation is unable to render, please try loading this page with nbviewer.org.</b></div><div class=\"sk-container\" hidden><div class=\"sk-item\"><div class=\"sk-estimator sk-toggleable\"><input class=\"sk-toggleable__control sk-hidden--visually\" id=\"sk-estimator-id-6\" type=\"checkbox\" checked><label for=\"sk-estimator-id-6\" class=\"sk-toggleable__label sk-toggleable__label-arrow\">RandomForestClassifier</label><div class=\"sk-toggleable__content\"><pre>RandomForestClassifier(criterion=&#x27;entropy&#x27;, n_estimators=10, random_state=0)</pre></div></div></div></div></div>"
            ]
          },
          "metadata": {},
          "execution_count": 34
        }
      ]
    },
    {
      "cell_type": "markdown",
      "source": [
        "#### Classification Report"
      ],
      "metadata": {
        "id": "4U4SjdBpo3Yf"
      }
    },
    {
      "cell_type": "code",
      "source": [
        "y_pred = rf_classifier.predict(X_test)"
      ],
      "metadata": {
        "id": "EWDh3ov1o3Yf"
      },
      "execution_count": 35,
      "outputs": []
    },
    {
      "cell_type": "code",
      "source": [
        "print(classification_report(y_test, y_pred))"
      ],
      "metadata": {
        "colab": {
          "base_uri": "https://localhost:8080/"
        },
        "outputId": "1ef20bef-a684-46c2-9e0a-a2feb583e593",
        "id": "nd2jwJgVo3Yf"
      },
      "execution_count": 36,
      "outputs": [
        {
          "output_type": "stream",
          "name": "stdout",
          "text": [
            "              precision    recall  f1-score   support\n",
            "\n",
            "           1       0.81      1.00      0.89       340\n",
            "           2       0.00      0.00      0.00        14\n",
            "           3       0.00      0.00      0.00        30\n",
            "           4       0.00      0.00      0.00        36\n",
            "\n",
            "    accuracy                           0.81       420\n",
            "   macro avg       0.20      0.25      0.22       420\n",
            "weighted avg       0.66      0.81      0.72       420\n",
            "\n"
          ]
        },
        {
          "output_type": "stream",
          "name": "stderr",
          "text": [
            "/usr/local/lib/python3.9/dist-packages/sklearn/metrics/_classification.py:1344: UndefinedMetricWarning: Precision and F-score are ill-defined and being set to 0.0 in labels with no predicted samples. Use `zero_division` parameter to control this behavior.\n",
            "  _warn_prf(average, modifier, msg_start, len(result))\n",
            "/usr/local/lib/python3.9/dist-packages/sklearn/metrics/_classification.py:1344: UndefinedMetricWarning: Precision and F-score are ill-defined and being set to 0.0 in labels with no predicted samples. Use `zero_division` parameter to control this behavior.\n",
            "  _warn_prf(average, modifier, msg_start, len(result))\n",
            "/usr/local/lib/python3.9/dist-packages/sklearn/metrics/_classification.py:1344: UndefinedMetricWarning: Precision and F-score are ill-defined and being set to 0.0 in labels with no predicted samples. Use `zero_division` parameter to control this behavior.\n",
            "  _warn_prf(average, modifier, msg_start, len(result))\n"
          ]
        }
      ]
    },
    {
      "cell_type": "code",
      "source": [
        "conf_matrix = confusion_matrix(y_test, y_pred)\n",
        "class_names = ['M1', 'M2', 'M3', 'M4']\n",
        "fig, ax = plot_confusion_matrix(conf_mat=conf_matrix, \n",
        "                                figsize=(3, 3), \n",
        "                                norm_colormap=LogNorm() ,\n",
        "                                class_names=class_names,\n",
        "                                )\n",
        "plt.xlabel('Predictions', fontsize=14)\n",
        "plt.ylabel('Actuals', fontsize=14)\n",
        "plt.title('Confusion Matrix', fontsize=16)\n",
        "plt.show()"
      ],
      "metadata": {
        "colab": {
          "base_uri": "https://localhost:8080/",
          "height": 351
        },
        "outputId": "fd0ea54f-f900-4093-a113-48f376f45afa",
        "id": "4_n_ek5Go3Yf"
      },
      "execution_count": 37,
      "outputs": [
        {
          "output_type": "display_data",
          "data": {
            "text/plain": [
              "<Figure size 300x300 with 1 Axes>"
            ],
            "image/png": "[encoded data removed]"
          },
          "metadata": {}
        }
      ]
    }
  ]
}