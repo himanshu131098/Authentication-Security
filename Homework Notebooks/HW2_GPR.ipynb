{
  "nbformat": 4,
  "nbformat_minor": 0,
  "metadata": {
    "colab": {
      "provenance": [],
      "authorship_tag": "ABX9TyOicg4q4h4OZ5cFRN/K8MQj",
      "include_colab_link": true
    },
    "kernelspec": {
      "name": "python3",
      "display_name": "Python 3"
    },
    "language_info": {
      "name": "python"
    }
  },
  "cells": [
    {
      "cell_type": "markdown",
      "metadata": {
        "id": "view-in-github",
        "colab_type": "text"
      },
      "source": [
        "<a href=\"https://colab.research.google.com/github/himanshu131098/Authentication-Security/blob/master/Homework%20Notebooks/HW2_GPR.ipynb\" target=\"_parent\"><img src=\"https://colab.research.google.com/assets/colab-badge.svg\" alt=\"Open In Colab\"/></a>"
      ]
    },
    {
      "cell_type": "markdown",
      "source": [
        "###Importing Python Packages"
      ],
      "metadata": {
        "id": "cdBJTslv_sKm"
      }
    },
    {
      "cell_type": "code",
      "execution_count": null,
      "metadata": {
        "id": "oZ7k6q-hhr3e"
      },
      "outputs": [],
      "source": [
        "import numpy as np\n",
        "import matplotlib.pyplot as plt\n",
        "import pandas as pd\n",
        "from sklearn.model_selection import train_test_split\n",
        "from sklearn.metrics import mean_squared_error, mean_absolute_error\n",
        "from sklearn.preprocessing import StandardScaler\n",
        "from sklearn.gaussian_process import GaussianProcessRegressor\n",
        "from sklearn.gaussian_process.kernels import RBF, WhiteKernel, Matern, DotProduct"
      ]
    },
    {
      "cell_type": "markdown",
      "source": [
        "###Importing the Dataset"
      ],
      "metadata": {
        "id": "du5Z0amM_us_"
      }
    },
    {
      "cell_type": "code",
      "source": [
        "dataset = pd.read_csv('HW2Dataset.csv')\n",
        "dataset.pop(dataset.columns[0])\n",
        "X = dataset.iloc[:, :-1].values\n",
        "X = X[:, 1:]\n",
        "y = dataset.iloc[:, -1].values"
      ],
      "metadata": {
        "id": "6rOXgtlt_yY3"
      },
      "execution_count": null,
      "outputs": []
    },
    {
      "cell_type": "markdown",
      "source": [
        "###Check if there is any missing data"
      ],
      "metadata": {
        "id": "7EzdXehGAL3x"
      }
    },
    {
      "cell_type": "code",
      "source": [
        "print(f\"Is the any missing data in the dataset: {pd.isna(dataset).any().any()}\")"
      ],
      "metadata": {
        "colab": {
          "base_uri": "https://localhost:8080/"
        },
        "id": "EDxetDSPiwZK",
        "outputId": "26839916-b106-4863-b87a-d9587bc79a00"
      },
      "execution_count": null,
      "outputs": [
        {
          "output_type": "stream",
          "name": "stdout",
          "text": [
            "Is the any missing data in the dataset: False\n"
          ]
        }
      ]
    },
    {
      "cell_type": "markdown",
      "source": [
        "### Data Inspection"
      ],
      "metadata": {
        "id": "nSkmmnHUjHAN"
      }
    },
    {
      "cell_type": "code",
      "source": [
        "dataset.describe()"
      ],
      "metadata": {
        "colab": {
          "base_uri": "https://localhost:8080/",
          "height": 433
        },
        "id": "92WqEXn8jKmc",
        "outputId": "8a220181-defe-4696-aac2-fb0d81a2b2b6"
      },
      "execution_count": null,
      "outputs": [
        {
          "output_type": "execute_result",
          "data": {
            "text/plain": [
              "                PC1           PC2           PC3           PC4           PC5  \\\n",
              "count  8.900000e+03  8.900000e+03  8.900000e+03  8.900000e+03  8.900000e+03   \n",
              "mean   9.708090e-16 -1.354023e-15 -4.215355e-16 -1.724463e-16 -1.992713e-15   \n",
              "std    1.432440e+01  1.182716e+00  9.865382e-01  9.478139e-01  4.371769e-01   \n",
              "min   -2.231411e+01 -2.037077e+00 -3.653516e+00 -3.531556e+00 -1.605144e+00   \n",
              "25%   -1.263304e+01 -9.899576e-01 -6.227747e-01 -5.697737e-01 -3.342663e-01   \n",
              "50%   -1.689263e+00 -3.977841e-01  1.903817e-01  2.259620e-02  4.931716e-02   \n",
              "75%    1.177429e+01  1.154050e+00  7.627413e-01  5.864233e-01  3.021664e-01   \n",
              "max    3.223676e+01  2.481092e+00  2.025775e+00  2.796065e+00  1.756336e+00   \n",
              "\n",
              "                PC6           PC7           PC8           PC9          PC10  \\\n",
              "count  8.900000e+03  8.900000e+03  8.900000e+03  8.900000e+03  8.900000e+03   \n",
              "mean  -1.788332e-16  2.257370e-16  1.041065e-15 -5.652407e-16  1.995907e-17   \n",
              "std    4.038672e-01  3.516041e-01  3.397523e-01  3.335632e-01  3.286801e-01   \n",
              "min   -1.572818e+00 -2.647356e+00 -1.871883e+00 -1.875738e+00 -2.012033e+00   \n",
              "25%   -2.618698e-01 -1.333244e-01 -2.223525e-01 -1.343744e-01 -2.171947e-01   \n",
              "50%    2.229141e-02  5.470657e-03 -7.125061e-03  5.529019e-03 -5.455955e-03   \n",
              "75%    2.651652e-01  1.260658e-01  2.206323e-01  1.304187e-01  2.175416e-01   \n",
              "max    1.534529e+00  2.962341e+00  1.510216e+00  1.937299e+00  1.318559e+00   \n",
              "\n",
              "               PC11          PC12          PC13          PC14          PC15  \\\n",
              "count  8.900000e+03  8.900000e+03  8.900000e+03  8.900000e+03  8.900000e+03   \n",
              "mean   1.277380e-16 -9.420679e-16  5.556604e-16 -5.372980e-16 -3.301229e-16   \n",
              "std    2.392534e-01  2.421876e-01  2.403929e-01  1.143468e-01  1.029692e-01   \n",
              "min   -7.794530e-01 -8.802209e-01 -9.097398e-01 -5.656065e-01 -3.888164e-01   \n",
              "25%   -1.643244e-01 -1.564867e-01 -1.550954e-01 -7.348626e-02 -6.816853e-02   \n",
              "50%   -1.484877e-02 -8.014842e-03 -2.381908e-02 -2.446324e-03 -1.880622e-03   \n",
              "75%    1.505191e-01  1.695928e-01  1.542884e-01  7.008277e-02  6.413805e-02   \n",
              "max    9.618618e-01  9.174383e-01  8.869745e-01  4.383747e-01  4.165647e-01   \n",
              "\n",
              "       stiffness_value  \n",
              "count      8900.000000  \n",
              "mean         34.291560  \n",
              "std          23.098083  \n",
              "min           4.666094  \n",
              "25%          14.912426  \n",
              "50%          28.310041  \n",
              "75%          50.409667  \n",
              "max         101.428656  "
            ],
            "text/html": [
              "\n",
              "  <div id=\"df-2d9dc583-f316-4975-8a3c-ab899dd486d9\">\n",
              "    <div class=\"colab-df-container\">\n",
              "      <div>\n",
              "<style scoped>\n",
              "    .dataframe tbody tr th:only-of-type {\n",
              "        vertical-align: middle;\n",
              "    }\n",
              "\n",
              "    .dataframe tbody tr th {\n",
              "        vertical-align: top;\n",
              "    }\n",
              "\n",
              "    .dataframe thead th {\n",
              "        text-align: right;\n",
              "    }\n",
              "</style>\n",
              "<table border=\"1\" class=\"dataframe\">\n",
              "  <thead>\n",
              "    <tr style=\"text-align: right;\">\n",
              "      <th></th>\n",
              "      <th>PC1</th>\n",
              "      <th>PC2</th>\n",
              "      <th>PC3</th>\n",
              "      <th>PC4</th>\n",
              "      <th>PC5</th>\n",
              "      <th>PC6</th>\n",
              "      <th>PC7</th>\n",
              "      <th>PC8</th>\n",
              "      <th>PC9</th>\n",
              "      <th>PC10</th>\n",
              "      <th>PC11</th>\n",
              "      <th>PC12</th>\n",
              "      <th>PC13</th>\n",
              "      <th>PC14</th>\n",
              "      <th>PC15</th>\n",
              "      <th>stiffness_value</th>\n",
              "    </tr>\n",
              "  </thead>\n",
              "  <tbody>\n",
              "    <tr>\n",
              "      <th>count</th>\n",
              "      <td>8.900000e+03</td>\n",
              "      <td>8.900000e+03</td>\n",
              "      <td>8.900000e+03</td>\n",
              "      <td>8.900000e+03</td>\n",
              "      <td>8.900000e+03</td>\n",
              "      <td>8.900000e+03</td>\n",
              "      <td>8.900000e+03</td>\n",
              "      <td>8.900000e+03</td>\n",
              "      <td>8.900000e+03</td>\n",
              "      <td>8.900000e+03</td>\n",
              "      <td>8.900000e+03</td>\n",
              "      <td>8.900000e+03</td>\n",
              "      <td>8.900000e+03</td>\n",
              "      <td>8.900000e+03</td>\n",
              "      <td>8.900000e+03</td>\n",
              "      <td>8900.000000</td>\n",
              "    </tr>\n",
              "    <tr>\n",
              "      <th>mean</th>\n",
              "      <td>9.708090e-16</td>\n",
              "      <td>-1.354023e-15</td>\n",
              "      <td>-4.215355e-16</td>\n",
              "      <td>-1.724463e-16</td>\n",
              "      <td>-1.992713e-15</td>\n",
              "      <td>-1.788332e-16</td>\n",
              "      <td>2.257370e-16</td>\n",
              "      <td>1.041065e-15</td>\n",
              "      <td>-5.652407e-16</td>\n",
              "      <td>1.995907e-17</td>\n",
              "      <td>1.277380e-16</td>\n",
              "      <td>-9.420679e-16</td>\n",
              "      <td>5.556604e-16</td>\n",
              "      <td>-5.372980e-16</td>\n",
              "      <td>-3.301229e-16</td>\n",
              "      <td>34.291560</td>\n",
              "    </tr>\n",
              "    <tr>\n",
              "      <th>std</th>\n",
              "      <td>1.432440e+01</td>\n",
              "      <td>1.182716e+00</td>\n",
              "      <td>9.865382e-01</td>\n",
              "      <td>9.478139e-01</td>\n",
              "      <td>4.371769e-01</td>\n",
              "      <td>4.038672e-01</td>\n",
              "      <td>3.516041e-01</td>\n",
              "      <td>3.397523e-01</td>\n",
              "      <td>3.335632e-01</td>\n",
              "      <td>3.286801e-01</td>\n",
              "      <td>2.392534e-01</td>\n",
              "      <td>2.421876e-01</td>\n",
              "      <td>2.403929e-01</td>\n",
              "      <td>1.143468e-01</td>\n",
              "      <td>1.029692e-01</td>\n",
              "      <td>23.098083</td>\n",
              "    </tr>\n",
              "    <tr>\n",
              "      <th>min</th>\n",
              "      <td>-2.231411e+01</td>\n",
              "      <td>-2.037077e+00</td>\n",
              "      <td>-3.653516e+00</td>\n",
              "      <td>-3.531556e+00</td>\n",
              "      <td>-1.605144e+00</td>\n",
              "      <td>-1.572818e+00</td>\n",
              "      <td>-2.647356e+00</td>\n",
              "      <td>-1.871883e+00</td>\n",
              "      <td>-1.875738e+00</td>\n",
              "      <td>-2.012033e+00</td>\n",
              "      <td>-7.794530e-01</td>\n",
              "      <td>-8.802209e-01</td>\n",
              "      <td>-9.097398e-01</td>\n",
              "      <td>-5.656065e-01</td>\n",
              "      <td>-3.888164e-01</td>\n",
              "      <td>4.666094</td>\n",
              "    </tr>\n",
              "    <tr>\n",
              "      <th>25%</th>\n",
              "      <td>-1.263304e+01</td>\n",
              "      <td>-9.899576e-01</td>\n",
              "      <td>-6.227747e-01</td>\n",
              "      <td>-5.697737e-01</td>\n",
              "      <td>-3.342663e-01</td>\n",
              "      <td>-2.618698e-01</td>\n",
              "      <td>-1.333244e-01</td>\n",
              "      <td>-2.223525e-01</td>\n",
              "      <td>-1.343744e-01</td>\n",
              "      <td>-2.171947e-01</td>\n",
              "      <td>-1.643244e-01</td>\n",
              "      <td>-1.564867e-01</td>\n",
              "      <td>-1.550954e-01</td>\n",
              "      <td>-7.348626e-02</td>\n",
              "      <td>-6.816853e-02</td>\n",
              "      <td>14.912426</td>\n",
              "    </tr>\n",
              "    <tr>\n",
              "      <th>50%</th>\n",
              "      <td>-1.689263e+00</td>\n",
              "      <td>-3.977841e-01</td>\n",
              "      <td>1.903817e-01</td>\n",
              "      <td>2.259620e-02</td>\n",
              "      <td>4.931716e-02</td>\n",
              "      <td>2.229141e-02</td>\n",
              "      <td>5.470657e-03</td>\n",
              "      <td>-7.125061e-03</td>\n",
              "      <td>5.529019e-03</td>\n",
              "      <td>-5.455955e-03</td>\n",
              "      <td>-1.484877e-02</td>\n",
              "      <td>-8.014842e-03</td>\n",
              "      <td>-2.381908e-02</td>\n",
              "      <td>-2.446324e-03</td>\n",
              "      <td>-1.880622e-03</td>\n",
              "      <td>28.310041</td>\n",
              "    </tr>\n",
              "    <tr>\n",
              "      <th>75%</th>\n",
              "      <td>1.177429e+01</td>\n",
              "      <td>1.154050e+00</td>\n",
              "      <td>7.627413e-01</td>\n",
              "      <td>5.864233e-01</td>\n",
              "      <td>3.021664e-01</td>\n",
              "      <td>2.651652e-01</td>\n",
              "      <td>1.260658e-01</td>\n",
              "      <td>2.206323e-01</td>\n",
              "      <td>1.304187e-01</td>\n",
              "      <td>2.175416e-01</td>\n",
              "      <td>1.505191e-01</td>\n",
              "      <td>1.695928e-01</td>\n",
              "      <td>1.542884e-01</td>\n",
              "      <td>7.008277e-02</td>\n",
              "      <td>6.413805e-02</td>\n",
              "      <td>50.409667</td>\n",
              "    </tr>\n",
              "    <tr>\n",
              "      <th>max</th>\n",
              "      <td>3.223676e+01</td>\n",
              "      <td>2.481092e+00</td>\n",
              "      <td>2.025775e+00</td>\n",
              "      <td>2.796065e+00</td>\n",
              "      <td>1.756336e+00</td>\n",
              "      <td>1.534529e+00</td>\n",
              "      <td>2.962341e+00</td>\n",
              "      <td>1.510216e+00</td>\n",
              "      <td>1.937299e+00</td>\n",
              "      <td>1.318559e+00</td>\n",
              "      <td>9.618618e-01</td>\n",
              "      <td>9.174383e-01</td>\n",
              "      <td>8.869745e-01</td>\n",
              "      <td>4.383747e-01</td>\n",
              "      <td>4.165647e-01</td>\n",
              "      <td>101.428656</td>\n",
              "    </tr>\n",
              "  </tbody>\n",
              "</table>\n",
              "</div>\n",
              "      <button class=\"colab-df-convert\" onclick=\"convertToInteractive('df-2d9dc583-f316-4975-8a3c-ab899dd486d9')\"\n",
              "              title=\"Convert this dataframe to an interactive table.\"\n",
              "              style=\"display:none;\">\n",
              "        \n",
              "  <svg xmlns=\"http://www.w3.org/2000/svg\" height=\"24px\"viewBox=\"0 0 24 24\"\n",
              "       width=\"24px\">\n",
              "    <path d=\"M0 0h24v24H0V0z\" fill=\"none\"/>\n",
              "    <path d=\"M18.56 5.44l.94 2.06.94-2.06 2.06-.94-2.06-.94-.94-2.06-.94 2.06-2.06.94zm-11 1L8.5 8.5l.94-2.06 2.06-.94-2.06-.94L8.5 2.5l-.94 2.06-2.06.94zm10 10l.94 2.06.94-2.06 2.06-.94-2.06-.94-.94-2.06-.94 2.06-2.06.94z\"/><path d=\"M17.41 7.96l-1.37-1.37c-.4-.4-.92-.59-1.43-.59-.52 0-1.04.2-1.43.59L10.3 9.45l-7.72 7.72c-.78.78-.78 2.05 0 2.83L4 21.41c.39.39.9.59 1.41.59.51 0 1.02-.2 1.41-.59l7.78-7.78 2.81-2.81c.8-.78.8-2.07 0-2.86zM5.41 20L4 18.59l7.72-7.72 1.47 1.35L5.41 20z\"/>\n",
              "  </svg>\n",
              "      </button>\n",
              "      \n",
              "  <style>\n",
              "    .colab-df-container {\n",
              "      display:flex;\n",
              "      flex-wrap:wrap;\n",
              "      gap: 12px;\n",
              "    }\n",
              "\n",
              "    .colab-df-convert {\n",
              "      background-color: #E8F0FE;\n",
              "      border: none;\n",
              "      border-radius: 50%;\n",
              "      cursor: pointer;\n",
              "      display: none;\n",
              "      fill: #1967D2;\n",
              "      height: 32px;\n",
              "      padding: 0 0 0 0;\n",
              "      width: 32px;\n",
              "    }\n",
              "\n",
              "    .colab-df-convert:hover {\n",
              "      background-color: #E2EBFA;\n",
              "      box-shadow: 0px 1px 2px rgba(60, 64, 67, 0.3), 0px 1px 3px 1px rgba(60, 64, 67, 0.15);\n",
              "      fill: #174EA6;\n",
              "    }\n",
              "\n",
              "    [theme=dark] .colab-df-convert {\n",
              "      background-color: #3B4455;\n",
              "      fill: #D2E3FC;\n",
              "    }\n",
              "\n",
              "    [theme=dark] .colab-df-convert:hover {\n",
              "      background-color: #434B5C;\n",
              "      box-shadow: 0px 1px 3px 1px rgba(0, 0, 0, 0.15);\n",
              "      filter: drop-shadow(0px 1px 2px rgba(0, 0, 0, 0.3));\n",
              "      fill: #FFFFFF;\n",
              "    }\n",
              "  </style>\n",
              "\n",
              "      <script>\n",
              "        const buttonEl =\n",
              "          document.querySelector('#df-2d9dc583-f316-4975-8a3c-ab899dd486d9 button.colab-df-convert');\n",
              "        buttonEl.style.display =\n",
              "          google.colab.kernel.accessAllowed ? 'block' : 'none';\n",
              "\n",
              "        async function convertToInteractive(key) {\n",
              "          const element = document.querySelector('#df-2d9dc583-f316-4975-8a3c-ab899dd486d9');\n",
              "          const dataTable =\n",
              "            await google.colab.kernel.invokeFunction('convertToInteractive',\n",
              "                                                     [key], {});\n",
              "          if (!dataTable) return;\n",
              "\n",
              "          const docLinkHtml = 'Like what you see? Visit the ' +\n",
              "            '<a target=\"_blank\" href=https://colab.research.google.com/notebooks/data_table.ipynb>data table notebook</a>'\n",
              "            + ' to learn more about interactive tables.';\n",
              "          element.innerHTML = '';\n",
              "          dataTable['output_type'] = 'display_data';\n",
              "          await google.colab.output.renderOutput(dataTable, element);\n",
              "          const docLink = document.createElement('div');\n",
              "          docLink.innerHTML = docLinkHtml;\n",
              "          element.appendChild(docLink);\n",
              "        }\n",
              "      </script>\n",
              "    </div>\n",
              "  </div>\n",
              "  "
            ]
          },
          "metadata": {},
          "execution_count": 4
        }
      ]
    },
    {
      "cell_type": "markdown",
      "source": [
        "### Split Data into training and test dataset"
      ],
      "metadata": {
        "id": "ay-YAQM9BODR"
      }
    },
    {
      "cell_type": "code",
      "source": [
        "X_train, X_test, y_train, y_test = train_test_split(X, y, test_size= 0.2, random_state = 1)"
      ],
      "metadata": {
        "id": "tmH0Wm--Bg7I"
      },
      "execution_count": null,
      "outputs": []
    },
    {
      "cell_type": "markdown",
      "source": [
        "### Feature Scaling\n",
        "\n",
        "To scale all the independent variable to a common scale.\n",
        "This is done so that any feature should not dominate other than other feature are not considered.\n",
        "Done using Standardisation\n"
      ],
      "metadata": {
        "id": "ws9ZTAYYfRps"
      }
    },
    {
      "cell_type": "code",
      "source": [
        "sc = StandardScaler()\n",
        "# Scale & Transform\n",
        "X_train = sc.fit_transform(X_train)\n",
        "# Only Transform, use scale of train set\n",
        "X_test = sc.transform(X_test) "
      ],
      "metadata": {
        "id": "Uxwrz_spfSgc"
      },
      "execution_count": null,
      "outputs": []
    },
    {
      "cell_type": "markdown",
      "source": [
        "### RBF Kernel"
      ],
      "metadata": {
        "id": "9Geht7bsk7xr"
      }
    },
    {
      "cell_type": "code",
      "source": [
        "%%time\n",
        "kernel_01 = RBF(length_scale=1.0 , length_scale_bounds=\"fixed\") \n",
        "gp_regressor_01 = GaussianProcessRegressor(kernel=kernel_01, alpha=1e-10, normalize_y=True, )\n",
        "gp_regressor_01.fit(X_train, y_train)\n",
        "print(f\"RBF Lengthscale: {gp_regressor_01.kernel_}\")\n",
        "\n",
        "y_pred_mean_01, y_pred_std_01 = gp_regressor_01.predict(X_test, return_std=True)\n",
        "\n",
        "MSE_01 = mean_absolute_error(y_test, y_pred_mean_01)\n",
        "print(f\"The mean absolute error is : {MSE_01} and the standard deviation is {np.mean(y_pred_std_01)}\")"
      ],
      "metadata": {
        "colab": {
          "base_uri": "https://localhost:8080/"
        },
        "id": "6DYHlrlueTJ2",
        "outputId": "fa14b444-24bb-46b7-8968-0e7b93f7e44c"
      },
      "execution_count": null,
      "outputs": [
        {
          "output_type": "stream",
          "name": "stdout",
          "text": [
            "RBF Lengthscale: RBF(length_scale=1)\n",
            "The mean absolute error is : 12.780257309040605 and the standard deviation is 13.243119062184372\n",
            "CPU times: user 24.8 s, sys: 2.89 s, total: 27.7 s\n",
            "Wall time: 25.6 s\n"
          ]
        }
      ]
    },
    {
      "cell_type": "code",
      "source": [
        "print(len(y_pred_mean_01))\n",
        "print(len(X_test))"
      ],
      "metadata": {
        "colab": {
          "base_uri": "https://localhost:8080/"
        },
        "id": "YQrwH2WijHNP",
        "outputId": "6acc3568-aa58-4fb4-8250-e90de85ab82b"
      },
      "execution_count": null,
      "outputs": [
        {
          "output_type": "stream",
          "name": "stdout",
          "text": [
            "1780\n",
            "1780\n"
          ]
        }
      ]
    },
    {
      "cell_type": "markdown",
      "source": [
        "### RBF and White Noise Kernel"
      ],
      "metadata": {
        "id": "Z6tU7MRwgEyU"
      }
    },
    {
      "cell_type": "code",
      "source": [
        "%%time\n",
        "kernel_02 = RBF(length_scale=1.0 , length_scale_bounds=\"fixed\") + WhiteKernel() \n",
        "gp_regressor_02 = GaussianProcessRegressor(kernel=kernel_02, alpha=1e-10, normalize_y=True, )\n",
        "gp_regressor_02.fit(X_train, y_train)\n",
        "print(f\"RBF Lengthscale: {gp_regressor_02.kernel_}\")\n",
        "\n",
        "y_pred_mean_02, y_pred_std_02 = gp_regressor_02.predict(X_test, return_std=True)\n",
        "\n",
        "MSE_02 = mean_absolute_error(y_test, y_pred_mean_02)\n",
        "print(f\"The mean absolute error is : {MSE_02} and the standard deviation is {np.mean(y_pred_std_02)}\")\n"
      ],
      "metadata": {
        "colab": {
          "base_uri": "https://localhost:8080/"
        },
        "id": "aXEKUp4vgH9k",
        "outputId": "af216f3d-005e-4467-eca2-9601d815256d"
      },
      "execution_count": null,
      "outputs": [
        {
          "output_type": "stream",
          "name": "stdout",
          "text": [
            "RBF Lengthscale: RBF(length_scale=1) + WhiteKernel(noise_level=0.0623)\n",
            "The mean absolute error is : 12.112348132493365 and the standard deviation is 15.461822881996444\n",
            "CPU times: user 6min 18s, sys: 18.3 s, total: 6min 36s\n",
            "Wall time: 4min 11s\n"
          ]
        }
      ]
    },
    {
      "cell_type": "markdown",
      "source": [
        "### RBF, WhiteNoise and DotProduct"
      ],
      "metadata": {
        "id": "tBCwj2NLsQs5"
      }
    },
    {
      "cell_type": "code",
      "source": [
        "%%time\n",
        "kernel_03 = RBF(length_scale=1.0 , length_scale_bounds=\"fixed\") + WhiteKernel() + DotProduct()\n",
        "gp_regressor_03 = GaussianProcessRegressor(kernel=kernel_03, alpha=1e-10, normalize_y=True, )\n",
        "gp_regressor_03.fit(X_train, y_train)\n",
        "print(f\"RBF Lengthscale: {gp_regressor_03.kernel_}\")\n",
        "\n",
        "y_pred_mean_03, y_pred_std_03 = gp_regressor_03.predict(X_test, return_std=True)\n",
        "\n",
        "MSE_03 = mean_absolute_error(y_test, y_pred_mean_03)\n",
        "print(f\"The mean absolute error is : {MSE_03} and the standard deviation is {np.mean(y_pred_std_03)}\")"
      ],
      "metadata": {
        "colab": {
          "base_uri": "https://localhost:8080/"
        },
        "id": "tjhvPoA4sV04",
        "outputId": "0a2263ba-323f-4436-d1b9-aaf6542787ab"
      },
      "execution_count": null,
      "outputs": [
        {
          "output_type": "stream",
          "name": "stdout",
          "text": [
            "RBF Lengthscale: RBF(length_scale=1) + WhiteKernel(noise_level=0.0587) + DotProduct(sigma_0=0.208)\n",
            "The mean absolute error is : 11.59552234486217 and the standard deviation is 15.378903453894651\n",
            "CPU times: user 13min 38s, sys: 45 s, total: 14min 23s\n",
            "Wall time: 9min\n"
          ]
        }
      ]
    },
    {
      "cell_type": "markdown",
      "source": [
        "### Matern Kernel "
      ],
      "metadata": {
        "id": "HkGkjh1ci7ud"
      }
    },
    {
      "cell_type": "code",
      "source": [
        "%%time\n",
        "kernel_04 = Matern() + WhiteKernel() + DotProduct()\n",
        "gp_regressor_04 = GaussianProcessRegressor(kernel=kernel_04, alpha=1e-10, normalize_y=True, )\n",
        "gp_regressor_04.fit(X_train, y_train)\n",
        "print(f\"RBF Lengthscale: {gp_regressor_04.kernel_}\")\n",
        "\n",
        "y_pred_mean_04, y_pred_std_04 = gp_regressor_04.predict(X_test, return_std=True)\n",
        "\n",
        "MSE_04 = mean_absolute_error(y_test, y_pred_mean_04)\n",
        "print(f\"The mean absolute error is : {MSE_04} and the standard deviation is {np.mean(y_pred_std_04)}\")\n"
      ],
      "metadata": {
        "colab": {
          "base_uri": "https://localhost:8080/"
        },
        "id": "LO2cM72kjQmq",
        "outputId": "7224fcec-f387-4722-f96d-e88fe790462b"
      },
      "execution_count": null,
      "outputs": [
        {
          "output_type": "stream",
          "name": "stdout",
          "text": [
            "RBF Lengthscale: Matern(length_scale=1.61, nu=1.5) + WhiteKernel(noise_level=0.0494) + DotProduct(sigma_0=0.319)\n",
            "The mean absolute error is : 10.473892628381293 and the standard deviation is 13.307803251323403\n",
            "CPU times: user 22min 41s, sys: 1min 35s, total: 24min 16s\n",
            "Wall time: 15min 36s\n"
          ]
        }
      ]
    },
    {
      "cell_type": "code",
      "source": [
        "print(y_pred_mean_04)"
      ],
      "metadata": {
        "colab": {
          "base_uri": "https://localhost:8080/"
        },
        "id": "8OP-oPh1iMaS",
        "outputId": "1130ab66-c27f-4395-b49b-9aa0fcb1c051"
      },
      "execution_count": null,
      "outputs": [
        {
          "output_type": "stream",
          "name": "stdout",
          "text": [
            "[47.4979232  48.61736737 46.12558926 ...  5.32489863  8.95842975\n",
            " 21.98854993]\n"
          ]
        }
      ]
    }
  ]
}